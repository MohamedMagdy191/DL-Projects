{
 "cells": [
  {
   "cell_type": "markdown",
   "id": "50e827b4",
   "metadata": {
    "papermill": {
     "duration": 0.015449,
     "end_time": "2023-06-21T16:57:18.292581",
     "exception": false,
     "start_time": "2023-06-21T16:57:18.277132",
     "status": "completed"
    },
    "tags": []
   },
   "source": [
    "# Import Libraries "
   ]
  },
  {
   "cell_type": "code",
   "execution_count": 1,
   "id": "69c430d2",
   "metadata": {
    "execution": {
     "iopub.execute_input": "2023-06-21T16:57:18.321594Z",
     "iopub.status.busy": "2023-06-21T16:57:18.320978Z",
     "iopub.status.idle": "2023-06-21T16:57:24.070582Z",
     "shell.execute_reply": "2023-06-21T16:57:24.069267Z"
    },
    "papermill": {
     "duration": 5.767794,
     "end_time": "2023-06-21T16:57:24.073624",
     "exception": false,
     "start_time": "2023-06-21T16:57:18.305830",
     "status": "completed"
    },
    "tags": []
   },
   "outputs": [],
   "source": [
    "import pandas as pd\n",
    "import numpy as np \n",
    "import matplotlib.pyplot as plt \n",
    "import seaborn as sns\n",
    "\n",
    "import sklearn\n",
    "import sklearn.model_selection\n",
    "\n",
    "import torch\n",
    "import torch.nn as nn\n",
    "from torch.nn.functional import one_hot\n",
    "from torch.utils.data import DataLoader, TensorDataset"
   ]
  },
  {
   "cell_type": "markdown",
   "id": "b51e4682",
   "metadata": {
    "papermill": {
     "duration": 0.013072,
     "end_time": "2023-06-21T16:57:24.099949",
     "exception": false,
     "start_time": "2023-06-21T16:57:24.086877",
     "status": "completed"
    },
    "tags": []
   },
   "source": [
    "# Data Overview\n",
    "\n",
    "* Name: Unique identifier for each automobile.\n",
    "\n",
    "* MPG: Fuel efficiency measured in miles per gallon.\n",
    "\n",
    "* Cylinders: Number of cylinders in the engine.\n",
    "\n",
    "* Displacement: Engine displacement, indicating its size or capacity.\n",
    "\n",
    "* Horsepower: Power output of the engine.\n",
    "\n",
    "* Weight: Weight of the automobile.\n",
    "\n",
    "* Acceleration: Capability to increase speed, measured in seconds.\n",
    "\n",
    "* Model Year: Year of manufacture for the automobile model.\n",
    "\n",
    "* Origin: Country or region of origin for each automobile."
   ]
  },
  {
   "cell_type": "code",
   "execution_count": 2,
   "id": "4656e078",
   "metadata": {
    "execution": {
     "iopub.execute_input": "2023-06-21T16:57:24.128432Z",
     "iopub.status.busy": "2023-06-21T16:57:24.127040Z",
     "iopub.status.idle": "2023-06-21T16:57:24.196232Z",
     "shell.execute_reply": "2023-06-21T16:57:24.195100Z"
    },
    "papermill": {
     "duration": 0.086132,
     "end_time": "2023-06-21T16:57:24.198981",
     "exception": false,
     "start_time": "2023-06-21T16:57:24.112849",
     "status": "completed"
    },
    "tags": []
   },
   "outputs": [
    {
     "data": {
      "text/html": [
       "<div>\n",
       "<style scoped>\n",
       "    .dataframe tbody tr th:only-of-type {\n",
       "        vertical-align: middle;\n",
       "    }\n",
       "\n",
       "    .dataframe tbody tr th {\n",
       "        vertical-align: top;\n",
       "    }\n",
       "\n",
       "    .dataframe thead th {\n",
       "        text-align: right;\n",
       "    }\n",
       "</style>\n",
       "<table border=\"1\" class=\"dataframe\">\n",
       "  <thead>\n",
       "    <tr style=\"text-align: right;\">\n",
       "      <th></th>\n",
       "      <th>name</th>\n",
       "      <th>mpg</th>\n",
       "      <th>cylinders</th>\n",
       "      <th>displacement</th>\n",
       "      <th>horsepower</th>\n",
       "      <th>weight</th>\n",
       "      <th>acceleration</th>\n",
       "      <th>model_year</th>\n",
       "      <th>origin</th>\n",
       "    </tr>\n",
       "  </thead>\n",
       "  <tbody>\n",
       "    <tr>\n",
       "      <th>0</th>\n",
       "      <td>chevrolet chevelle malibu</td>\n",
       "      <td>18.0</td>\n",
       "      <td>8</td>\n",
       "      <td>307.0</td>\n",
       "      <td>130.0</td>\n",
       "      <td>3504</td>\n",
       "      <td>12.0</td>\n",
       "      <td>70</td>\n",
       "      <td>usa</td>\n",
       "    </tr>\n",
       "    <tr>\n",
       "      <th>1</th>\n",
       "      <td>buick skylark 320</td>\n",
       "      <td>15.0</td>\n",
       "      <td>8</td>\n",
       "      <td>350.0</td>\n",
       "      <td>165.0</td>\n",
       "      <td>3693</td>\n",
       "      <td>11.5</td>\n",
       "      <td>70</td>\n",
       "      <td>usa</td>\n",
       "    </tr>\n",
       "    <tr>\n",
       "      <th>2</th>\n",
       "      <td>plymouth satellite</td>\n",
       "      <td>18.0</td>\n",
       "      <td>8</td>\n",
       "      <td>318.0</td>\n",
       "      <td>150.0</td>\n",
       "      <td>3436</td>\n",
       "      <td>11.0</td>\n",
       "      <td>70</td>\n",
       "      <td>usa</td>\n",
       "    </tr>\n",
       "    <tr>\n",
       "      <th>3</th>\n",
       "      <td>amc rebel sst</td>\n",
       "      <td>16.0</td>\n",
       "      <td>8</td>\n",
       "      <td>304.0</td>\n",
       "      <td>150.0</td>\n",
       "      <td>3433</td>\n",
       "      <td>12.0</td>\n",
       "      <td>70</td>\n",
       "      <td>usa</td>\n",
       "    </tr>\n",
       "    <tr>\n",
       "      <th>4</th>\n",
       "      <td>ford torino</td>\n",
       "      <td>17.0</td>\n",
       "      <td>8</td>\n",
       "      <td>302.0</td>\n",
       "      <td>140.0</td>\n",
       "      <td>3449</td>\n",
       "      <td>10.5</td>\n",
       "      <td>70</td>\n",
       "      <td>usa</td>\n",
       "    </tr>\n",
       "  </tbody>\n",
       "</table>\n",
       "</div>"
      ],
      "text/plain": [
       "                        name   mpg  cylinders  displacement  horsepower  \\\n",
       "0  chevrolet chevelle malibu  18.0          8         307.0       130.0   \n",
       "1          buick skylark 320  15.0          8         350.0       165.0   \n",
       "2         plymouth satellite  18.0          8         318.0       150.0   \n",
       "3              amc rebel sst  16.0          8         304.0       150.0   \n",
       "4                ford torino  17.0          8         302.0       140.0   \n",
       "\n",
       "   weight  acceleration  model_year origin  \n",
       "0    3504          12.0          70    usa  \n",
       "1    3693          11.5          70    usa  \n",
       "2    3436          11.0          70    usa  \n",
       "3    3433          12.0          70    usa  \n",
       "4    3449          10.5          70    usa  "
      ]
     },
     "execution_count": 2,
     "metadata": {},
     "output_type": "execute_result"
    }
   ],
   "source": [
    "#read the CSV file in pandas dataframe\n",
    "\n",
    "df = pd.read_csv('/kaggle/input/automobile-dataset/Automobile.csv')\n",
    "df.head()"
   ]
  },
  {
   "cell_type": "code",
   "execution_count": 3,
   "id": "d8cf6bb2",
   "metadata": {
    "execution": {
     "iopub.execute_input": "2023-06-21T16:57:24.227415Z",
     "iopub.status.busy": "2023-06-21T16:57:24.226724Z",
     "iopub.status.idle": "2023-06-21T16:57:24.233606Z",
     "shell.execute_reply": "2023-06-21T16:57:24.232562Z"
    },
    "papermill": {
     "duration": 0.023759,
     "end_time": "2023-06-21T16:57:24.236008",
     "exception": false,
     "start_time": "2023-06-21T16:57:24.212249",
     "status": "completed"
    },
    "tags": []
   },
   "outputs": [
    {
     "name": "stdout",
     "output_type": "stream",
     "text": [
      "Number of instances 398\n",
      "Number of features 9\n"
     ]
    }
   ],
   "source": [
    "#view the shape of data\n",
    "\n",
    "print(\"Number of instances\", df.shape[0])\n",
    "print(\"Number of features\", df.shape[1])"
   ]
  },
  {
   "cell_type": "markdown",
   "id": "2acd2384",
   "metadata": {
    "papermill": {
     "duration": 0.01337,
     "end_time": "2023-06-21T16:57:24.263100",
     "exception": false,
     "start_time": "2023-06-21T16:57:24.249730",
     "status": "completed"
    },
    "tags": []
   },
   "source": [
    "# EDA & Visualizations"
   ]
  },
  {
   "cell_type": "code",
   "execution_count": 4,
   "id": "f1e6c2ca",
   "metadata": {
    "execution": {
     "iopub.execute_input": "2023-06-21T16:57:24.291835Z",
     "iopub.status.busy": "2023-06-21T16:57:24.291415Z",
     "iopub.status.idle": "2023-06-21T16:57:24.306854Z",
     "shell.execute_reply": "2023-06-21T16:57:24.305515Z"
    },
    "papermill": {
     "duration": 0.032791,
     "end_time": "2023-06-21T16:57:24.309132",
     "exception": false,
     "start_time": "2023-06-21T16:57:24.276341",
     "status": "completed"
    },
    "tags": []
   },
   "outputs": [
    {
     "name": "stdout",
     "output_type": "stream",
     "text": [
      "name            0\n",
      "mpg             0\n",
      "cylinders       0\n",
      "displacement    0\n",
      "horsepower      6\n",
      "weight          0\n",
      "acceleration    0\n",
      "model_year      0\n",
      "origin          0\n",
      "dtype: int64\n"
     ]
    }
   ],
   "source": [
    "#checking the missing values\n",
    "\n",
    "print(df.isna().sum())\n",
    "df = df.dropna()\n",
    "df = df.reset_index(drop=True)"
   ]
  },
  {
   "cell_type": "code",
   "execution_count": 5,
   "id": "58b0e433",
   "metadata": {
    "execution": {
     "iopub.execute_input": "2023-06-21T16:57:24.337798Z",
     "iopub.status.busy": "2023-06-21T16:57:24.337370Z",
     "iopub.status.idle": "2023-06-21T16:57:24.345587Z",
     "shell.execute_reply": "2023-06-21T16:57:24.344646Z"
    },
    "papermill": {
     "duration": 0.025388,
     "end_time": "2023-06-21T16:57:24.347783",
     "exception": false,
     "start_time": "2023-06-21T16:57:24.322395",
     "status": "completed"
    },
    "tags": []
   },
   "outputs": [
    {
     "data": {
      "text/plain": [
       "name             object\n",
       "mpg             float64\n",
       "cylinders         int64\n",
       "displacement    float64\n",
       "horsepower      float64\n",
       "weight            int64\n",
       "acceleration    float64\n",
       "model_year        int64\n",
       "origin           object\n",
       "dtype: object"
      ]
     },
     "execution_count": 5,
     "metadata": {},
     "output_type": "execute_result"
    }
   ],
   "source": [
    "#data types of the columns \n",
    "\n",
    "df.dtypes"
   ]
  },
  {
   "cell_type": "code",
   "execution_count": 6,
   "id": "c42257f9",
   "metadata": {
    "execution": {
     "iopub.execute_input": "2023-06-21T16:57:24.376915Z",
     "iopub.status.busy": "2023-06-21T16:57:24.376323Z",
     "iopub.status.idle": "2023-06-21T16:57:24.386002Z",
     "shell.execute_reply": "2023-06-21T16:57:24.385160Z"
    },
    "papermill": {
     "duration": 0.026878,
     "end_time": "2023-06-21T16:57:24.388335",
     "exception": false,
     "start_time": "2023-06-21T16:57:24.361457",
     "status": "completed"
    },
    "tags": []
   },
   "outputs": [
    {
     "data": {
      "text/plain": [
       "array(['usa', 'japan', 'europe'], dtype=object)"
      ]
     },
     "execution_count": 6,
     "metadata": {},
     "output_type": "execute_result"
    }
   ],
   "source": [
    "df.origin.unique()"
   ]
  },
  {
   "cell_type": "code",
   "execution_count": 7,
   "id": "79139136",
   "metadata": {
    "execution": {
     "iopub.execute_input": "2023-06-21T16:57:24.418386Z",
     "iopub.status.busy": "2023-06-21T16:57:24.417766Z",
     "iopub.status.idle": "2023-06-21T16:57:24.426409Z",
     "shell.execute_reply": "2023-06-21T16:57:24.425366Z"
    },
    "papermill": {
     "duration": 0.026323,
     "end_time": "2023-06-21T16:57:24.428714",
     "exception": false,
     "start_time": "2023-06-21T16:57:24.402391",
     "status": "completed"
    },
    "tags": []
   },
   "outputs": [
    {
     "data": {
      "text/plain": [
       "dtype('int64')"
      ]
     },
     "execution_count": 7,
     "metadata": {},
     "output_type": "execute_result"
    }
   ],
   "source": [
    "#replacing the type of data in column \"origin\" to int64\n",
    "\n",
    "df.replace({'origin':{\"usa\": 1 , \"japan\": 2 ,\"europe\":3,}},inplace=True)\n",
    "df.origin.dtype"
   ]
  },
  {
   "cell_type": "code",
   "execution_count": null,
   "id": "161a4fc3",
   "metadata": {
    "papermill": {
     "duration": 0.013623,
     "end_time": "2023-06-21T16:57:24.456363",
     "exception": false,
     "start_time": "2023-06-21T16:57:24.442740",
     "status": "completed"
    },
    "tags": []
   },
   "outputs": [],
   "source": []
  },
  {
   "cell_type": "code",
   "execution_count": 8,
   "id": "815038a7",
   "metadata": {
    "execution": {
     "iopub.execute_input": "2023-06-21T16:57:24.486433Z",
     "iopub.status.busy": "2023-06-21T16:57:24.485648Z",
     "iopub.status.idle": "2023-06-21T16:57:24.524784Z",
     "shell.execute_reply": "2023-06-21T16:57:24.523596Z"
    },
    "papermill": {
     "duration": 0.057494,
     "end_time": "2023-06-21T16:57:24.527806",
     "exception": false,
     "start_time": "2023-06-21T16:57:24.470312",
     "status": "completed"
    },
    "tags": []
   },
   "outputs": [
    {
     "data": {
      "text/html": [
       "<div>\n",
       "<style scoped>\n",
       "    .dataframe tbody tr th:only-of-type {\n",
       "        vertical-align: middle;\n",
       "    }\n",
       "\n",
       "    .dataframe tbody tr th {\n",
       "        vertical-align: top;\n",
       "    }\n",
       "\n",
       "    .dataframe thead th {\n",
       "        text-align: right;\n",
       "    }\n",
       "</style>\n",
       "<table border=\"1\" class=\"dataframe\">\n",
       "  <thead>\n",
       "    <tr style=\"text-align: right;\">\n",
       "      <th></th>\n",
       "      <th>mpg</th>\n",
       "      <th>cylinders</th>\n",
       "      <th>displacement</th>\n",
       "      <th>horsepower</th>\n",
       "      <th>weight</th>\n",
       "      <th>acceleration</th>\n",
       "      <th>model_year</th>\n",
       "      <th>origin</th>\n",
       "    </tr>\n",
       "  </thead>\n",
       "  <tbody>\n",
       "    <tr>\n",
       "      <th>count</th>\n",
       "      <td>392.000000</td>\n",
       "      <td>392.000000</td>\n",
       "      <td>392.000000</td>\n",
       "      <td>392.000000</td>\n",
       "      <td>392.000000</td>\n",
       "      <td>392.000000</td>\n",
       "      <td>392.000000</td>\n",
       "      <td>392.000000</td>\n",
       "    </tr>\n",
       "    <tr>\n",
       "      <th>mean</th>\n",
       "      <td>23.445918</td>\n",
       "      <td>5.471939</td>\n",
       "      <td>194.411990</td>\n",
       "      <td>104.469388</td>\n",
       "      <td>2977.584184</td>\n",
       "      <td>15.541327</td>\n",
       "      <td>75.979592</td>\n",
       "      <td>1.548469</td>\n",
       "    </tr>\n",
       "    <tr>\n",
       "      <th>std</th>\n",
       "      <td>7.805007</td>\n",
       "      <td>1.705783</td>\n",
       "      <td>104.644004</td>\n",
       "      <td>38.491160</td>\n",
       "      <td>849.402560</td>\n",
       "      <td>2.758864</td>\n",
       "      <td>3.683737</td>\n",
       "      <td>0.772082</td>\n",
       "    </tr>\n",
       "    <tr>\n",
       "      <th>min</th>\n",
       "      <td>9.000000</td>\n",
       "      <td>3.000000</td>\n",
       "      <td>68.000000</td>\n",
       "      <td>46.000000</td>\n",
       "      <td>1613.000000</td>\n",
       "      <td>8.000000</td>\n",
       "      <td>70.000000</td>\n",
       "      <td>1.000000</td>\n",
       "    </tr>\n",
       "    <tr>\n",
       "      <th>25%</th>\n",
       "      <td>17.000000</td>\n",
       "      <td>4.000000</td>\n",
       "      <td>105.000000</td>\n",
       "      <td>75.000000</td>\n",
       "      <td>2225.250000</td>\n",
       "      <td>13.775000</td>\n",
       "      <td>73.000000</td>\n",
       "      <td>1.000000</td>\n",
       "    </tr>\n",
       "    <tr>\n",
       "      <th>50%</th>\n",
       "      <td>22.750000</td>\n",
       "      <td>4.000000</td>\n",
       "      <td>151.000000</td>\n",
       "      <td>93.500000</td>\n",
       "      <td>2803.500000</td>\n",
       "      <td>15.500000</td>\n",
       "      <td>76.000000</td>\n",
       "      <td>1.000000</td>\n",
       "    </tr>\n",
       "    <tr>\n",
       "      <th>75%</th>\n",
       "      <td>29.000000</td>\n",
       "      <td>8.000000</td>\n",
       "      <td>275.750000</td>\n",
       "      <td>126.000000</td>\n",
       "      <td>3614.750000</td>\n",
       "      <td>17.025000</td>\n",
       "      <td>79.000000</td>\n",
       "      <td>2.000000</td>\n",
       "    </tr>\n",
       "    <tr>\n",
       "      <th>max</th>\n",
       "      <td>46.600000</td>\n",
       "      <td>8.000000</td>\n",
       "      <td>455.000000</td>\n",
       "      <td>230.000000</td>\n",
       "      <td>5140.000000</td>\n",
       "      <td>24.800000</td>\n",
       "      <td>82.000000</td>\n",
       "      <td>3.000000</td>\n",
       "    </tr>\n",
       "  </tbody>\n",
       "</table>\n",
       "</div>"
      ],
      "text/plain": [
       "              mpg   cylinders  displacement  horsepower       weight  \\\n",
       "count  392.000000  392.000000    392.000000  392.000000   392.000000   \n",
       "mean    23.445918    5.471939    194.411990  104.469388  2977.584184   \n",
       "std      7.805007    1.705783    104.644004   38.491160   849.402560   \n",
       "min      9.000000    3.000000     68.000000   46.000000  1613.000000   \n",
       "25%     17.000000    4.000000    105.000000   75.000000  2225.250000   \n",
       "50%     22.750000    4.000000    151.000000   93.500000  2803.500000   \n",
       "75%     29.000000    8.000000    275.750000  126.000000  3614.750000   \n",
       "max     46.600000    8.000000    455.000000  230.000000  5140.000000   \n",
       "\n",
       "       acceleration  model_year      origin  \n",
       "count    392.000000  392.000000  392.000000  \n",
       "mean      15.541327   75.979592    1.548469  \n",
       "std        2.758864    3.683737    0.772082  \n",
       "min        8.000000   70.000000    1.000000  \n",
       "25%       13.775000   73.000000    1.000000  \n",
       "50%       15.500000   76.000000    1.000000  \n",
       "75%       17.025000   79.000000    2.000000  \n",
       "max       24.800000   82.000000    3.000000  "
      ]
     },
     "execution_count": 8,
     "metadata": {},
     "output_type": "execute_result"
    }
   ],
   "source": [
    "# statistical info describes the numerical data \n",
    "\n",
    "df.describe()"
   ]
  },
  {
   "cell_type": "markdown",
   "id": "a8771e31",
   "metadata": {
    "papermill": {
     "duration": 0.014054,
     "end_time": "2023-06-21T16:57:24.556081",
     "exception": false,
     "start_time": "2023-06-21T16:57:24.542027",
     "status": "completed"
    },
    "tags": []
   },
   "source": [
    "## Car brands in the dataset"
   ]
  },
  {
   "cell_type": "code",
   "execution_count": 9,
   "id": "d9a80881",
   "metadata": {
    "execution": {
     "iopub.execute_input": "2023-06-21T16:57:24.586089Z",
     "iopub.status.busy": "2023-06-21T16:57:24.585694Z",
     "iopub.status.idle": "2023-06-21T16:57:24.595781Z",
     "shell.execute_reply": "2023-06-21T16:57:24.594463Z"
    },
    "papermill": {
     "duration": 0.028091,
     "end_time": "2023-06-21T16:57:24.598347",
     "exception": false,
     "start_time": "2023-06-21T16:57:24.570256",
     "status": "completed"
    },
    "tags": []
   },
   "outputs": [
    {
     "data": {
      "text/plain": [
       "array(['chevrolet chevelle malibu', 'buick skylark 320',\n",
       "       'plymouth satellite', 'amc rebel sst', 'ford torino',\n",
       "       'ford galaxie 500', 'chevrolet impala', 'plymouth fury iii',\n",
       "       'pontiac catalina', 'amc ambassador dpl', 'dodge challenger se',\n",
       "       \"plymouth 'cuda 340\", 'chevrolet monte carlo',\n",
       "       'buick estate wagon (sw)', 'toyota corona mark ii',\n",
       "       'plymouth duster', 'amc hornet', 'ford maverick', 'datsun pl510',\n",
       "       'volkswagen 1131 deluxe sedan', 'peugeot 504', 'audi 100 ls',\n",
       "       'saab 99e', 'bmw 2002', 'amc gremlin', 'ford f250', 'chevy c20',\n",
       "       'dodge d200', 'hi 1200d', 'chevrolet vega 2300', 'toyota corona',\n",
       "       'plymouth satellite custom', 'ford torino 500', 'amc matador',\n",
       "       'pontiac catalina brougham', 'dodge monaco (sw)',\n",
       "       'ford country squire (sw)', 'pontiac safari (sw)',\n",
       "       'amc hornet sportabout (sw)', 'chevrolet vega (sw)',\n",
       "       'pontiac firebird', 'ford mustang', 'mercury capri 2000',\n",
       "       'opel 1900', 'peugeot 304', 'fiat 124b', 'toyota corolla 1200',\n",
       "       'datsun 1200', 'volkswagen model 111', 'plymouth cricket',\n",
       "       'toyota corona hardtop', 'dodge colt hardtop', 'volkswagen type 3',\n",
       "       'chevrolet vega', 'ford pinto runabout', 'amc ambassador sst',\n",
       "       'mercury marquis', 'buick lesabre custom',\n",
       "       'oldsmobile delta 88 royale', 'chrysler newport royal',\n",
       "       'mazda rx2 coupe', 'amc matador (sw)',\n",
       "       'chevrolet chevelle concours (sw)', 'ford gran torino (sw)',\n",
       "       'plymouth satellite custom (sw)', 'volvo 145e (sw)',\n",
       "       'volkswagen 411 (sw)', 'peugeot 504 (sw)', 'renault 12 (sw)',\n",
       "       'ford pinto (sw)', 'datsun 510 (sw)',\n",
       "       'toyouta corona mark ii (sw)', 'dodge colt (sw)',\n",
       "       'toyota corolla 1600 (sw)', 'buick century 350',\n",
       "       'chevrolet malibu', 'ford gran torino', 'dodge coronet custom',\n",
       "       'mercury marquis brougham', 'chevrolet caprice classic',\n",
       "       'ford ltd', 'plymouth fury gran sedan',\n",
       "       'chrysler new yorker brougham', 'buick electra 225 custom',\n",
       "       'amc ambassador brougham', 'plymouth valiant',\n",
       "       'chevrolet nova custom', 'volkswagen super beetle', 'ford country',\n",
       "       'plymouth custom suburb', 'oldsmobile vista cruiser',\n",
       "       'toyota carina', 'datsun 610', 'maxda rx3', 'ford pinto',\n",
       "       'mercury capri v6', 'fiat 124 sport coupe',\n",
       "       'chevrolet monte carlo s', 'pontiac grand prix', 'fiat 128',\n",
       "       'opel manta', 'audi 100ls', 'volvo 144ea', 'dodge dart custom',\n",
       "       'saab 99le', 'toyota mark ii', 'oldsmobile omega',\n",
       "       'chevrolet nova', 'datsun b210',\n",
       "       'chevrolet chevelle malibu classic', 'plymouth satellite sebring',\n",
       "       'buick century luxus (sw)', 'dodge coronet custom (sw)',\n",
       "       'audi fox', 'volkswagen dasher', 'datsun 710', 'dodge colt',\n",
       "       'fiat 124 tc', 'honda civic', 'subaru', 'fiat x1.9',\n",
       "       'plymouth valiant custom', 'mercury monarch', 'chevrolet bel air',\n",
       "       'plymouth grand fury', 'buick century',\n",
       "       'chevroelt chevelle malibu', 'plymouth fury', 'buick skyhawk',\n",
       "       'chevrolet monza 2+2', 'ford mustang ii', 'toyota corolla',\n",
       "       'pontiac astro', 'volkswagen rabbit', 'amc pacer', 'volvo 244dl',\n",
       "       'honda civic cvcc', 'fiat 131', 'capri ii', 'renault 12tl',\n",
       "       'dodge coronet brougham', 'chevrolet chevette', 'chevrolet woody',\n",
       "       'vw rabbit', 'dodge aspen se', 'ford granada ghia',\n",
       "       'pontiac ventura sj', 'amc pacer d/l', 'datsun b-210', 'volvo 245',\n",
       "       'plymouth volare premier v8', 'mercedes-benz 280s',\n",
       "       'cadillac seville', 'chevy c10', 'ford f108', 'dodge d100',\n",
       "       'honda accord cvcc', 'buick opel isuzu deluxe', 'renault 5 gtl',\n",
       "       'plymouth arrow gs', 'datsun f-10 hatchback',\n",
       "       'oldsmobile cutlass supreme', 'dodge monaco brougham',\n",
       "       'mercury cougar brougham', 'chevrolet concours', 'buick skylark',\n",
       "       'plymouth volare custom', 'ford granada', 'pontiac grand prix lj',\n",
       "       'chevrolet monte carlo landau', 'chrysler cordoba',\n",
       "       'ford thunderbird', 'volkswagen rabbit custom',\n",
       "       'pontiac sunbird coupe', 'toyota corolla liftback',\n",
       "       'ford mustang ii 2+2', 'dodge colt m/m', 'subaru dl', 'datsun 810',\n",
       "       'bmw 320i', 'mazda rx-4', 'volkswagen rabbit custom diesel',\n",
       "       'ford fiesta', 'mazda glc deluxe', 'datsun b210 gx',\n",
       "       'oldsmobile cutlass salon brougham', 'dodge diplomat',\n",
       "       'mercury monarch ghia', 'pontiac phoenix lj',\n",
       "       'ford fairmont (auto)', 'ford fairmont (man)', 'plymouth volare',\n",
       "       'amc concord', 'buick century special', 'mercury zephyr',\n",
       "       'dodge aspen', 'amc concord d/l',\n",
       "       'buick regal sport coupe (turbo)', 'ford futura',\n",
       "       'dodge magnum xe', 'datsun 510', 'dodge omni',\n",
       "       'toyota celica gt liftback', 'plymouth sapporo',\n",
       "       'oldsmobile starfire sx', 'datsun 200-sx', 'audi 5000',\n",
       "       'volvo 264gl', 'saab 99gle', 'peugeot 604sl',\n",
       "       'volkswagen scirocco', 'honda accord lx', 'pontiac lemans v6',\n",
       "       'mercury zephyr 6', 'ford fairmont 4', 'amc concord dl 6',\n",
       "       'dodge aspen 6', 'ford ltd landau', 'mercury grand marquis',\n",
       "       'dodge st. regis', 'chevrolet malibu classic (sw)',\n",
       "       'chrysler lebaron town @ country (sw)', 'vw rabbit custom',\n",
       "       'maxda glc deluxe', 'dodge colt hatchback custom', 'amc spirit dl',\n",
       "       'mercedes benz 300d', 'cadillac eldorado', 'plymouth horizon',\n",
       "       'plymouth horizon tc3', 'datsun 210', 'fiat strada custom',\n",
       "       'buick skylark limited', 'chevrolet citation',\n",
       "       'oldsmobile omega brougham', 'pontiac phoenix',\n",
       "       'toyota corolla tercel', 'datsun 310', 'ford fairmont',\n",
       "       'audi 4000', 'toyota corona liftback', 'mazda 626',\n",
       "       'datsun 510 hatchback', 'mazda glc', 'vw rabbit c (diesel)',\n",
       "       'vw dasher (diesel)', 'audi 5000s (diesel)', 'mercedes-benz 240d',\n",
       "       'honda civic 1500 gl', 'vokswagen rabbit', 'datsun 280-zx',\n",
       "       'mazda rx-7 gs', 'triumph tr7 coupe', 'honda accord',\n",
       "       'plymouth reliant', 'dodge aries wagon (sw)', 'toyota starlet',\n",
       "       'plymouth champ', 'honda civic 1300', 'datsun 210 mpg',\n",
       "       'toyota tercel', 'mazda glc 4', 'plymouth horizon 4',\n",
       "       'ford escort 4w', 'ford escort 2h', 'volkswagen jetta',\n",
       "       'honda prelude', 'datsun 200sx', 'peugeot 505s turbo diesel',\n",
       "       'volvo diesel', 'toyota cressida', 'datsun 810 maxima',\n",
       "       'oldsmobile cutlass ls', 'ford granada gl',\n",
       "       'chrysler lebaron salon', 'chevrolet cavalier',\n",
       "       'chevrolet cavalier wagon', 'chevrolet cavalier 2-door',\n",
       "       'pontiac j2000 se hatchback', 'dodge aries se',\n",
       "       'ford fairmont futura', 'volkswagen rabbit l',\n",
       "       'mazda glc custom l', 'mazda glc custom', 'plymouth horizon miser',\n",
       "       'mercury lynx l', 'nissan stanza xe', 'honda civic (auto)',\n",
       "       'datsun 310 gx', 'buick century limited',\n",
       "       'oldsmobile cutlass ciera (diesel)', 'chrysler lebaron medallion',\n",
       "       'ford granada l', 'toyota celica gt', 'dodge charger 2.2',\n",
       "       'chevrolet camaro', 'ford mustang gl', 'vw pickup',\n",
       "       'dodge rampage', 'ford ranger', 'chevy s-10'], dtype=object)"
      ]
     },
     "execution_count": 9,
     "metadata": {},
     "output_type": "execute_result"
    }
   ],
   "source": [
    "df.name.unique()"
   ]
  },
  {
   "cell_type": "code",
   "execution_count": 10,
   "id": "e5f60ce9",
   "metadata": {
    "execution": {
     "iopub.execute_input": "2023-06-21T16:57:24.630406Z",
     "iopub.status.busy": "2023-06-21T16:57:24.629399Z",
     "iopub.status.idle": "2023-06-21T16:57:24.639010Z",
     "shell.execute_reply": "2023-06-21T16:57:24.637877Z"
    },
    "papermill": {
     "duration": 0.028201,
     "end_time": "2023-06-21T16:57:24.641628",
     "exception": false,
     "start_time": "2023-06-21T16:57:24.613427",
     "status": "completed"
    },
    "tags": []
   },
   "outputs": [
    {
     "data": {
      "text/plain": [
       "array(['chevrolet', 'buick', 'plymouth', 'amc', 'ford', 'pontiac',\n",
       "       'dodge', 'toyota', 'datsun', 'volkswagen', 'peugeot', 'audi',\n",
       "       'saab', 'bmw', 'chevy', 'hi', 'mercury', 'opel', 'fiat',\n",
       "       'oldsmobile', 'chrysler', 'mazda', 'volvo', 'renault', 'toyouta',\n",
       "       'maxda', 'honda', 'subaru', 'chevroelt', 'capri', 'vw',\n",
       "       'mercedes-benz', 'cadillac', 'mercedes', 'vokswagen', 'triumph',\n",
       "       'nissan'], dtype=object)"
      ]
     },
     "execution_count": 10,
     "metadata": {},
     "output_type": "execute_result"
    }
   ],
   "source": [
    "# editing the column to be just the name of car's brand \n",
    "\n",
    "df['name'] = df['name'].apply(lambda x: x.split(' ')[0])\n",
    "\n",
    "df.name.unique()"
   ]
  },
  {
   "cell_type": "code",
   "execution_count": 11,
   "id": "87239beb",
   "metadata": {
    "execution": {
     "iopub.execute_input": "2023-06-21T16:57:24.673156Z",
     "iopub.status.busy": "2023-06-21T16:57:24.672722Z",
     "iopub.status.idle": "2023-06-21T16:57:24.681678Z",
     "shell.execute_reply": "2023-06-21T16:57:24.680548Z"
    },
    "papermill": {
     "duration": 0.027842,
     "end_time": "2023-06-21T16:57:24.684373",
     "exception": false,
     "start_time": "2023-06-21T16:57:24.656531",
     "status": "completed"
    },
    "tags": []
   },
   "outputs": [],
   "source": [
    "# editing typos in names of cars to be correct\n",
    "\n",
    "df.replace({'name':{\"maxda\":\"mazda\" , \n",
    "                        \"toyouta\":\"toyota\" ,\"vokswagen\":\"volkswagen\",\n",
    "                        \"vw\":\"volkswagen\",\"mercedes-benz\":\"mercedes\",\n",
    "                        \"chevroelt\":\"chevrolet\",\"chevy\":\"chevrolet\"}},inplace=True)"
   ]
  },
  {
   "cell_type": "code",
   "execution_count": 12,
   "id": "9551319c",
   "metadata": {
    "execution": {
     "iopub.execute_input": "2023-06-21T16:57:24.716555Z",
     "iopub.status.busy": "2023-06-21T16:57:24.715741Z",
     "iopub.status.idle": "2023-06-21T16:57:24.728581Z",
     "shell.execute_reply": "2023-06-21T16:57:24.727283Z"
    },
    "papermill": {
     "duration": 0.031381,
     "end_time": "2023-06-21T16:57:24.730959",
     "exception": false,
     "start_time": "2023-06-21T16:57:24.699578",
     "status": "completed"
    },
    "tags": []
   },
   "outputs": [
    {
     "data": {
      "text/plain": [
       "ford          48\n",
       "chevrolet     47\n",
       "plymouth      31\n",
       "dodge         28\n",
       "amc           27\n",
       "toyota        26\n",
       "datsun        23\n",
       "volkswagen    22\n",
       "buick         17\n",
       "pontiac       16\n",
       "honda         13\n",
       "mazda         12\n",
       "mercury       11\n",
       "oldsmobile    10\n",
       "fiat           8\n",
       "Name: name, dtype: int64"
      ]
     },
     "execution_count": 12,
     "metadata": {},
     "output_type": "execute_result"
    }
   ],
   "source": [
    "#the top 15 car brans represted in the dataset\n",
    "\n",
    "names = df.name.value_counts().head(15)\n",
    "names"
   ]
  },
  {
   "cell_type": "code",
   "execution_count": 13,
   "id": "03fa10ca",
   "metadata": {
    "execution": {
     "iopub.execute_input": "2023-06-21T16:57:24.763438Z",
     "iopub.status.busy": "2023-06-21T16:57:24.763027Z",
     "iopub.status.idle": "2023-06-21T16:57:25.262133Z",
     "shell.execute_reply": "2023-06-21T16:57:25.261213Z"
    },
    "papermill": {
     "duration": 0.518705,
     "end_time": "2023-06-21T16:57:25.264701",
     "exception": false,
     "start_time": "2023-06-21T16:57:24.745996",
     "status": "completed"
    },
    "tags": []
   },
   "outputs": [
    {
     "data": {
      "image/png": "[encoded data removed]",
      "text/plain": [
       "<Figure size 800x400 with 1 Axes>"
      ]
     },
     "metadata": {},
     "output_type": "display_data"
    }
   ],
   "source": [
    "plt.figure(figsize=(8,4))\n",
    "plt.xticks(rotation=75)\n",
    "plt.title(\"The Counts of Top 10 Car Brands\")\n",
    "plt.ylabel('Counts')\n",
    "plt.xlabel('Car Brand')\n",
    "\n",
    "sns.barplot(x=names.index, y= names.values);"
   ]
  },
  {
   "cell_type": "markdown",
   "id": "620bd69a",
   "metadata": {
    "papermill": {
     "duration": 0.016967,
     "end_time": "2023-06-21T16:57:25.297374",
     "exception": false,
     "start_time": "2023-06-21T16:57:25.280407",
     "status": "completed"
    },
    "tags": []
   },
   "source": [
    "## Correlation between all features"
   ]
  },
  {
   "cell_type": "code",
   "execution_count": 14,
   "id": "fa3842f8",
   "metadata": {
    "execution": {
     "iopub.execute_input": "2023-06-21T16:57:25.331298Z",
     "iopub.status.busy": "2023-06-21T16:57:25.330296Z",
     "iopub.status.idle": "2023-06-21T16:57:25.352534Z",
     "shell.execute_reply": "2023-06-21T16:57:25.351398Z"
    },
    "papermill": {
     "duration": 0.041978,
     "end_time": "2023-06-21T16:57:25.355094",
     "exception": false,
     "start_time": "2023-06-21T16:57:25.313116",
     "status": "completed"
    },
    "tags": []
   },
   "outputs": [
    {
     "name": "stderr",
     "output_type": "stream",
     "text": [
      "/tmp/ipykernel_21/723122101.py:3: FutureWarning: The default value of numeric_only in DataFrame.corr is deprecated. In a future version, it will default to False. Select only valid columns or specify the value of numeric_only to silence this warning.\n",
      "  correlation = df.corr()\n"
     ]
    },
    {
     "data": {
      "text/html": [
       "<div>\n",
       "<style scoped>\n",
       "    .dataframe tbody tr th:only-of-type {\n",
       "        vertical-align: middle;\n",
       "    }\n",
       "\n",
       "    .dataframe tbody tr th {\n",
       "        vertical-align: top;\n",
       "    }\n",
       "\n",
       "    .dataframe thead th {\n",
       "        text-align: right;\n",
       "    }\n",
       "</style>\n",
       "<table border=\"1\" class=\"dataframe\">\n",
       "  <thead>\n",
       "    <tr style=\"text-align: right;\">\n",
       "      <th></th>\n",
       "      <th>mpg</th>\n",
       "      <th>cylinders</th>\n",
       "      <th>displacement</th>\n",
       "      <th>horsepower</th>\n",
       "      <th>weight</th>\n",
       "      <th>acceleration</th>\n",
       "      <th>model_year</th>\n",
       "      <th>origin</th>\n",
       "    </tr>\n",
       "  </thead>\n",
       "  <tbody>\n",
       "    <tr>\n",
       "      <th>mpg</th>\n",
       "      <td>1.000000</td>\n",
       "      <td>-0.777618</td>\n",
       "      <td>-0.805127</td>\n",
       "      <td>-0.778427</td>\n",
       "      <td>-0.832244</td>\n",
       "      <td>0.423329</td>\n",
       "      <td>0.580541</td>\n",
       "      <td>0.474800</td>\n",
       "    </tr>\n",
       "    <tr>\n",
       "      <th>cylinders</th>\n",
       "      <td>-0.777618</td>\n",
       "      <td>1.000000</td>\n",
       "      <td>0.950823</td>\n",
       "      <td>0.842983</td>\n",
       "      <td>0.897527</td>\n",
       "      <td>-0.504683</td>\n",
       "      <td>-0.345647</td>\n",
       "      <td>-0.556302</td>\n",
       "    </tr>\n",
       "    <tr>\n",
       "      <th>displacement</th>\n",
       "      <td>-0.805127</td>\n",
       "      <td>0.950823</td>\n",
       "      <td>1.000000</td>\n",
       "      <td>0.897257</td>\n",
       "      <td>0.932994</td>\n",
       "      <td>-0.543800</td>\n",
       "      <td>-0.369855</td>\n",
       "      <td>-0.594314</td>\n",
       "    </tr>\n",
       "    <tr>\n",
       "      <th>horsepower</th>\n",
       "      <td>-0.778427</td>\n",
       "      <td>0.842983</td>\n",
       "      <td>0.897257</td>\n",
       "      <td>1.000000</td>\n",
       "      <td>0.864538</td>\n",
       "      <td>-0.689196</td>\n",
       "      <td>-0.416361</td>\n",
       "      <td>-0.447330</td>\n",
       "    </tr>\n",
       "    <tr>\n",
       "      <th>weight</th>\n",
       "      <td>-0.832244</td>\n",
       "      <td>0.897527</td>\n",
       "      <td>0.932994</td>\n",
       "      <td>0.864538</td>\n",
       "      <td>1.000000</td>\n",
       "      <td>-0.416839</td>\n",
       "      <td>-0.309120</td>\n",
       "      <td>-0.521609</td>\n",
       "    </tr>\n",
       "    <tr>\n",
       "      <th>acceleration</th>\n",
       "      <td>0.423329</td>\n",
       "      <td>-0.504683</td>\n",
       "      <td>-0.543800</td>\n",
       "      <td>-0.689196</td>\n",
       "      <td>-0.416839</td>\n",
       "      <td>1.000000</td>\n",
       "      <td>0.290316</td>\n",
       "      <td>0.264409</td>\n",
       "    </tr>\n",
       "    <tr>\n",
       "      <th>model_year</th>\n",
       "      <td>0.580541</td>\n",
       "      <td>-0.345647</td>\n",
       "      <td>-0.369855</td>\n",
       "      <td>-0.416361</td>\n",
       "      <td>-0.309120</td>\n",
       "      <td>0.290316</td>\n",
       "      <td>1.000000</td>\n",
       "      <td>0.066892</td>\n",
       "    </tr>\n",
       "    <tr>\n",
       "      <th>origin</th>\n",
       "      <td>0.474800</td>\n",
       "      <td>-0.556302</td>\n",
       "      <td>-0.594314</td>\n",
       "      <td>-0.447330</td>\n",
       "      <td>-0.521609</td>\n",
       "      <td>0.264409</td>\n",
       "      <td>0.066892</td>\n",
       "      <td>1.000000</td>\n",
       "    </tr>\n",
       "  </tbody>\n",
       "</table>\n",
       "</div>"
      ],
      "text/plain": [
       "                   mpg  cylinders  displacement  horsepower    weight  \\\n",
       "mpg           1.000000  -0.777618     -0.805127   -0.778427 -0.832244   \n",
       "cylinders    -0.777618   1.000000      0.950823    0.842983  0.897527   \n",
       "displacement -0.805127   0.950823      1.000000    0.897257  0.932994   \n",
       "horsepower   -0.778427   0.842983      0.897257    1.000000  0.864538   \n",
       "weight       -0.832244   0.897527      0.932994    0.864538  1.000000   \n",
       "acceleration  0.423329  -0.504683     -0.543800   -0.689196 -0.416839   \n",
       "model_year    0.580541  -0.345647     -0.369855   -0.416361 -0.309120   \n",
       "origin        0.474800  -0.556302     -0.594314   -0.447330 -0.521609   \n",
       "\n",
       "              acceleration  model_year    origin  \n",
       "mpg               0.423329    0.580541  0.474800  \n",
       "cylinders        -0.504683   -0.345647 -0.556302  \n",
       "displacement     -0.543800   -0.369855 -0.594314  \n",
       "horsepower       -0.689196   -0.416361 -0.447330  \n",
       "weight           -0.416839   -0.309120 -0.521609  \n",
       "acceleration      1.000000    0.290316  0.264409  \n",
       "model_year        0.290316    1.000000  0.066892  \n",
       "origin            0.264409    0.066892  1.000000  "
      ]
     },
     "execution_count": 14,
     "metadata": {},
     "output_type": "execute_result"
    }
   ],
   "source": [
    "# Computing pairwise correlation of all features\n",
    "\n",
    "correlation = df.corr()\n",
    "correlation "
   ]
  },
  {
   "cell_type": "code",
   "execution_count": 15,
   "id": "a6539f25",
   "metadata": {
    "execution": {
     "iopub.execute_input": "2023-06-21T16:57:25.389531Z",
     "iopub.status.busy": "2023-06-21T16:57:25.389070Z",
     "iopub.status.idle": "2023-06-21T16:57:26.297960Z",
     "shell.execute_reply": "2023-06-21T16:57:26.297103Z"
    },
    "papermill": {
     "duration": 0.929059,
     "end_time": "2023-06-21T16:57:26.300733",
     "exception": false,
     "start_time": "2023-06-21T16:57:25.371674",
     "status": "completed"
    },
    "tags": []
   },
   "outputs": [
    {
     "data": {
      "image/png": "[encoded data removed]",
      "text/plain": [
       "<Figure size 1200x600 with 2 Axes>"
      ]
     },
     "metadata": {},
     "output_type": "display_data"
    }
   ],
   "source": [
    "# Correlation heat map\n",
    "\n",
    "color_palette = sns.color_palette(n_colors=4)\n",
    "plt.figure(figsize=(12,6))\n",
    "sns.heatmap(correlation, annot=True, cmap=color_palette, linewidths=0.5)\n",
    "plt.title(\"Correlation between features\")\n",
    "plt.xticks(rotation = 0)\n",
    "plt.tight_layout()\n",
    "plt.show()"
   ]
  },
  {
   "cell_type": "markdown",
   "id": "28fda137",
   "metadata": {
    "papermill": {
     "duration": 0.016837,
     "end_time": "2023-06-21T16:57:26.334846",
     "exception": false,
     "start_time": "2023-06-21T16:57:26.318009",
     "status": "completed"
    },
    "tags": []
   },
   "source": [
    "# Building Regression Model\n",
    "\n",
    "Regression model will be builded to predict the Fuel efficiency measured in miles per gallon (mpg) using the features provided:\n",
    "\n",
    "'name', 'mpg', 'cylinders', 'displacement', 'horsepower', 'weight', 'acceleration' ,'model_year', 'origin'"
   ]
  },
  {
   "cell_type": "markdown",
   "id": "38a32ca9",
   "metadata": {
    "papermill": {
     "duration": 0.017886,
     "end_time": "2023-06-21T16:57:26.369878",
     "exception": false,
     "start_time": "2023-06-21T16:57:26.351992",
     "status": "completed"
    },
    "tags": []
   },
   "source": [
    "## Splitting data "
   ]
  },
  {
   "cell_type": "code",
   "execution_count": 16,
   "id": "d6d0cd12",
   "metadata": {
    "execution": {
     "iopub.execute_input": "2023-06-21T16:57:26.407763Z",
     "iopub.status.busy": "2023-06-21T16:57:26.406689Z",
     "iopub.status.idle": "2023-06-21T16:57:26.414597Z",
     "shell.execute_reply": "2023-06-21T16:57:26.413456Z"
    },
    "papermill": {
     "duration": 0.029535,
     "end_time": "2023-06-21T16:57:26.417108",
     "exception": false,
     "start_time": "2023-06-21T16:57:26.387573",
     "status": "completed"
    },
    "tags": []
   },
   "outputs": [],
   "source": [
    "#splitting the data into train and test sets\n",
    "\n",
    "df_train, df_test = sklearn.model_selection.train_test_split(df, train_size=0.8, random_state=1)"
   ]
  },
  {
   "cell_type": "markdown",
   "id": "71eac475",
   "metadata": {
    "papermill": {
     "duration": 0.016816,
     "end_time": "2023-06-21T16:57:26.451147",
     "exception": false,
     "start_time": "2023-06-21T16:57:26.434331",
     "status": "completed"
    },
    "tags": []
   },
   "source": [
    "## Feature normalization "
   ]
  },
  {
   "cell_type": "code",
   "execution_count": 17,
   "id": "351dfcea",
   "metadata": {
    "execution": {
     "iopub.execute_input": "2023-06-21T16:57:26.487903Z",
     "iopub.status.busy": "2023-06-21T16:57:26.487488Z",
     "iopub.status.idle": "2023-06-21T16:57:26.528666Z",
     "shell.execute_reply": "2023-06-21T16:57:26.527551Z"
    },
    "papermill": {
     "duration": 0.062332,
     "end_time": "2023-06-21T16:57:26.531146",
     "exception": false,
     "start_time": "2023-06-21T16:57:26.468814",
     "status": "completed"
    },
    "tags": []
   },
   "outputs": [
    {
     "data": {
      "text/html": [
       "<div>\n",
       "<style scoped>\n",
       "    .dataframe tbody tr th:only-of-type {\n",
       "        vertical-align: middle;\n",
       "    }\n",
       "\n",
       "    .dataframe tbody tr th {\n",
       "        vertical-align: top;\n",
       "    }\n",
       "\n",
       "    .dataframe thead th {\n",
       "        text-align: right;\n",
       "    }\n",
       "</style>\n",
       "<table border=\"1\" class=\"dataframe\">\n",
       "  <thead>\n",
       "    <tr style=\"text-align: right;\">\n",
       "      <th></th>\n",
       "      <th>count</th>\n",
       "      <th>mean</th>\n",
       "      <th>std</th>\n",
       "      <th>min</th>\n",
       "      <th>25%</th>\n",
       "      <th>50%</th>\n",
       "      <th>75%</th>\n",
       "      <th>max</th>\n",
       "    </tr>\n",
       "  </thead>\n",
       "  <tbody>\n",
       "    <tr>\n",
       "      <th>mpg</th>\n",
       "      <td>313.0</td>\n",
       "      <td>23.404153</td>\n",
       "      <td>7.666909</td>\n",
       "      <td>9.0</td>\n",
       "      <td>17.5</td>\n",
       "      <td>23.0</td>\n",
       "      <td>29.0</td>\n",
       "      <td>46.6</td>\n",
       "    </tr>\n",
       "    <tr>\n",
       "      <th>cylinders</th>\n",
       "      <td>313.0</td>\n",
       "      <td>5.402556</td>\n",
       "      <td>1.701506</td>\n",
       "      <td>3.0</td>\n",
       "      <td>4.0</td>\n",
       "      <td>4.0</td>\n",
       "      <td>8.0</td>\n",
       "      <td>8.0</td>\n",
       "    </tr>\n",
       "    <tr>\n",
       "      <th>displacement</th>\n",
       "      <td>313.0</td>\n",
       "      <td>189.512780</td>\n",
       "      <td>102.675646</td>\n",
       "      <td>68.0</td>\n",
       "      <td>104.0</td>\n",
       "      <td>140.0</td>\n",
       "      <td>260.0</td>\n",
       "      <td>455.0</td>\n",
       "    </tr>\n",
       "    <tr>\n",
       "      <th>horsepower</th>\n",
       "      <td>313.0</td>\n",
       "      <td>102.929712</td>\n",
       "      <td>37.919046</td>\n",
       "      <td>46.0</td>\n",
       "      <td>75.0</td>\n",
       "      <td>92.0</td>\n",
       "      <td>120.0</td>\n",
       "      <td>230.0</td>\n",
       "    </tr>\n",
       "    <tr>\n",
       "      <th>weight</th>\n",
       "      <td>313.0</td>\n",
       "      <td>2961.198083</td>\n",
       "      <td>848.602146</td>\n",
       "      <td>1613.0</td>\n",
       "      <td>2219.0</td>\n",
       "      <td>2755.0</td>\n",
       "      <td>3574.0</td>\n",
       "      <td>5140.0</td>\n",
       "    </tr>\n",
       "    <tr>\n",
       "      <th>acceleration</th>\n",
       "      <td>313.0</td>\n",
       "      <td>15.704473</td>\n",
       "      <td>2.725399</td>\n",
       "      <td>8.5</td>\n",
       "      <td>14.0</td>\n",
       "      <td>15.5</td>\n",
       "      <td>17.3</td>\n",
       "      <td>24.8</td>\n",
       "    </tr>\n",
       "    <tr>\n",
       "      <th>model_year</th>\n",
       "      <td>313.0</td>\n",
       "      <td>75.929712</td>\n",
       "      <td>3.675305</td>\n",
       "      <td>70.0</td>\n",
       "      <td>73.0</td>\n",
       "      <td>76.0</td>\n",
       "      <td>79.0</td>\n",
       "      <td>82.0</td>\n",
       "    </tr>\n",
       "    <tr>\n",
       "      <th>origin</th>\n",
       "      <td>313.0</td>\n",
       "      <td>1.568690</td>\n",
       "      <td>0.781954</td>\n",
       "      <td>1.0</td>\n",
       "      <td>1.0</td>\n",
       "      <td>1.0</td>\n",
       "      <td>2.0</td>\n",
       "      <td>3.0</td>\n",
       "    </tr>\n",
       "  </tbody>\n",
       "</table>\n",
       "</div>"
      ],
      "text/plain": [
       "              count         mean         std     min     25%     50%     75%  \\\n",
       "mpg           313.0    23.404153    7.666909     9.0    17.5    23.0    29.0   \n",
       "cylinders     313.0     5.402556    1.701506     3.0     4.0     4.0     8.0   \n",
       "displacement  313.0   189.512780  102.675646    68.0   104.0   140.0   260.0   \n",
       "horsepower    313.0   102.929712   37.919046    46.0    75.0    92.0   120.0   \n",
       "weight        313.0  2961.198083  848.602146  1613.0  2219.0  2755.0  3574.0   \n",
       "acceleration  313.0    15.704473    2.725399     8.5    14.0    15.5    17.3   \n",
       "model_year    313.0    75.929712    3.675305    70.0    73.0    76.0    79.0   \n",
       "origin        313.0     1.568690    0.781954     1.0     1.0     1.0     2.0   \n",
       "\n",
       "                 max  \n",
       "mpg             46.6  \n",
       "cylinders        8.0  \n",
       "displacement   455.0  \n",
       "horsepower     230.0  \n",
       "weight        5140.0  \n",
       "acceleration    24.8  \n",
       "model_year      82.0  \n",
       "origin           3.0  "
      ]
     },
     "execution_count": 17,
     "metadata": {},
     "output_type": "execute_result"
    }
   ],
   "source": [
    "train_stats = df_train.describe().transpose()\n",
    "train_stats"
   ]
  },
  {
   "cell_type": "code",
   "execution_count": 18,
   "id": "472beeec",
   "metadata": {
    "execution": {
     "iopub.execute_input": "2023-06-21T16:57:26.567790Z",
     "iopub.status.busy": "2023-06-21T16:57:26.567381Z",
     "iopub.status.idle": "2023-06-21T16:57:26.596425Z",
     "shell.execute_reply": "2023-06-21T16:57:26.595290Z"
    },
    "papermill": {
     "duration": 0.050448,
     "end_time": "2023-06-21T16:57:26.599020",
     "exception": false,
     "start_time": "2023-06-21T16:57:26.548572",
     "status": "completed"
    },
    "tags": []
   },
   "outputs": [
    {
     "data": {
      "text/html": [
       "<div>\n",
       "<style scoped>\n",
       "    .dataframe tbody tr th:only-of-type {\n",
       "        vertical-align: middle;\n",
       "    }\n",
       "\n",
       "    .dataframe tbody tr th {\n",
       "        vertical-align: top;\n",
       "    }\n",
       "\n",
       "    .dataframe thead th {\n",
       "        text-align: right;\n",
       "    }\n",
       "</style>\n",
       "<table border=\"1\" class=\"dataframe\">\n",
       "  <thead>\n",
       "    <tr style=\"text-align: right;\">\n",
       "      <th></th>\n",
       "      <th>name</th>\n",
       "      <th>mpg</th>\n",
       "      <th>cylinders</th>\n",
       "      <th>displacement</th>\n",
       "      <th>horsepower</th>\n",
       "      <th>weight</th>\n",
       "      <th>acceleration</th>\n",
       "      <th>model_year</th>\n",
       "      <th>origin</th>\n",
       "    </tr>\n",
       "  </thead>\n",
       "  <tbody>\n",
       "    <tr>\n",
       "      <th>203</th>\n",
       "      <td>toyota</td>\n",
       "      <td>28.0</td>\n",
       "      <td>-0.824303</td>\n",
       "      <td>-0.901020</td>\n",
       "      <td>-0.736562</td>\n",
       "      <td>-0.950031</td>\n",
       "      <td>0.255202</td>\n",
       "      <td>76</td>\n",
       "      <td>2</td>\n",
       "    </tr>\n",
       "    <tr>\n",
       "      <th>255</th>\n",
       "      <td>amc</td>\n",
       "      <td>19.4</td>\n",
       "      <td>0.351127</td>\n",
       "      <td>0.413800</td>\n",
       "      <td>-0.340982</td>\n",
       "      <td>0.293190</td>\n",
       "      <td>0.548737</td>\n",
       "      <td>78</td>\n",
       "      <td>1</td>\n",
       "    </tr>\n",
       "    <tr>\n",
       "      <th>72</th>\n",
       "      <td>chevrolet</td>\n",
       "      <td>13.0</td>\n",
       "      <td>1.526556</td>\n",
       "      <td>1.144256</td>\n",
       "      <td>0.713897</td>\n",
       "      <td>1.339617</td>\n",
       "      <td>-0.625403</td>\n",
       "      <td>72</td>\n",
       "      <td>1</td>\n",
       "    </tr>\n",
       "    <tr>\n",
       "      <th>235</th>\n",
       "      <td>chevrolet</td>\n",
       "      <td>30.5</td>\n",
       "      <td>-0.824303</td>\n",
       "      <td>-0.891280</td>\n",
       "      <td>-1.053025</td>\n",
       "      <td>-1.072585</td>\n",
       "      <td>0.475353</td>\n",
       "      <td>77</td>\n",
       "      <td>1</td>\n",
       "    </tr>\n",
       "    <tr>\n",
       "      <th>37</th>\n",
       "      <td>chevrolet</td>\n",
       "      <td>14.0</td>\n",
       "      <td>1.526556</td>\n",
       "      <td>1.563051</td>\n",
       "      <td>1.636916</td>\n",
       "      <td>1.470420</td>\n",
       "      <td>-1.359240</td>\n",
       "      <td>71</td>\n",
       "      <td>1</td>\n",
       "    </tr>\n",
       "  </tbody>\n",
       "</table>\n",
       "</div>"
      ],
      "text/plain": [
       "          name   mpg  cylinders  displacement  horsepower    weight  \\\n",
       "203     toyota  28.0  -0.824303     -0.901020   -0.736562 -0.950031   \n",
       "255        amc  19.4   0.351127      0.413800   -0.340982  0.293190   \n",
       "72   chevrolet  13.0   1.526556      1.144256    0.713897  1.339617   \n",
       "235  chevrolet  30.5  -0.824303     -0.891280   -1.053025 -1.072585   \n",
       "37   chevrolet  14.0   1.526556      1.563051    1.636916  1.470420   \n",
       "\n",
       "     acceleration  model_year  origin  \n",
       "203      0.255202          76       2  \n",
       "255      0.548737          78       1  \n",
       "72      -0.625403          72       1  \n",
       "235      0.475353          77       1  \n",
       "37      -1.359240          71       1  "
      ]
     },
     "execution_count": 18,
     "metadata": {},
     "output_type": "execute_result"
    }
   ],
   "source": [
    "#Normalization\n",
    "\n",
    "numeric_column_names = ['cylinders', 'displacement', 'horsepower', 'weight', 'acceleration']\n",
    "\n",
    "df_train_norm, df_test_norm = df_train.copy(), df_test.copy()\n",
    "\n",
    "for col_name in numeric_column_names:\n",
    "    mean = train_stats.loc[col_name, 'mean']\n",
    "    std  = train_stats.loc[col_name, 'std']\n",
    "    df_train_norm.loc[:, col_name] = (df_train_norm.loc[:, col_name] - mean)/std\n",
    "    df_test_norm.loc[:, col_name] = (df_test_norm.loc[:, col_name] - mean)/std\n",
    "    \n",
    "df_train_norm.tail()"
   ]
  },
  {
   "cell_type": "markdown",
   "id": "e315d5f9",
   "metadata": {
    "papermill": {
     "duration": 0.01807,
     "end_time": "2023-06-21T16:57:26.635157",
     "exception": false,
     "start_time": "2023-06-21T16:57:26.617087",
     "status": "completed"
    },
    "tags": []
   },
   "source": [
    "***The pandas DataFrame that we created via the previous code snippet contains five columns with values of the type float. These columns will constitute the continuous features.***\n",
    "\n",
    "Next, let’s group the rather fine-grained model year (model_year) information into buckets to simplify the learning task for the model that we are going to train later. Concretely, we are going to assign each car into one of four year buckets: \n",
    "**bucket = {(0) if year<73 ,(1) if 73≤year<76 ,(2) if 76≤year<79 ,(3) if  year≥79}**\n"
   ]
  },
  {
   "cell_type": "code",
   "execution_count": 19,
   "id": "1726ca8d",
   "metadata": {
    "execution": {
     "iopub.execute_input": "2023-06-21T16:57:26.673285Z",
     "iopub.status.busy": "2023-06-21T16:57:26.672829Z",
     "iopub.status.idle": "2023-06-21T16:57:26.732735Z",
     "shell.execute_reply": "2023-06-21T16:57:26.731720Z"
    },
    "papermill": {
     "duration": 0.082216,
     "end_time": "2023-06-21T16:57:26.735303",
     "exception": false,
     "start_time": "2023-06-21T16:57:26.653087",
     "status": "completed"
    },
    "tags": []
   },
   "outputs": [],
   "source": [
    "boundaries = torch.tensor([73, 76, 79])\n",
    " \n",
    "v = torch.tensor(df_train_norm['model_year'].values)\n",
    "df_train_norm['model_year_bucketed'] = torch.bucketize(v, boundaries, right=True)\n",
    "\n",
    "v = torch.tensor(df_test_norm['model_year'].values)\n",
    "df_test_norm['model_year_bucketed'] = torch.bucketize(v, boundaries, right=True)\n",
    "\n",
    "numeric_column_names.append('model_year_bucketed')"
   ]
  },
  {
   "cell_type": "markdown",
   "id": "1c3543f4",
   "metadata": {
    "papermill": {
     "duration": 0.017972,
     "end_time": "2023-06-21T16:57:26.771475",
     "exception": false,
     "start_time": "2023-06-21T16:57:26.753503",
     "status": "completed"
    },
    "tags": []
   },
   "source": [
    "The one-hot-encoding approach will be used on the categorical feature (origin) in order to convert it into the dense format\n",
    "\n",
    "then, the encoded feature will be concatenated with the other numerical features"
   ]
  },
  {
   "cell_type": "code",
   "execution_count": 20,
   "id": "7ca69178",
   "metadata": {
    "execution": {
     "iopub.execute_input": "2023-06-21T16:57:26.809451Z",
     "iopub.status.busy": "2023-06-21T16:57:26.808566Z",
     "iopub.status.idle": "2023-06-21T16:57:26.867304Z",
     "shell.execute_reply": "2023-06-21T16:57:26.866298Z"
    },
    "papermill": {
     "duration": 0.080521,
     "end_time": "2023-06-21T16:57:26.870017",
     "exception": false,
     "start_time": "2023-06-21T16:57:26.789496",
     "status": "completed"
    },
    "tags": []
   },
   "outputs": [],
   "source": [
    "total_origin = len(set(df_train_norm['origin']))\n",
    "\n",
    "origin_encoded = one_hot(torch.from_numpy(df_train_norm['origin'].values) % total_origin)\n",
    "x_train_numeric = torch.tensor(df_train_norm[numeric_column_names].values)\n",
    "\n",
    "x_train = torch.cat([x_train_numeric, origin_encoded], 1).float()\n",
    " \n",
    "origin_encoded = one_hot(torch.from_numpy(df_test_norm['origin'].values) % total_origin)\n",
    "x_test_numeric = torch.tensor(df_test_norm[numeric_column_names].values)\n",
    "\n",
    "x_test = torch.cat([x_test_numeric, origin_encoded], 1).float()"
   ]
  },
  {
   "cell_type": "markdown",
   "id": "aea4a7ad",
   "metadata": {
    "papermill": {
     "duration": 0.017597,
     "end_time": "2023-06-21T16:57:26.905772",
     "exception": false,
     "start_time": "2023-06-21T16:57:26.888175",
     "status": "completed"
    },
    "tags": []
   },
   "source": [
    "Next, the target tensors will be created \"mpg\""
   ]
  },
  {
   "cell_type": "code",
   "execution_count": 21,
   "id": "a092e492",
   "metadata": {
    "execution": {
     "iopub.execute_input": "2023-06-21T16:57:26.943519Z",
     "iopub.status.busy": "2023-06-21T16:57:26.942737Z",
     "iopub.status.idle": "2023-06-21T16:57:26.948776Z",
     "shell.execute_reply": "2023-06-21T16:57:26.947835Z"
    },
    "papermill": {
     "duration": 0.027792,
     "end_time": "2023-06-21T16:57:26.951309",
     "exception": false,
     "start_time": "2023-06-21T16:57:26.923517",
     "status": "completed"
    },
    "tags": []
   },
   "outputs": [],
   "source": [
    "y_train = torch.tensor(df_train_norm['mpg'].values).float()\n",
    "y_test = torch.tensor(df_test_norm['mpg'].values).float()"
   ]
  },
  {
   "cell_type": "markdown",
   "id": "8e3a4ba3",
   "metadata": {
    "papermill": {
     "duration": 0.017519,
     "end_time": "2023-06-21T16:57:26.987693",
     "exception": false,
     "start_time": "2023-06-21T16:57:26.970174",
     "status": "completed"
    },
    "tags": []
   },
   "source": [
    "## Loading the data into the DataLoaders"
   ]
  },
  {
   "cell_type": "code",
   "execution_count": 22,
   "id": "067e327d",
   "metadata": {
    "execution": {
     "iopub.execute_input": "2023-06-21T16:57:27.025478Z",
     "iopub.status.busy": "2023-06-21T16:57:27.025048Z",
     "iopub.status.idle": "2023-06-21T16:57:27.034978Z",
     "shell.execute_reply": "2023-06-21T16:57:27.034060Z"
    },
    "papermill": {
     "duration": 0.031955,
     "end_time": "2023-06-21T16:57:27.037682",
     "exception": false,
     "start_time": "2023-06-21T16:57:27.005727",
     "status": "completed"
    },
    "tags": []
   },
   "outputs": [],
   "source": [
    "train_ds = TensorDataset(x_train, y_train)\n",
    "\n",
    "batch_size = 8\n",
    "torch.manual_seed(1)\n",
    "train_dl = DataLoader(train_ds, batch_size, shuffle=True)"
   ]
  },
  {
   "cell_type": "markdown",
   "id": "f54bf1e3",
   "metadata": {
    "papermill": {
     "duration": 0.01896,
     "end_time": "2023-06-21T16:57:27.074629",
     "exception": false,
     "start_time": "2023-06-21T16:57:27.055669",
     "status": "completed"
    },
    "tags": []
   },
   "source": [
    "## Sequential Model "
   ]
  },
  {
   "cell_type": "code",
   "execution_count": 23,
   "id": "1fd9046c",
   "metadata": {
    "execution": {
     "iopub.execute_input": "2023-06-21T16:57:27.114090Z",
     "iopub.status.busy": "2023-06-21T16:57:27.113287Z",
     "iopub.status.idle": "2023-06-21T16:57:27.129539Z",
     "shell.execute_reply": "2023-06-21T16:57:27.128407Z"
    },
    "papermill": {
     "duration": 0.038884,
     "end_time": "2023-06-21T16:57:27.132386",
     "exception": false,
     "start_time": "2023-06-21T16:57:27.093502",
     "status": "completed"
    },
    "tags": []
   },
   "outputs": [
    {
     "data": {
      "text/plain": [
       "Sequential(\n",
       "  (0): Linear(in_features=9, out_features=8, bias=True)\n",
       "  (1): ReLU()\n",
       "  (2): Linear(in_features=8, out_features=4, bias=True)\n",
       "  (3): ReLU()\n",
       "  (4): Linear(in_features=4, out_features=1, bias=True)\n",
       ")"
      ]
     },
     "execution_count": 23,
     "metadata": {},
     "output_type": "execute_result"
    }
   ],
   "source": [
    "hidden_units = [8, 4]\n",
    "input_size = x_train.shape[1]\n",
    "\n",
    "all_layers = []\n",
    "for hidden_unit in hidden_units:\n",
    "    layer = nn.Linear(input_size, hidden_unit)\n",
    "    all_layers.append(layer)\n",
    "    all_layers.append(nn.ReLU())\n",
    "    input_size = hidden_unit\n",
    "\n",
    "all_layers.append(nn.Linear(hidden_units[-1], 1))\n",
    "\n",
    "model = nn.Sequential(*all_layers)\n",
    "\n",
    "model"
   ]
  },
  {
   "cell_type": "markdown",
   "id": "6f120c25",
   "metadata": {
    "papermill": {
     "duration": 0.017993,
     "end_time": "2023-06-21T16:57:27.168612",
     "exception": false,
     "start_time": "2023-06-21T16:57:27.150619",
     "status": "completed"
    },
    "tags": []
   },
   "source": [
    "The model has two fully conected layers, the first has 8 units and the second has 4 units."
   ]
  },
  {
   "cell_type": "code",
   "execution_count": 24,
   "id": "3bbe0cb4",
   "metadata": {
    "execution": {
     "iopub.execute_input": "2023-06-21T16:57:27.208333Z",
     "iopub.status.busy": "2023-06-21T16:57:27.207485Z",
     "iopub.status.idle": "2023-06-21T16:57:27.213304Z",
     "shell.execute_reply": "2023-06-21T16:57:27.212385Z"
    },
    "papermill": {
     "duration": 0.029134,
     "end_time": "2023-06-21T16:57:27.215801",
     "exception": false,
     "start_time": "2023-06-21T16:57:27.186667",
     "status": "completed"
    },
    "tags": []
   },
   "outputs": [],
   "source": [
    "#MSE loss function\n",
    "loss_fn = nn.MSELoss()\n",
    "\n",
    "#stochastic gradient descent for optimization\n",
    "optimizer = torch.optim.SGD(model.parameters(), lr=0.001)"
   ]
  },
  {
   "cell_type": "markdown",
   "id": "1847c4bd",
   "metadata": {
    "papermill": {
     "duration": 0.017661,
     "end_time": "2023-06-21T16:57:27.251558",
     "exception": false,
     "start_time": "2023-06-21T16:57:27.233897",
     "status": "completed"
    },
    "tags": []
   },
   "source": [
    "## Training loop"
   ]
  },
  {
   "cell_type": "code",
   "execution_count": 25,
   "id": "baa32c2a",
   "metadata": {
    "execution": {
     "iopub.execute_input": "2023-06-21T16:57:27.289922Z",
     "iopub.status.busy": "2023-06-21T16:57:27.289111Z",
     "iopub.status.idle": "2023-06-21T16:57:33.736693Z",
     "shell.execute_reply": "2023-06-21T16:57:33.735394Z"
    },
    "papermill": {
     "duration": 6.470309,
     "end_time": "2023-06-21T16:57:33.739914",
     "exception": false,
     "start_time": "2023-06-21T16:57:27.269605",
     "status": "completed"
    },
    "tags": []
   },
   "outputs": [
    {
     "name": "stdout",
     "output_type": "stream",
     "text": [
      "Epoch 0  Loss 534.6137\n",
      "Epoch 20  Loss 8.3557\n",
      "Epoch 40  Loss 7.8325\n",
      "Epoch 60  Loss 7.4631\n",
      "Epoch 80  Loss 6.9501\n",
      "Epoch 100  Loss 6.8576\n",
      "Epoch 120  Loss 6.4664\n",
      "Epoch 140  Loss 6.6617\n",
      "Epoch 160  Loss 6.8274\n",
      "Epoch 180  Loss 6.2876\n",
      "Epoch 200  Loss 6.0872\n"
     ]
    }
   ],
   "source": [
    "torch.manual_seed(1)\n",
    "num_epochs = 220\n",
    "log_epochs = 20 \n",
    "for epoch in range(num_epochs):\n",
    "    loss_hist_train = 0\n",
    "    for x_batch, y_batch in train_dl:\n",
    "        pred = model(x_batch)[:, 0]\n",
    "        loss = loss_fn(pred, y_batch)\n",
    "        loss.backward()\n",
    "        optimizer.step()\n",
    "        optimizer.zero_grad()\n",
    "        loss_hist_train += loss.item()\n",
    "    if epoch % log_epochs==0:\n",
    "        print(f'Epoch {epoch}  Loss {loss_hist_train/len(train_dl):.4f}')"
   ]
  },
  {
   "cell_type": "markdown",
   "id": "dd6127cf",
   "metadata": {
    "papermill": {
     "duration": 0.018811,
     "end_time": "2023-06-21T16:57:33.777934",
     "exception": false,
     "start_time": "2023-06-21T16:57:33.759123",
     "status": "completed"
    },
    "tags": []
   },
   "source": [
    "After 200 epochs, the train loss was around 5. We can now evaluate the regression performance of the trained model on the test dataset. To predict the target values on new data points, we can feed their features to the model"
   ]
  },
  {
   "cell_type": "markdown",
   "id": "43cf21a5",
   "metadata": {
    "papermill": {
     "duration": 0.019656,
     "end_time": "2023-06-21T16:57:33.816986",
     "exception": false,
     "start_time": "2023-06-21T16:57:33.797330",
     "status": "completed"
    },
    "tags": []
   },
   "source": [
    "## Model Evaluation "
   ]
  },
  {
   "cell_type": "code",
   "execution_count": 26,
   "id": "999f2ec3",
   "metadata": {
    "execution": {
     "iopub.execute_input": "2023-06-21T16:57:33.858211Z",
     "iopub.status.busy": "2023-06-21T16:57:33.856846Z",
     "iopub.status.idle": "2023-06-21T16:57:33.869287Z",
     "shell.execute_reply": "2023-06-21T16:57:33.867876Z"
    },
    "papermill": {
     "duration": 0.035962,
     "end_time": "2023-06-21T16:57:33.872241",
     "exception": false,
     "start_time": "2023-06-21T16:57:33.836279",
     "status": "completed"
    },
    "tags": []
   },
   "outputs": [
    {
     "name": "stdout",
     "output_type": "stream",
     "text": [
      "Test MSE: 20.9787\n",
      "Test MAE: 3.5520\n"
     ]
    }
   ],
   "source": [
    "with torch.no_grad():\n",
    "    pred = model(x_test.float())[:, 0]\n",
    "    loss = loss_fn(pred, y_test)\n",
    "    print(f'Test MSE: {loss.item():.4f}')\n",
    "    print(f'Test MAE: {nn.L1Loss()(pred, y_test).item():.4f}')"
   ]
  },
  {
   "cell_type": "markdown",
   "id": "7ec01b47",
   "metadata": {
    "papermill": {
     "duration": 0.01941,
     "end_time": "2023-06-21T16:57:33.912241",
     "exception": false,
     "start_time": "2023-06-21T16:57:33.892831",
     "status": "completed"
    },
    "tags": []
   },
   "source": [
    "The MSE on the test set is 9.6, and the mean absolute error (MAE) is 2.1"
   ]
  },
  {
   "cell_type": "markdown",
   "id": "dc7f4c2b",
   "metadata": {
    "papermill": {
     "duration": 0.019315,
     "end_time": "2023-06-21T16:57:33.950607",
     "exception": false,
     "start_time": "2023-06-21T16:57:33.931292",
     "status": "completed"
    },
    "tags": []
   },
   "source": [
    "# References"
   ]
  },
  {
   "cell_type": "markdown",
   "id": "90380f32",
   "metadata": {
    "papermill": {
     "duration": 0.019179,
     "end_time": "2023-06-21T16:57:33.988907",
     "exception": false,
     "start_time": "2023-06-21T16:57:33.969728",
     "status": "completed"
    },
    "tags": []
   },
   "source": [
    "Most of code snippet in this notebook quoted from book \"Machine Learning with PyTorch and Scikit-Learn Book\" By Sebastian Raschka , Yuxi (Hayden) Liu , Vahid Mirjalili\n",
    "\n",
    "link: https://www.packtpub.com/product/machine-learning-with-pytorch-and-scikit-learn/9781801819312"
   ]
  },
  {
   "cell_type": "markdown",
   "id": "6786ca9b",
   "metadata": {
    "papermill": {
     "duration": 0.018757,
     "end_time": "2023-06-21T16:57:34.026932",
     "exception": false,
     "start_time": "2023-06-21T16:57:34.008175",
     "status": "completed"
    },
    "tags": []
   },
   "source": [
    "**Thank you for reading my notebook, If you liked it, please upvote**"
   ]
  }
 ],
 "metadata": {
  "kernelspec": {
   "display_name": "Python 3",
   "language": "python",
   "name": "python3"
  },
  "language_info": {
   "codemirror_mode": {
    "name": "ipython",
    "version": 3
   },
   "file_extension": ".py",
   "mimetype": "text/x-python",
   "name": "python",
   "nbconvert_exporter": "python",
   "pygments_lexer": "ipython3",
   "version": "3.10.10"
  },
  "papermill": {
   "default_parameters": {},
   "duration": 30.806667,
   "end_time": "2023-06-21T16:57:36.303826",
   "environment_variables": {},
   "exception": null,
   "input_path": "__notebook__.ipynb",
   "output_path": "__notebook__.ipynb",
   "parameters": {},
   "start_time": "2023-06-21T16:57:05.497159",
   "version": "2.4.0"
  }
 },
 "nbformat": 4,
 "nbformat_minor": 5
}
