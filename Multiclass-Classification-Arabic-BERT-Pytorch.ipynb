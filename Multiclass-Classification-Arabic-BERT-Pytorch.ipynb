{
 "cells": [
  {
   "cell_type": "markdown",
   "id": "53bc1416",
   "metadata": {
    "execution": {
     "iopub.execute_input": "2023-07-24T12:11:53.499457Z",
     "iopub.status.busy": "2023-07-24T12:11:53.498868Z",
     "iopub.status.idle": "2023-07-24T12:11:56.087777Z",
     "shell.execute_reply": "2023-07-24T12:11:56.086150Z",
     "shell.execute_reply.started": "2023-07-24T12:11:53.499409Z"
    },
    "papermill": {
     "duration": 0.009889,
     "end_time": "2023-07-29T17:27:34.153365",
     "exception": false,
     "start_time": "2023-07-29T17:27:34.143476",
     "status": "completed"
    },
    "tags": []
   },
   "source": [
    "# Installing packages"
   ]
  },
  {
   "cell_type": "code",
   "execution_count": 1,
   "id": "32e6492c",
   "metadata": {
    "_kg_hide-input": true,
    "_kg_hide-output": true,
    "execution": {
     "iopub.execute_input": "2023-07-29T17:27:34.174699Z",
     "iopub.status.busy": "2023-07-29T17:27:34.173612Z",
     "iopub.status.idle": "2023-07-29T17:28:54.697826Z",
     "shell.execute_reply": "2023-07-29T17:28:54.696541Z"
    },
    "papermill": {
     "duration": 80.537626,
     "end_time": "2023-07-29T17:28:54.700767",
     "exception": false,
     "start_time": "2023-07-29T17:27:34.163141",
     "status": "completed"
    },
    "tags": []
   },
   "outputs": [
    {
     "name": "stdout",
     "output_type": "stream",
     "text": [
      "Requirement already satisfied: pyarabic in /opt/conda/lib/python3.10/site-packages (0.6.15)\r\n",
      "Requirement already satisfied: six>=1.14.0 in /opt/conda/lib/python3.10/site-packages (from pyarabic) (1.16.0)\r\n",
      "Collecting pystemmer\r\n",
      "  Downloading PyStemmer-2.2.0.1.tar.gz (303 kB)\r\n",
      "\u001b[2K     \u001b[90m━━━━━━━━━━━━━━━━━━━━━━━━━━━━━━━━━━━━━━━\u001b[0m \u001b[32m303.0/303.0 kB\u001b[0m \u001b[31m9.2 MB/s\u001b[0m eta \u001b[36m0:00:00\u001b[0m\r\n",
      "\u001b[?25h  Preparing metadata (setup.py) ... \u001b[?25l-\b \b\\\b \b|\b \bdone\r\n",
      "\u001b[?25hBuilding wheels for collected packages: pystemmer\r\n",
      "  Building wheel for pystemmer (setup.py) ... \u001b[?25l-\b \b\\\b \b|\b \b/\b \b-\b \b\\\b \b|\b \b/\b \b-\b \b\\\b \b|\b \b/\b \b-\b \b\\\b \b|\b \b/\b \b-\b \b\\\b \b|\b \b/\b \b-\b \b\\\b \bdone\r\n",
      "\u001b[?25h  Created wheel for pystemmer: filename=PyStemmer-2.2.0.1-cp310-cp310-linux_x86_64.whl size=225916 sha256=4a61c2aa7904169d6a638f918e34decd473be38ac89d4bb9981782306aa2f88f\r\n",
      "  Stored in directory: /root/.cache/pip/wheels/45/7d/2c/a7ebb8319e01acc5306fa1f8558bf24063d6cec2c02de330c9\r\n",
      "Successfully built pystemmer\r\n",
      "Installing collected packages: pystemmer\r\n",
      "Successfully installed pystemmer-2.2.0.1\r\n",
      "Collecting optuna==2.3.0\r\n",
      "  Downloading optuna-2.3.0.tar.gz (258 kB)\r\n",
      "\u001b[2K     \u001b[90m━━━━━━━━━━━━━━━━━━━━━━━━━━━━━━━━━━━━━━━\u001b[0m \u001b[32m258.6/258.6 kB\u001b[0m \u001b[31m9.2 MB/s\u001b[0m eta \u001b[36m0:00:00\u001b[0m\r\n",
      "\u001b[?25h  Installing build dependencies ... \u001b[?25l-\b \b\\\b \b|\b \b/\b \bdone\r\n",
      "\u001b[?25h  Getting requirements to build wheel ... \u001b[?25l-\b \b\\\b \bdone\r\n",
      "\u001b[?25h  Preparing metadata (pyproject.toml) ... \u001b[?25l-\b \bdone\r\n",
      "\u001b[?25hRequirement already satisfied: alembic in /opt/conda/lib/python3.10/site-packages (from optuna==2.3.0) (1.11.1)\r\n",
      "Collecting cliff (from optuna==2.3.0)\r\n",
      "  Downloading cliff-4.3.0-py3-none-any.whl (80 kB)\r\n",
      "\u001b[2K     \u001b[90m━━━━━━━━━━━━━━━━━━━━━━━━━━━━━━━━━━━━━━━━\u001b[0m \u001b[32m80.6/80.6 kB\u001b[0m \u001b[31m6.8 MB/s\u001b[0m eta \u001b[36m0:00:00\u001b[0m\r\n",
      "\u001b[?25hRequirement already satisfied: cmaes>=0.6.0 in /opt/conda/lib/python3.10/site-packages (from optuna==2.3.0) (0.9.1)\r\n",
      "Requirement already satisfied: colorlog in /opt/conda/lib/python3.10/site-packages (from optuna==2.3.0) (6.7.0)\r\n",
      "Requirement already satisfied: joblib in /opt/conda/lib/python3.10/site-packages (from optuna==2.3.0) (1.2.0)\r\n",
      "Requirement already satisfied: numpy in /opt/conda/lib/python3.10/site-packages (from optuna==2.3.0) (1.23.5)\r\n",
      "Requirement already satisfied: packaging>=20.0 in /opt/conda/lib/python3.10/site-packages (from optuna==2.3.0) (21.3)\r\n",
      "Requirement already satisfied: scipy!=1.4.0 in /opt/conda/lib/python3.10/site-packages (from optuna==2.3.0) (1.11.1)\r\n",
      "Requirement already satisfied: sqlalchemy>=1.1.0 in /opt/conda/lib/python3.10/site-packages (from optuna==2.3.0) (2.0.17)\r\n",
      "Requirement already satisfied: tqdm in /opt/conda/lib/python3.10/site-packages (from optuna==2.3.0) (4.65.0)\r\n",
      "Requirement already satisfied: pyparsing!=3.0.5,>=2.0.2 in /opt/conda/lib/python3.10/site-packages (from packaging>=20.0->optuna==2.3.0) (3.0.9)\r\n",
      "Requirement already satisfied: typing-extensions>=4.2.0 in /opt/conda/lib/python3.10/site-packages (from sqlalchemy>=1.1.0->optuna==2.3.0) (4.6.3)\r\n",
      "Requirement already satisfied: greenlet!=0.4.17 in /opt/conda/lib/python3.10/site-packages (from sqlalchemy>=1.1.0->optuna==2.3.0) (2.0.2)\r\n",
      "Requirement already satisfied: Mako in /opt/conda/lib/python3.10/site-packages (from alembic->optuna==2.3.0) (1.2.4)\r\n",
      "Requirement already satisfied: PrettyTable>=0.7.2 in /opt/conda/lib/python3.10/site-packages (from cliff->optuna==2.3.0) (3.8.0)\r\n",
      "Requirement already satisfied: PyYAML>=3.12 in /opt/conda/lib/python3.10/site-packages (from cliff->optuna==2.3.0) (6.0)\r\n",
      "Collecting autopage>=0.4.0 (from cliff->optuna==2.3.0)\r\n",
      "  Downloading autopage-0.5.1-py3-none-any.whl (29 kB)\r\n",
      "Collecting cmd2>=1.0.0 (from cliff->optuna==2.3.0)\r\n",
      "  Downloading cmd2-2.4.3-py3-none-any.whl (147 kB)\r\n",
      "\u001b[2K     \u001b[90m━━━━━━━━━━━━━━━━━━━━━━━━━━━━━━━━━━━━━━\u001b[0m \u001b[32m147.2/147.2 kB\u001b[0m \u001b[31m15.2 MB/s\u001b[0m eta \u001b[36m0:00:00\u001b[0m\r\n",
      "\u001b[?25hRequirement already satisfied: importlib-metadata>=4.4 in /opt/conda/lib/python3.10/site-packages (from cliff->optuna==2.3.0) (6.7.0)\r\n",
      "Collecting stevedore>=2.0.1 (from cliff->optuna==2.3.0)\r\n",
      "  Downloading stevedore-5.1.0-py3-none-any.whl (49 kB)\r\n",
      "\u001b[2K     \u001b[90m━━━━━━━━━━━━━━━━━━━━━━━━━━━━━━━━━━━━━━━━\u001b[0m \u001b[32m49.6/49.6 kB\u001b[0m \u001b[31m4.4 MB/s\u001b[0m eta \u001b[36m0:00:00\u001b[0m\r\n",
      "\u001b[?25hRequirement already satisfied: attrs>=16.3.0 in /opt/conda/lib/python3.10/site-packages (from cmd2>=1.0.0->cliff->optuna==2.3.0) (23.1.0)\r\n",
      "Collecting pyperclip>=1.6 (from cmd2>=1.0.0->cliff->optuna==2.3.0)\r\n",
      "  Downloading pyperclip-1.8.2.tar.gz (20 kB)\r\n",
      "  Preparing metadata (setup.py) ... \u001b[?25l-\b \b\\\b \bdone\r\n",
      "\u001b[?25hRequirement already satisfied: wcwidth>=0.1.7 in /opt/conda/lib/python3.10/site-packages (from cmd2>=1.0.0->cliff->optuna==2.3.0) (0.2.6)\r\n",
      "Requirement already satisfied: zipp>=0.5 in /opt/conda/lib/python3.10/site-packages (from importlib-metadata>=4.4->cliff->optuna==2.3.0) (3.15.0)\r\n",
      "Collecting pbr!=2.1.0,>=2.0.0 (from stevedore>=2.0.1->cliff->optuna==2.3.0)\r\n",
      "  Downloading pbr-5.11.1-py2.py3-none-any.whl (112 kB)\r\n",
      "\u001b[2K     \u001b[90m━━━━━━━━━━━━━━━━━━━━━━━━━━━━━━━━━━━━━━\u001b[0m \u001b[32m112.7/112.7 kB\u001b[0m \u001b[31m10.4 MB/s\u001b[0m eta \u001b[36m0:00:00\u001b[0m\r\n",
      "\u001b[?25hRequirement already satisfied: MarkupSafe>=0.9.2 in /opt/conda/lib/python3.10/site-packages (from Mako->alembic->optuna==2.3.0) (2.1.3)\r\n",
      "Building wheels for collected packages: optuna, pyperclip\r\n",
      "  Building wheel for optuna (pyproject.toml) ... \u001b[?25l-\b \b\\\b \b|\b \b/\b \bdone\r\n",
      "\u001b[?25h  Created wheel for optuna: filename=optuna-2.3.0-py3-none-any.whl size=359702 sha256=8d955491684be71da15d940854589ee3c1a88ab244af3bce4e1a8f3cbfc052f0\r\n",
      "  Stored in directory: /root/.cache/pip/wheels/70/21/72/0aa4c862f07f82e9a7ce17b431f7da08395f0232b4b749f289\r\n",
      "  Building wheel for pyperclip (setup.py) ... \u001b[?25l-\b \b\\\b \bdone\r\n",
      "\u001b[?25h  Created wheel for pyperclip: filename=pyperclip-1.8.2-py3-none-any.whl size=11137 sha256=e7af11524691b9c0835e19fe66ef41469b48238877f4e2e98cda2c16c9b5bf35\r\n",
      "  Stored in directory: /root/.cache/pip/wheels/04/24/fe/140a94a7f1036003ede94579e6b4227fe96c840c6f4dcbe307\r\n",
      "Successfully built optuna pyperclip\r\n",
      "Installing collected packages: pyperclip, pbr, cmd2, autopage, stevedore, cliff, optuna\r\n",
      "  Attempting uninstall: optuna\r\n",
      "    Found existing installation: optuna 3.2.0\r\n",
      "    Uninstalling optuna-3.2.0:\r\n",
      "      Successfully uninstalled optuna-3.2.0\r\n",
      "Successfully installed autopage-0.5.1 cliff-4.3.0 cmd2-2.4.3 optuna-2.3.0 pbr-5.11.1 pyperclip-1.8.2 stevedore-5.1.0\r\n",
      "Collecting transformers==4.2.1\r\n",
      "  Downloading transformers-4.2.1-py3-none-any.whl (1.8 MB)\r\n",
      "\u001b[2K     \u001b[90m━━━━━━━━━━━━━━━━━━━━━━━━━━━━━━━━━━━━━━━━\u001b[0m \u001b[32m1.8/1.8 MB\u001b[0m \u001b[31m27.7 MB/s\u001b[0m eta \u001b[36m0:00:00\u001b[0m\r\n",
      "\u001b[?25hRequirement already satisfied: filelock in /opt/conda/lib/python3.10/site-packages (from transformers==4.2.1) (3.12.2)\r\n",
      "Requirement already satisfied: numpy in /opt/conda/lib/python3.10/site-packages (from transformers==4.2.1) (1.23.5)\r\n",
      "Requirement already satisfied: packaging in /opt/conda/lib/python3.10/site-packages (from transformers==4.2.1) (21.3)\r\n",
      "Requirement already satisfied: regex!=2019.12.17 in /opt/conda/lib/python3.10/site-packages (from transformers==4.2.1) (2023.6.3)\r\n",
      "Requirement already satisfied: requests in /opt/conda/lib/python3.10/site-packages (from transformers==4.2.1) (2.31.0)\r\n",
      "Collecting sacremoses (from transformers==4.2.1)\r\n",
      "  Downloading sacremoses-0.0.53.tar.gz (880 kB)\r\n",
      "\u001b[2K     \u001b[90m━━━━━━━━━━━━━━━━━━━━━━━━━━━━━━━━━━━━━━\u001b[0m \u001b[32m880.6/880.6 kB\u001b[0m \u001b[31m46.9 MB/s\u001b[0m eta \u001b[36m0:00:00\u001b[0m\r\n",
      "\u001b[?25h  Preparing metadata (setup.py) ... \u001b[?25l-\b \b\\\b \bdone\r\n",
      "\u001b[?25hCollecting tokenizers==0.9.4 (from transformers==4.2.1)\r\n",
      "  Downloading tokenizers-0.9.4.tar.gz (184 kB)\r\n",
      "\u001b[2K     \u001b[90m━━━━━━━━━━━━━━━━━━━━━━━━━━━━━━━━━━━━━━\u001b[0m \u001b[32m184.2/184.2 kB\u001b[0m \u001b[31m17.2 MB/s\u001b[0m eta \u001b[36m0:00:00\u001b[0m\r\n",
      "\u001b[?25h  Installing build dependencies ... \u001b[?25l-\b \b\\\b \b|\b \b/\b \b-\b \bdone\r\n",
      "\u001b[?25h  Getting requirements to build wheel ... \u001b[?25l-\b \bdone\r\n",
      "\u001b[?25h  Preparing metadata (pyproject.toml) ... \u001b[?25l-\b \bdone\r\n",
      "\u001b[?25hRequirement already satisfied: tqdm>=4.27 in /opt/conda/lib/python3.10/site-packages (from transformers==4.2.1) (4.65.0)\r\n",
      "Requirement already satisfied: pyparsing!=3.0.5,>=2.0.2 in /opt/conda/lib/python3.10/site-packages (from packaging->transformers==4.2.1) (3.0.9)\r\n",
      "Requirement already satisfied: charset-normalizer<4,>=2 in /opt/conda/lib/python3.10/site-packages (from requests->transformers==4.2.1) (3.1.0)\r\n",
      "Requirement already satisfied: idna<4,>=2.5 in /opt/conda/lib/python3.10/site-packages (from requests->transformers==4.2.1) (3.4)\r\n",
      "Requirement already satisfied: urllib3<3,>=1.21.1 in /opt/conda/lib/python3.10/site-packages (from requests->transformers==4.2.1) (1.26.15)\r\n",
      "Requirement already satisfied: certifi>=2017.4.17 in /opt/conda/lib/python3.10/site-packages (from requests->transformers==4.2.1) (2023.5.7)\r\n",
      "Requirement already satisfied: six in /opt/conda/lib/python3.10/site-packages (from sacremoses->transformers==4.2.1) (1.16.0)\r\n",
      "Requirement already satisfied: click in /opt/conda/lib/python3.10/site-packages (from sacremoses->transformers==4.2.1) (8.1.3)\r\n",
      "Requirement already satisfied: joblib in /opt/conda/lib/python3.10/site-packages (from sacremoses->transformers==4.2.1) (1.2.0)\r\n",
      "Building wheels for collected packages: tokenizers, sacremoses\r\n",
      "  Building wheel for tokenizers (pyproject.toml) ... \u001b[?25l-\b \berror\r\n",
      "  \u001b[1;31merror\u001b[0m: \u001b[1msubprocess-exited-with-error\u001b[0m\r\n",
      "  \r\n",
      "  \u001b[31m×\u001b[0m \u001b[32mBuilding wheel for tokenizers \u001b[0m\u001b[1;32m(\u001b[0m\u001b[32mpyproject.toml\u001b[0m\u001b[1;32m)\u001b[0m did not run successfully.\r\n",
      "  \u001b[31m│\u001b[0m exit code: \u001b[1;36m1\u001b[0m\r\n",
      "  \u001b[31m╰─>\u001b[0m \u001b[31m[47 lines of output]\u001b[0m\r\n",
      "  \u001b[31m   \u001b[0m running bdist_wheel\r\n",
      "  \u001b[31m   \u001b[0m running build\r\n",
      "  \u001b[31m   \u001b[0m running build_py\r\n",
      "  \u001b[31m   \u001b[0m creating build\r\n",
      "  \u001b[31m   \u001b[0m creating build/lib.linux-x86_64-cpython-310\r\n",
      "  \u001b[31m   \u001b[0m creating build/lib.linux-x86_64-cpython-310/tokenizers\r\n",
      "  \u001b[31m   \u001b[0m copying py_src/tokenizers/__init__.py -> build/lib.linux-x86_64-cpython-310/tokenizers\r\n",
      "  \u001b[31m   \u001b[0m creating build/lib.linux-x86_64-cpython-310/tokenizers/models\r\n",
      "  \u001b[31m   \u001b[0m copying py_src/tokenizers/models/__init__.py -> build/lib.linux-x86_64-cpython-310/tokenizers/models\r\n",
      "  \u001b[31m   \u001b[0m creating build/lib.linux-x86_64-cpython-310/tokenizers/decoders\r\n",
      "  \u001b[31m   \u001b[0m copying py_src/tokenizers/decoders/__init__.py -> build/lib.linux-x86_64-cpython-310/tokenizers/decoders\r\n",
      "  \u001b[31m   \u001b[0m creating build/lib.linux-x86_64-cpython-310/tokenizers/normalizers\r\n",
      "  \u001b[31m   \u001b[0m copying py_src/tokenizers/normalizers/__init__.py -> build/lib.linux-x86_64-cpython-310/tokenizers/normalizers\r\n",
      "  \u001b[31m   \u001b[0m creating build/lib.linux-x86_64-cpython-310/tokenizers/pre_tokenizers\r\n",
      "  \u001b[31m   \u001b[0m copying py_src/tokenizers/pre_tokenizers/__init__.py -> build/lib.linux-x86_64-cpython-310/tokenizers/pre_tokenizers\r\n",
      "  \u001b[31m   \u001b[0m creating build/lib.linux-x86_64-cpython-310/tokenizers/processors\r\n",
      "  \u001b[31m   \u001b[0m copying py_src/tokenizers/processors/__init__.py -> build/lib.linux-x86_64-cpython-310/tokenizers/processors\r\n",
      "  \u001b[31m   \u001b[0m creating build/lib.linux-x86_64-cpython-310/tokenizers/trainers\r\n",
      "  \u001b[31m   \u001b[0m copying py_src/tokenizers/trainers/__init__.py -> build/lib.linux-x86_64-cpython-310/tokenizers/trainers\r\n",
      "  \u001b[31m   \u001b[0m creating build/lib.linux-x86_64-cpython-310/tokenizers/implementations\r\n",
      "  \u001b[31m   \u001b[0m copying py_src/tokenizers/implementations/__init__.py -> build/lib.linux-x86_64-cpython-310/tokenizers/implementations\r\n",
      "  \u001b[31m   \u001b[0m copying py_src/tokenizers/implementations/base_tokenizer.py -> build/lib.linux-x86_64-cpython-310/tokenizers/implementations\r\n",
      "  \u001b[31m   \u001b[0m copying py_src/tokenizers/implementations/byte_level_bpe.py -> build/lib.linux-x86_64-cpython-310/tokenizers/implementations\r\n",
      "  \u001b[31m   \u001b[0m copying py_src/tokenizers/implementations/sentencepiece_bpe.py -> build/lib.linux-x86_64-cpython-310/tokenizers/implementations\r\n",
      "  \u001b[31m   \u001b[0m copying py_src/tokenizers/implementations/char_level_bpe.py -> build/lib.linux-x86_64-cpython-310/tokenizers/implementations\r\n",
      "  \u001b[31m   \u001b[0m copying py_src/tokenizers/implementations/bert_wordpiece.py -> build/lib.linux-x86_64-cpython-310/tokenizers/implementations\r\n",
      "  \u001b[31m   \u001b[0m copying py_src/tokenizers/implementations/sentencepiece_unigram.py -> build/lib.linux-x86_64-cpython-310/tokenizers/implementations\r\n",
      "  \u001b[31m   \u001b[0m copying py_src/tokenizers/__init__.pyi -> build/lib.linux-x86_64-cpython-310/tokenizers\r\n",
      "  \u001b[31m   \u001b[0m copying py_src/tokenizers/models/__init__.pyi -> build/lib.linux-x86_64-cpython-310/tokenizers/models\r\n",
      "  \u001b[31m   \u001b[0m copying py_src/tokenizers/decoders/__init__.pyi -> build/lib.linux-x86_64-cpython-310/tokenizers/decoders\r\n",
      "  \u001b[31m   \u001b[0m copying py_src/tokenizers/normalizers/__init__.pyi -> build/lib.linux-x86_64-cpython-310/tokenizers/normalizers\r\n",
      "  \u001b[31m   \u001b[0m copying py_src/tokenizers/pre_tokenizers/__init__.pyi -> build/lib.linux-x86_64-cpython-310/tokenizers/pre_tokenizers\r\n",
      "  \u001b[31m   \u001b[0m copying py_src/tokenizers/processors/__init__.pyi -> build/lib.linux-x86_64-cpython-310/tokenizers/processors\r\n",
      "  \u001b[31m   \u001b[0m copying py_src/tokenizers/trainers/__init__.pyi -> build/lib.linux-x86_64-cpython-310/tokenizers/trainers\r\n",
      "  \u001b[31m   \u001b[0m running build_ext\r\n",
      "  \u001b[31m   \u001b[0m running build_rust\r\n",
      "  \u001b[31m   \u001b[0m error: can't find Rust compiler\r\n",
      "  \u001b[31m   \u001b[0m \r\n",
      "  \u001b[31m   \u001b[0m If you are using an outdated pip version, it is possible a prebuilt wheel is available for this package but pip is not able to install from it. Installing from the wheel would avoid the need for a Rust compiler.\r\n",
      "  \u001b[31m   \u001b[0m \r\n",
      "  \u001b[31m   \u001b[0m To update pip, run:\r\n",
      "  \u001b[31m   \u001b[0m \r\n",
      "  \u001b[31m   \u001b[0m     pip install --upgrade pip\r\n",
      "  \u001b[31m   \u001b[0m \r\n",
      "  \u001b[31m   \u001b[0m and then retry package installation.\r\n",
      "  \u001b[31m   \u001b[0m \r\n",
      "  \u001b[31m   \u001b[0m If you did intend to build this package from source, try installing a Rust compiler from your system package manager and ensure it is on the PATH during installation. Alternatively, rustup (available at https://rustup.rs) is the recommended way to download and update the Rust compiler toolchain.\r\n",
      "  \u001b[31m   \u001b[0m \u001b[31m[end of output]\u001b[0m\r\n",
      "  \r\n",
      "  \u001b[1;35mnote\u001b[0m: This error originates from a subprocess, and is likely not a problem with pip.\r\n",
      "\u001b[31m  ERROR: Failed building wheel for tokenizers\u001b[0m\u001b[31m\r\n",
      "\u001b[0m\u001b[?25h  Building wheel for sacremoses (setup.py) ... \u001b[?25l-\b \b\\\b \b|\b \bdone\r\n",
      "\u001b[?25h  Created wheel for sacremoses: filename=sacremoses-0.0.53-py3-none-any.whl size=895260 sha256=ba3deea8120fdc48f8d4064de1c64125d9a0859979e5460e118d374bef6e1dc6\r\n",
      "  Stored in directory: /root/.cache/pip/wheels/00/24/97/a2ea5324f36bc626e1ea0267f33db6aa80d157ee977e9e42fb\r\n",
      "Successfully built sacremoses\r\n",
      "Failed to build tokenizers\r\n",
      "\u001b[31mERROR: Could not build wheels for tokenizers, which is required to install pyproject.toml-based projects\u001b[0m\u001b[31m\r\n",
      "\u001b[0m"
     ]
    }
   ],
   "source": [
    "!pip install pyarabic\n",
    "!pip install pystemmer\n",
    "!pip install optuna==2.3.0\n",
    "!pip install transformers==4.2.1"
   ]
  },
  {
   "cell_type": "markdown",
   "id": "f534b599",
   "metadata": {
    "papermill": {
     "duration": 0.017676,
     "end_time": "2023-07-29T17:28:54.736268",
     "exception": false,
     "start_time": "2023-07-29T17:28:54.718592",
     "status": "completed"
    },
    "tags": []
   },
   "source": [
    "#  Import packages"
   ]
  },
  {
   "cell_type": "code",
   "execution_count": 2,
   "id": "06004559",
   "metadata": {
    "_cell_guid": "b1076dfc-b9ad-4769-8c92-a6c4dae69d19",
    "_kg_hide-output": true,
    "_uuid": "8f2839f25d086af736a60e9eeb907d3b93b6e0e5",
    "execution": {
     "iopub.execute_input": "2023-07-29T17:28:54.773172Z",
     "iopub.status.busy": "2023-07-29T17:28:54.772848Z",
     "iopub.status.idle": "2023-07-29T17:29:10.368419Z",
     "shell.execute_reply": "2023-07-29T17:29:10.367473Z"
    },
    "papermill": {
     "duration": 15.617487,
     "end_time": "2023-07-29T17:29:10.371358",
     "exception": false,
     "start_time": "2023-07-29T17:28:54.753871",
     "status": "completed"
    },
    "tags": []
   },
   "outputs": [
    {
     "name": "stderr",
     "output_type": "stream",
     "text": [
      "/opt/conda/lib/python3.10/site-packages/scipy/__init__.py:146: UserWarning: A NumPy version >=1.16.5 and <1.23.0 is required for this version of SciPy (detected version 1.23.5\n",
      "  warnings.warn(f\"A NumPy version >={np_minversion} and <{np_maxversion}\"\n",
      "/opt/conda/lib/python3.10/site-packages/tensorflow_io/python/ops/__init__.py:98: UserWarning: unable to load libtensorflow_io_plugins.so: unable to open file: libtensorflow_io_plugins.so, from paths: ['/opt/conda/lib/python3.10/site-packages/tensorflow_io/python/ops/libtensorflow_io_plugins.so']\n",
      "caused by: ['/opt/conda/lib/python3.10/site-packages/tensorflow_io/python/ops/libtensorflow_io_plugins.so: undefined symbol: _ZN3tsl6StatusC1EN10tensorflow5error4CodeESt17basic_string_viewIcSt11char_traitsIcEENS_14SourceLocationE']\n",
      "  warnings.warn(f\"unable to load libtensorflow_io_plugins.so: {e}\")\n",
      "/opt/conda/lib/python3.10/site-packages/tensorflow_io/python/ops/__init__.py:104: UserWarning: file system plugins are not loaded: unable to open file: libtensorflow_io.so, from paths: ['/opt/conda/lib/python3.10/site-packages/tensorflow_io/python/ops/libtensorflow_io.so']\n",
      "caused by: ['/opt/conda/lib/python3.10/site-packages/tensorflow_io/python/ops/libtensorflow_io.so: undefined symbol: _ZTVN10tensorflow13GcsFileSystemE']\n",
      "  warnings.warn(f\"file system plugins are not loaded: {e}\")\n"
     ]
    }
   ],
   "source": [
    "import numpy as np\n",
    "import pandas as pd \n",
    "import os\n",
    "import torch\n",
    "import pyarabic.araby as ar\n",
    "import re \n",
    "import Stemmer \n",
    "import functools\n",
    "import operator\n",
    "import string\n",
    "import optuna \n",
    "import gc \n",
    "import random\n",
    "import seaborn as sns\n",
    "import matplotlib.pyplot as plt\n",
    "import glob\n",
    "\n",
    "from sklearn.model_selection import train_test_split\n",
    "from sklearn.metrics import classification_report, accuracy_score, f1_score, confusion_matrix, precision_score , recall_score\n",
    "from transformers import AutoTokenizer, AutoModel, BertForSequenceClassification\n",
    "from torch.utils.data import Dataset, DataLoader,TensorDataset, RandomSampler, SequentialSampler\n",
    "from torch.optim import Adam\n",
    "from sklearn.metrics import classification_report, confusion_matrix, multilabel_confusion_matrix, f1_score, accuracy_score\n",
    "from sklearn.utils import resample\n",
    "import torch.nn as nn\n",
    "\n",
    "import logging\n",
    "logging.basicConfig(level=logging.WARNING)\n",
    "logger = logging.getLogger(__name__)"
   ]
  },
  {
   "cell_type": "code",
   "execution_count": 3,
   "id": "4ca8fe44",
   "metadata": {
    "execution": {
     "iopub.execute_input": "2023-07-29T17:29:10.408662Z",
     "iopub.status.busy": "2023-07-29T17:29:10.408356Z",
     "iopub.status.idle": "2023-07-29T17:29:10.506118Z",
     "shell.execute_reply": "2023-07-29T17:29:10.504643Z"
    },
    "papermill": {
     "duration": 0.119001,
     "end_time": "2023-07-29T17:29:10.508316",
     "exception": false,
     "start_time": "2023-07-29T17:29:10.389315",
     "status": "completed"
    },
    "tags": []
   },
   "outputs": [
    {
     "name": "stdout",
     "output_type": "stream",
     "text": [
      "There are 1 GPU(s) available.\n",
      "We will use the GPU: Tesla P100-PCIE-16GB\n"
     ]
    }
   ],
   "source": [
    "# If there's a GPU available...\n",
    "if torch.cuda.is_available():    \n",
    "    # Tell PyTorch to use the GPU.    \n",
    "    device = torch.device(\"cuda\")\n",
    "    print('There are %d GPU(s) available.' % torch.cuda.device_count())\n",
    "    print('We will use the GPU:', torch.cuda.get_device_name(0))\n",
    "else:\n",
    "    print('No GPU available, using the CPU instead.')\n",
    "    device = torch.device(\"cpu\")"
   ]
  },
  {
   "cell_type": "code",
   "execution_count": 4,
   "id": "817e6c97",
   "metadata": {
    "execution": {
     "iopub.execute_input": "2023-07-29T17:29:10.546118Z",
     "iopub.status.busy": "2023-07-29T17:29:10.545124Z",
     "iopub.status.idle": "2023-07-29T17:29:10.570776Z",
     "shell.execute_reply": "2023-07-29T17:29:10.569463Z"
    },
    "papermill": {
     "duration": 0.047252,
     "end_time": "2023-07-29T17:29:10.573514",
     "exception": false,
     "start_time": "2023-07-29T17:29:10.526262",
     "status": "completed"
    },
    "tags": []
   },
   "outputs": [
    {
     "name": "stdout",
     "output_type": "stream",
     "text": [
      "/kaggle/input/hespress/stories_faits-divers.csv\n",
      "/kaggle/input/hespress/comments_marocains-du-monde.csv\n",
      "/kaggle/input/hespress/stories_art-et-culture.csv\n",
      "/kaggle/input/hespress/comments_regions.csv\n",
      "/kaggle/input/hespress/comments_orbites.csv\n",
      "/kaggle/input/hespress/stories_regions.csv\n",
      "/kaggle/input/hespress/comments_art-et-culture.csv\n",
      "/kaggle/input/hespress/stories_sport.csv\n",
      "/kaggle/input/hespress/stories_medias.csv\n",
      "/kaggle/input/hespress/comments_economie.csv\n",
      "/kaggle/input/hespress/comments_medias.csv\n",
      "/kaggle/input/hespress/stories_economie.csv\n",
      "/kaggle/input/hespress/comments_sport.csv\n",
      "/kaggle/input/hespress/comments_politique.csv\n",
      "/kaggle/input/hespress/stories_tamazight.csv\n",
      "/kaggle/input/hespress/stories_societe.csv\n",
      "/kaggle/input/hespress/stories_orbites.csv\n",
      "/kaggle/input/hespress/comments_societe.csv\n",
      "/kaggle/input/hespress/stories_politique.csv\n",
      "/kaggle/input/hespress/stories_marocains-du-monde.csv\n",
      "/kaggle/input/hespress/comments_faits-divers.csv\n",
      "/kaggle/input/hespress/comments_tamazight.csv\n"
     ]
    }
   ],
   "source": [
    "for dirname, _, filenames in os.walk('/kaggle/input'):\n",
    "    for filename in filenames:\n",
    "        print(os.path.join(dirname, filename))"
   ]
  },
  {
   "cell_type": "code",
   "execution_count": 5,
   "id": "4edb282d",
   "metadata": {
    "execution": {
     "iopub.execute_input": "2023-07-29T17:29:10.610922Z",
     "iopub.status.busy": "2023-07-29T17:29:10.609877Z",
     "iopub.status.idle": "2023-07-29T17:29:15.619561Z",
     "shell.execute_reply": "2023-07-29T17:29:15.618553Z"
    },
    "papermill": {
     "duration": 5.030946,
     "end_time": "2023-07-29T17:29:15.622282",
     "exception": false,
     "start_time": "2023-07-29T17:29:10.591336",
     "status": "completed"
    },
    "tags": []
   },
   "outputs": [],
   "source": [
    "csv_stories = [csv_file for csv_file in glob.glob('/kaggle/input/hespress/*.csv') if 'stories' in csv_file]\n",
    "csv_comments = [csv_file for csv_file in glob.glob('/kaggle/input/hespress/*.csv') if 'comments' in csv_file]\n",
    "\n",
    "# Create an empty DataFrame\n",
    "stories_df = pd.DataFrame()\n",
    "comments_df = pd.DataFrame()\n",
    "\n",
    "# Iterate over the CSV files and add them to the DataFrame\n",
    "for csv_file in csv_stories:\n",
    "    df_temp = pd.read_csv(csv_file, index_col=0, encoding=\"utf-8\")\n",
    "    stories_df = pd.concat([stories_df, df_temp], ignore_index=True)\n",
    "    \n",
    "# Iterate over the CSV files and add them to the DataFrame\n",
    "for csv_file in csv_comments:\n",
    "    df_temp = pd.read_csv(csv_file, index_col=0, encoding=\"utf-8\")\n",
    "    comments_df = pd.concat([comments_df, df_temp], ignore_index=True)"
   ]
  },
  {
   "cell_type": "code",
   "execution_count": 6,
   "id": "de2912bf",
   "metadata": {
    "execution": {
     "iopub.execute_input": "2023-07-29T17:29:15.660946Z",
     "iopub.status.busy": "2023-07-29T17:29:15.660590Z",
     "iopub.status.idle": "2023-07-29T17:29:15.677268Z",
     "shell.execute_reply": "2023-07-29T17:29:15.676193Z"
    },
    "papermill": {
     "duration": 0.038605,
     "end_time": "2023-07-29T17:29:15.679951",
     "exception": false,
     "start_time": "2023-07-29T17:29:15.641346",
     "status": "completed"
    },
    "tags": []
   },
   "outputs": [
    {
     "data": {
      "text/html": [
       "<div>\n",
       "<style scoped>\n",
       "    .dataframe tbody tr th:only-of-type {\n",
       "        vertical-align: middle;\n",
       "    }\n",
       "\n",
       "    .dataframe tbody tr th {\n",
       "        vertical-align: top;\n",
       "    }\n",
       "\n",
       "    .dataframe thead th {\n",
       "        text-align: right;\n",
       "    }\n",
       "</style>\n",
       "<table border=\"1\" class=\"dataframe\">\n",
       "  <thead>\n",
       "    <tr style=\"text-align: right;\">\n",
       "      <th></th>\n",
       "      <th>id</th>\n",
       "      <th>title</th>\n",
       "      <th>date</th>\n",
       "      <th>author</th>\n",
       "      <th>story</th>\n",
       "      <th>topic</th>\n",
       "    </tr>\n",
       "  </thead>\n",
       "  <tbody>\n",
       "    <tr>\n",
       "      <th>0</th>\n",
       "      <td>9d9ebd0204f811eb92ec646e69d991ea</td>\n",
       "      <td>شهادة طبيب جراح \"تورط\" قنصلا بتر أصبع مسنة</td>\n",
       "      <td>الجمعة 02 أكتوبر 2020 - 20:08</td>\n",
       "      <td>هسبريس من الدار البيضاء</td>\n",
       "      <td>قررت الغرفة الجنائية بمحكمة الاستئناف بمدينة ا...</td>\n",
       "      <td>faits-divers</td>\n",
       "    </tr>\n",
       "    <tr>\n",
       "      <th>1</th>\n",
       "      <td>9e96ecc604f811eb836a646e69d991ea</td>\n",
       "      <td>إحباط تهريب أكثر من طن من \"الحشيش\" بأكادير</td>\n",
       "      <td>الجمعة 02 أكتوبر 2020 - 19:37</td>\n",
       "      <td>رشيد بيجيكن من أكادير</td>\n",
       "      <td>تمكنت المصلحة الولائية للشرطة القضائية بمدينة ...</td>\n",
       "      <td>faits-divers</td>\n",
       "    </tr>\n",
       "    <tr>\n",
       "      <th>2</th>\n",
       "      <td>9fc1ec4204f811eb8619646e69d991ea</td>\n",
       "      <td>كمين أمن الصويرة يسقط شبكة هجرة غير نظامية</td>\n",
       "      <td>الجمعة 02 أكتوبر 2020 - 18:35</td>\n",
       "      <td>ابراهيم مغراوي من مراكش</td>\n",
       "      <td>أوقفت عناصر فرقة الشرطة القضائية بالمنطقة الإق...</td>\n",
       "      <td>faits-divers</td>\n",
       "    </tr>\n",
       "    <tr>\n",
       "      <th>3</th>\n",
       "      <td>a0a2fa9c04f811eb8580646e69d991ea</td>\n",
       "      <td>\"تلميذة زاكورة\" تتهم زوج أختها باستغلالها جنسيا</td>\n",
       "      <td>الجمعة 02 أكتوبر 2020 - 14:20</td>\n",
       "      <td>هسبريس من زاكورة</td>\n",
       "      <td>كشف مصدر أمني مسؤول أن التلميذة المتحدرة من جم...</td>\n",
       "      <td>faits-divers</td>\n",
       "    </tr>\n",
       "    <tr>\n",
       "      <th>4</th>\n",
       "      <td>a2d0124a04f811eba88f646e69d991ea</td>\n",
       "      <td>\"أحجار كريمة مزيفة\" تورط أشخاصا بمدينة أكادير</td>\n",
       "      <td>الجمعة 02 أكتوبر 2020 - 10:05</td>\n",
       "      <td>رشيد بيجيكن من أكادير</td>\n",
       "      <td>تمكنت عناصر المصلحة الولائية للشرطة القضائية ب...</td>\n",
       "      <td>faits-divers</td>\n",
       "    </tr>\n",
       "  </tbody>\n",
       "</table>\n",
       "</div>"
      ],
      "text/plain": [
       "                                 id  \\\n",
       "0  9d9ebd0204f811eb92ec646e69d991ea   \n",
       "1  9e96ecc604f811eb836a646e69d991ea   \n",
       "2  9fc1ec4204f811eb8619646e69d991ea   \n",
       "3  a0a2fa9c04f811eb8580646e69d991ea   \n",
       "4  a2d0124a04f811eba88f646e69d991ea   \n",
       "\n",
       "                                             title  \\\n",
       "0       شهادة طبيب جراح \"تورط\" قنصلا بتر أصبع مسنة   \n",
       "1       إحباط تهريب أكثر من طن من \"الحشيش\" بأكادير   \n",
       "2       كمين أمن الصويرة يسقط شبكة هجرة غير نظامية   \n",
       "3  \"تلميذة زاكورة\" تتهم زوج أختها باستغلالها جنسيا   \n",
       "4    \"أحجار كريمة مزيفة\" تورط أشخاصا بمدينة أكادير   \n",
       "\n",
       "                            date                   author  \\\n",
       "0  الجمعة 02 أكتوبر 2020 - 20:08  هسبريس من الدار البيضاء   \n",
       "1  الجمعة 02 أكتوبر 2020 - 19:37    رشيد بيجيكن من أكادير   \n",
       "2  الجمعة 02 أكتوبر 2020 - 18:35  ابراهيم مغراوي من مراكش   \n",
       "3  الجمعة 02 أكتوبر 2020 - 14:20         هسبريس من زاكورة   \n",
       "4  الجمعة 02 أكتوبر 2020 - 10:05    رشيد بيجيكن من أكادير   \n",
       "\n",
       "                                               story         topic  \n",
       "0  قررت الغرفة الجنائية بمحكمة الاستئناف بمدينة ا...  faits-divers  \n",
       "1  تمكنت المصلحة الولائية للشرطة القضائية بمدينة ...  faits-divers  \n",
       "2  أوقفت عناصر فرقة الشرطة القضائية بالمنطقة الإق...  faits-divers  \n",
       "3  كشف مصدر أمني مسؤول أن التلميذة المتحدرة من جم...  faits-divers  \n",
       "4  تمكنت عناصر المصلحة الولائية للشرطة القضائية ب...  faits-divers  "
      ]
     },
     "execution_count": 6,
     "metadata": {},
     "output_type": "execute_result"
    }
   ],
   "source": [
    "stories_df.head()"
   ]
  },
  {
   "cell_type": "code",
   "execution_count": 7,
   "id": "eca6b242",
   "metadata": {
    "execution": {
     "iopub.execute_input": "2023-07-29T17:29:15.717191Z",
     "iopub.status.busy": "2023-07-29T17:29:15.716919Z",
     "iopub.status.idle": "2023-07-29T17:29:15.728434Z",
     "shell.execute_reply": "2023-07-29T17:29:15.727546Z"
    },
    "papermill": {
     "duration": 0.03238,
     "end_time": "2023-07-29T17:29:15.730382",
     "exception": false,
     "start_time": "2023-07-29T17:29:15.698002",
     "status": "completed"
    },
    "tags": []
   },
   "outputs": [
    {
     "data": {
      "text/html": [
       "<div>\n",
       "<style scoped>\n",
       "    .dataframe tbody tr th:only-of-type {\n",
       "        vertical-align: middle;\n",
       "    }\n",
       "\n",
       "    .dataframe tbody tr th {\n",
       "        vertical-align: top;\n",
       "    }\n",
       "\n",
       "    .dataframe thead th {\n",
       "        text-align: right;\n",
       "    }\n",
       "</style>\n",
       "<table border=\"1\" class=\"dataframe\">\n",
       "  <thead>\n",
       "    <tr style=\"text-align: right;\">\n",
       "      <th></th>\n",
       "      <th>id</th>\n",
       "      <th>title</th>\n",
       "      <th>date</th>\n",
       "      <th>author</th>\n",
       "      <th>story</th>\n",
       "      <th>topic</th>\n",
       "    </tr>\n",
       "  </thead>\n",
       "  <tbody>\n",
       "    <tr>\n",
       "      <th>0</th>\n",
       "      <td>9d9ebd0204f811eb92ec646e69d991ea</td>\n",
       "      <td>شهادة طبيب جراح \"تورط\" قنصلا بتر أصبع مسنة</td>\n",
       "      <td>الجمعة 02 أكتوبر 2020 - 20:08</td>\n",
       "      <td>هسبريس من الدار البيضاء</td>\n",
       "      <td>قررت الغرفة الجنائية بمحكمة الاستئناف بمدينة ا...</td>\n",
       "      <td>faits-divers</td>\n",
       "    </tr>\n",
       "    <tr>\n",
       "      <th>1</th>\n",
       "      <td>9e96ecc604f811eb836a646e69d991ea</td>\n",
       "      <td>إحباط تهريب أكثر من طن من \"الحشيش\" بأكادير</td>\n",
       "      <td>الجمعة 02 أكتوبر 2020 - 19:37</td>\n",
       "      <td>رشيد بيجيكن من أكادير</td>\n",
       "      <td>تمكنت المصلحة الولائية للشرطة القضائية بمدينة ...</td>\n",
       "      <td>faits-divers</td>\n",
       "    </tr>\n",
       "    <tr>\n",
       "      <th>2</th>\n",
       "      <td>9fc1ec4204f811eb8619646e69d991ea</td>\n",
       "      <td>كمين أمن الصويرة يسقط شبكة هجرة غير نظامية</td>\n",
       "      <td>الجمعة 02 أكتوبر 2020 - 18:35</td>\n",
       "      <td>ابراهيم مغراوي من مراكش</td>\n",
       "      <td>أوقفت عناصر فرقة الشرطة القضائية بالمنطقة الإق...</td>\n",
       "      <td>faits-divers</td>\n",
       "    </tr>\n",
       "    <tr>\n",
       "      <th>3</th>\n",
       "      <td>a0a2fa9c04f811eb8580646e69d991ea</td>\n",
       "      <td>\"تلميذة زاكورة\" تتهم زوج أختها باستغلالها جنسيا</td>\n",
       "      <td>الجمعة 02 أكتوبر 2020 - 14:20</td>\n",
       "      <td>هسبريس من زاكورة</td>\n",
       "      <td>كشف مصدر أمني مسؤول أن التلميذة المتحدرة من جم...</td>\n",
       "      <td>faits-divers</td>\n",
       "    </tr>\n",
       "    <tr>\n",
       "      <th>4</th>\n",
       "      <td>a2d0124a04f811eba88f646e69d991ea</td>\n",
       "      <td>\"أحجار كريمة مزيفة\" تورط أشخاصا بمدينة أكادير</td>\n",
       "      <td>الجمعة 02 أكتوبر 2020 - 10:05</td>\n",
       "      <td>رشيد بيجيكن من أكادير</td>\n",
       "      <td>تمكنت عناصر المصلحة الولائية للشرطة القضائية ب...</td>\n",
       "      <td>faits-divers</td>\n",
       "    </tr>\n",
       "  </tbody>\n",
       "</table>\n",
       "</div>"
      ],
      "text/plain": [
       "                                 id  \\\n",
       "0  9d9ebd0204f811eb92ec646e69d991ea   \n",
       "1  9e96ecc604f811eb836a646e69d991ea   \n",
       "2  9fc1ec4204f811eb8619646e69d991ea   \n",
       "3  a0a2fa9c04f811eb8580646e69d991ea   \n",
       "4  a2d0124a04f811eba88f646e69d991ea   \n",
       "\n",
       "                                             title  \\\n",
       "0       شهادة طبيب جراح \"تورط\" قنصلا بتر أصبع مسنة   \n",
       "1       إحباط تهريب أكثر من طن من \"الحشيش\" بأكادير   \n",
       "2       كمين أمن الصويرة يسقط شبكة هجرة غير نظامية   \n",
       "3  \"تلميذة زاكورة\" تتهم زوج أختها باستغلالها جنسيا   \n",
       "4    \"أحجار كريمة مزيفة\" تورط أشخاصا بمدينة أكادير   \n",
       "\n",
       "                            date                   author  \\\n",
       "0  الجمعة 02 أكتوبر 2020 - 20:08  هسبريس من الدار البيضاء   \n",
       "1  الجمعة 02 أكتوبر 2020 - 19:37    رشيد بيجيكن من أكادير   \n",
       "2  الجمعة 02 أكتوبر 2020 - 18:35  ابراهيم مغراوي من مراكش   \n",
       "3  الجمعة 02 أكتوبر 2020 - 14:20         هسبريس من زاكورة   \n",
       "4  الجمعة 02 أكتوبر 2020 - 10:05    رشيد بيجيكن من أكادير   \n",
       "\n",
       "                                               story         topic  \n",
       "0  قررت الغرفة الجنائية بمحكمة الاستئناف بمدينة ا...  faits-divers  \n",
       "1  تمكنت المصلحة الولائية للشرطة القضائية بمدينة ...  faits-divers  \n",
       "2  أوقفت عناصر فرقة الشرطة القضائية بالمنطقة الإق...  faits-divers  \n",
       "3  كشف مصدر أمني مسؤول أن التلميذة المتحدرة من جم...  faits-divers  \n",
       "4  تمكنت عناصر المصلحة الولائية للشرطة القضائية ب...  faits-divers  "
      ]
     },
     "execution_count": 7,
     "metadata": {},
     "output_type": "execute_result"
    }
   ],
   "source": [
    "stories_df.head()"
   ]
  },
  {
   "cell_type": "markdown",
   "id": "4eaf7cfc",
   "metadata": {
    "papermill": {
     "duration": 0.01812,
     "end_time": "2023-07-29T17:29:15.767165",
     "exception": false,
     "start_time": "2023-07-29T17:29:15.749045",
     "status": "completed"
    },
    "tags": []
   },
   "source": [
    "# Preparing And Cleaning the data"
   ]
  },
  {
   "cell_type": "code",
   "execution_count": 8,
   "id": "0c931f99",
   "metadata": {
    "execution": {
     "iopub.execute_input": "2023-07-29T17:29:15.805183Z",
     "iopub.status.busy": "2023-07-29T17:29:15.804419Z",
     "iopub.status.idle": "2023-07-29T17:29:16.053208Z",
     "shell.execute_reply": "2023-07-29T17:29:16.052233Z"
    },
    "papermill": {
     "duration": 0.270446,
     "end_time": "2023-07-29T17:29:16.055753",
     "exception": false,
     "start_time": "2023-07-29T17:29:15.785307",
     "status": "completed"
    },
    "tags": []
   },
   "outputs": [],
   "source": [
    "comments_df.drop(columns=comments_df.columns[0:1], inplace=True)\n",
    "stories_df.drop(columns=stories_df.columns[0:4], inplace=True)\n",
    "\n",
    "topics = {\"art-et-culture\": \"Art and Culture\",\"economie\": \"Economy\",\"faits-divers\": \"Miscellaneous\",\"marocains-du-monde\": \"Moroccans of the world\",\"medias\": \"Media\",\"orbites\": \"Orbits\",\"politique\": \"Politics\",\"regions\": \"Religion\",\"societe\": \"Society\",\"sport\": \"Sport\",\"tamazight\": \"Amazigh\"}\n",
    "\n",
    "comments_df['topic']  = comments_df['topic'].replace(topics)\n",
    "stories_df['topic']  = stories_df['topic'].replace(topics)"
   ]
  },
  {
   "cell_type": "code",
   "execution_count": 9,
   "id": "b441495c",
   "metadata": {
    "execution": {
     "iopub.execute_input": "2023-07-29T17:29:16.094996Z",
     "iopub.status.busy": "2023-07-29T17:29:16.094105Z",
     "iopub.status.idle": "2023-07-29T17:29:16.105055Z",
     "shell.execute_reply": "2023-07-29T17:29:16.104038Z"
    },
    "papermill": {
     "duration": 0.032568,
     "end_time": "2023-07-29T17:29:16.107218",
     "exception": false,
     "start_time": "2023-07-29T17:29:16.074650",
     "status": "completed"
    },
    "tags": []
   },
   "outputs": [
    {
     "data": {
      "text/html": [
       "<div>\n",
       "<style scoped>\n",
       "    .dataframe tbody tr th:only-of-type {\n",
       "        vertical-align: middle;\n",
       "    }\n",
       "\n",
       "    .dataframe tbody tr th {\n",
       "        vertical-align: top;\n",
       "    }\n",
       "\n",
       "    .dataframe thead th {\n",
       "        text-align: right;\n",
       "    }\n",
       "</style>\n",
       "<table border=\"1\" class=\"dataframe\">\n",
       "  <thead>\n",
       "    <tr style=\"text-align: right;\">\n",
       "      <th></th>\n",
       "      <th>comment</th>\n",
       "      <th>score</th>\n",
       "      <th>topic</th>\n",
       "    </tr>\n",
       "  </thead>\n",
       "  <tbody>\n",
       "    <tr>\n",
       "      <th>0</th>\n",
       "      <td>سيذكر التاريخ أن سياح أجانب دخلوا المغرب و موا...</td>\n",
       "      <td>428</td>\n",
       "      <td>Moroccans of the world</td>\n",
       "    </tr>\n",
       "    <tr>\n",
       "      <th>1</th>\n",
       "      <td>الحكومات لي كتحتارم شعوبها،رجعت مواطنين الحاصل...</td>\n",
       "      <td>303</td>\n",
       "      <td>Moroccans of the world</td>\n",
       "    </tr>\n",
       "    <tr>\n",
       "      <th>2</th>\n",
       "      <td>وايلي حتى فات الفوت عاد سولني كيف ابقيت ويلي و...</td>\n",
       "      <td>154</td>\n",
       "      <td>Moroccans of the world</td>\n",
       "    </tr>\n",
       "    <tr>\n",
       "      <th>3</th>\n",
       "      <td>الله اعلم لماذا كل هذا التأخر!!! شكرا على ستة ...</td>\n",
       "      <td>107</td>\n",
       "      <td>Moroccans of the world</td>\n",
       "    </tr>\n",
       "    <tr>\n",
       "      <th>4</th>\n",
       "      <td>لقد تأخرت السلطات المغربية كثيرا لإعادة هؤلاء ...</td>\n",
       "      <td>169</td>\n",
       "      <td>Moroccans of the world</td>\n",
       "    </tr>\n",
       "  </tbody>\n",
       "</table>\n",
       "</div>"
      ],
      "text/plain": [
       "                                             comment  score  \\\n",
       "0  سيذكر التاريخ أن سياح أجانب دخلوا المغرب و موا...    428   \n",
       "1  الحكومات لي كتحتارم شعوبها،رجعت مواطنين الحاصل...    303   \n",
       "2  وايلي حتى فات الفوت عاد سولني كيف ابقيت ويلي و...    154   \n",
       "3  الله اعلم لماذا كل هذا التأخر!!! شكرا على ستة ...    107   \n",
       "4  لقد تأخرت السلطات المغربية كثيرا لإعادة هؤلاء ...    169   \n",
       "\n",
       "                    topic  \n",
       "0  Moroccans of the world  \n",
       "1  Moroccans of the world  \n",
       "2  Moroccans of the world  \n",
       "3  Moroccans of the world  \n",
       "4  Moroccans of the world  "
      ]
     },
     "execution_count": 9,
     "metadata": {},
     "output_type": "execute_result"
    }
   ],
   "source": [
    "comments_df.head()"
   ]
  },
  {
   "cell_type": "code",
   "execution_count": 10,
   "id": "d319ee3d",
   "metadata": {
    "execution": {
     "iopub.execute_input": "2023-07-29T17:29:16.147114Z",
     "iopub.status.busy": "2023-07-29T17:29:16.146833Z",
     "iopub.status.idle": "2023-07-29T17:29:16.155878Z",
     "shell.execute_reply": "2023-07-29T17:29:16.154945Z"
    },
    "papermill": {
     "duration": 0.031148,
     "end_time": "2023-07-29T17:29:16.158110",
     "exception": false,
     "start_time": "2023-07-29T17:29:16.126962",
     "status": "completed"
    },
    "tags": []
   },
   "outputs": [
    {
     "data": {
      "text/html": [
       "<div>\n",
       "<style scoped>\n",
       "    .dataframe tbody tr th:only-of-type {\n",
       "        vertical-align: middle;\n",
       "    }\n",
       "\n",
       "    .dataframe tbody tr th {\n",
       "        vertical-align: top;\n",
       "    }\n",
       "\n",
       "    .dataframe thead th {\n",
       "        text-align: right;\n",
       "    }\n",
       "</style>\n",
       "<table border=\"1\" class=\"dataframe\">\n",
       "  <thead>\n",
       "    <tr style=\"text-align: right;\">\n",
       "      <th></th>\n",
       "      <th>story</th>\n",
       "      <th>topic</th>\n",
       "    </tr>\n",
       "  </thead>\n",
       "  <tbody>\n",
       "    <tr>\n",
       "      <th>0</th>\n",
       "      <td>قررت الغرفة الجنائية بمحكمة الاستئناف بمدينة ا...</td>\n",
       "      <td>Miscellaneous</td>\n",
       "    </tr>\n",
       "    <tr>\n",
       "      <th>1</th>\n",
       "      <td>تمكنت المصلحة الولائية للشرطة القضائية بمدينة ...</td>\n",
       "      <td>Miscellaneous</td>\n",
       "    </tr>\n",
       "    <tr>\n",
       "      <th>2</th>\n",
       "      <td>أوقفت عناصر فرقة الشرطة القضائية بالمنطقة الإق...</td>\n",
       "      <td>Miscellaneous</td>\n",
       "    </tr>\n",
       "    <tr>\n",
       "      <th>3</th>\n",
       "      <td>كشف مصدر أمني مسؤول أن التلميذة المتحدرة من جم...</td>\n",
       "      <td>Miscellaneous</td>\n",
       "    </tr>\n",
       "    <tr>\n",
       "      <th>4</th>\n",
       "      <td>تمكنت عناصر المصلحة الولائية للشرطة القضائية ب...</td>\n",
       "      <td>Miscellaneous</td>\n",
       "    </tr>\n",
       "  </tbody>\n",
       "</table>\n",
       "</div>"
      ],
      "text/plain": [
       "                                               story          topic\n",
       "0  قررت الغرفة الجنائية بمحكمة الاستئناف بمدينة ا...  Miscellaneous\n",
       "1  تمكنت المصلحة الولائية للشرطة القضائية بمدينة ...  Miscellaneous\n",
       "2  أوقفت عناصر فرقة الشرطة القضائية بالمنطقة الإق...  Miscellaneous\n",
       "3  كشف مصدر أمني مسؤول أن التلميذة المتحدرة من جم...  Miscellaneous\n",
       "4  تمكنت عناصر المصلحة الولائية للشرطة القضائية ب...  Miscellaneous"
      ]
     },
     "execution_count": 10,
     "metadata": {},
     "output_type": "execute_result"
    }
   ],
   "source": [
    "stories_df.head()"
   ]
  },
  {
   "cell_type": "code",
   "execution_count": 11,
   "id": "913884de",
   "metadata": {
    "execution": {
     "iopub.execute_input": "2023-07-29T17:29:16.197752Z",
     "iopub.status.busy": "2023-07-29T17:29:16.197441Z",
     "iopub.status.idle": "2023-07-29T17:29:16.207926Z",
     "shell.execute_reply": "2023-07-29T17:29:16.207142Z"
    },
    "papermill": {
     "duration": 0.032526,
     "end_time": "2023-07-29T17:29:16.210055",
     "exception": false,
     "start_time": "2023-07-29T17:29:16.177529",
     "status": "completed"
    },
    "tags": []
   },
   "outputs": [],
   "source": [
    "st =  Stemmer.Stemmer('arabic')\n",
    "\n",
    "def clean (text):\n",
    "    text = re.sub(r'^https?:\\/\\/.*[\\r\\n]*', '', str(text), flags=re.MULTILINE)\n",
    "    text = re.sub(r'^http?:\\/\\/.*[\\r\\n]*', '', str(text), flags=re.MULTILINE)\n",
    "    text = re.sub(r\"http\\S+\", \"\", str(text))\n",
    "    text = re.sub(r\"https\\S+\", \"\", str(text))\n",
    "    text = re.sub(r'\\s+', ' ', str(text))\n",
    "    text = re.sub(\"(\\s\\d+)\",\"\",str(text)) \n",
    "    text = re.sub(r\"$\\d+\\W+|\\b\\d+\\b|\\W+\\d+$\", \"\", str(text))\n",
    "    text = re.sub(\"\\d+\", \" \", str(text))\n",
    "    text = text.replace(\"#\", \" \");\n",
    "    text = text.replace(\"@\", \" \");\n",
    "    text = text.replace(\"_\", \" \");\n",
    "    text = re.sub(r'(.)\\1+', r'\\1', text)\n",
    "    text_stem = \" \".join([st.stemWord(i) for i in text.split()])\n",
    "    text = text +\" \"+ text_stem\n",
    "    text = text.replace(\"آ\", \"ا\")\n",
    "    text = text.replace(\"إ\", \"ا\")\n",
    "    text = text.replace(\"أ\", \"ا\")\n",
    "    text = text.replace(\"ؤ\", \"و\")\n",
    "    text = text.replace(\"ئ\", \"ي\")\n",
    "    \n",
    "    return text"
   ]
  },
  {
   "cell_type": "code",
   "execution_count": 12,
   "id": "8d59bdc9",
   "metadata": {
    "execution": {
     "iopub.execute_input": "2023-07-29T17:29:16.248275Z",
     "iopub.status.busy": "2023-07-29T17:29:16.248018Z",
     "iopub.status.idle": "2023-07-29T17:31:05.416416Z",
     "shell.execute_reply": "2023-07-29T17:31:05.415375Z"
    },
    "papermill": {
     "duration": 109.190449,
     "end_time": "2023-07-29T17:31:05.419075",
     "exception": false,
     "start_time": "2023-07-29T17:29:16.228626",
     "status": "completed"
    },
    "tags": []
   },
   "outputs": [],
   "source": [
    "stories_df['story'] = stories_df['story'].apply(lambda x: clean(x))\n",
    "comments_df['comment'] = comments_df['comment'].apply(lambda x: clean(x))"
   ]
  },
  {
   "cell_type": "code",
   "execution_count": 13,
   "id": "0b231fd2",
   "metadata": {
    "execution": {
     "iopub.execute_input": "2023-07-29T17:31:05.458146Z",
     "iopub.status.busy": "2023-07-29T17:31:05.457823Z",
     "iopub.status.idle": "2023-07-29T17:31:05.494831Z",
     "shell.execute_reply": "2023-07-29T17:31:05.493748Z"
    },
    "papermill": {
     "duration": 0.059344,
     "end_time": "2023-07-29T17:31:05.497501",
     "exception": false,
     "start_time": "2023-07-29T17:31:05.438157",
     "status": "completed"
    },
    "tags": []
   },
   "outputs": [
    {
     "data": {
      "text/html": [
       "<div>\n",
       "<style scoped>\n",
       "    .dataframe tbody tr th:only-of-type {\n",
       "        vertical-align: middle;\n",
       "    }\n",
       "\n",
       "    .dataframe tbody tr th {\n",
       "        vertical-align: top;\n",
       "    }\n",
       "\n",
       "    .dataframe thead th {\n",
       "        text-align: right;\n",
       "    }\n",
       "</style>\n",
       "<table border=\"1\" class=\"dataframe\">\n",
       "  <thead>\n",
       "    <tr style=\"text-align: right;\">\n",
       "      <th></th>\n",
       "      <th>story</th>\n",
       "      <th>topic</th>\n",
       "      <th>topic_id</th>\n",
       "    </tr>\n",
       "  </thead>\n",
       "  <tbody>\n",
       "    <tr>\n",
       "      <th>0</th>\n",
       "      <td>قرت الغرفة الجنايية بمحكمة الاستيناف بمدينة ال...</td>\n",
       "      <td>Miscellaneous</td>\n",
       "      <td>2</td>\n",
       "    </tr>\n",
       "    <tr>\n",
       "      <th>1</th>\n",
       "      <td>تمكنت المصلحة الولايية لشرطة القضايية بمدينة ا...</td>\n",
       "      <td>Miscellaneous</td>\n",
       "      <td>2</td>\n",
       "    </tr>\n",
       "    <tr>\n",
       "      <th>2</th>\n",
       "      <td>اوقفت عناصر فرقة الشرطة القضايية بالمنطقة الاق...</td>\n",
       "      <td>Miscellaneous</td>\n",
       "      <td>2</td>\n",
       "    </tr>\n",
       "    <tr>\n",
       "      <th>3</th>\n",
       "      <td>كشف مصدر امني مسوول ان التلميذة المتحدرة من جم...</td>\n",
       "      <td>Miscellaneous</td>\n",
       "      <td>2</td>\n",
       "    </tr>\n",
       "    <tr>\n",
       "      <th>4</th>\n",
       "      <td>تمكنت عناصر المصلحة الولايية لشرطة القضايية بم...</td>\n",
       "      <td>Miscellaneous</td>\n",
       "      <td>2</td>\n",
       "    </tr>\n",
       "    <tr>\n",
       "      <th>...</th>\n",
       "      <td>...</td>\n",
       "      <td>...</td>\n",
       "      <td>...</td>\n",
       "    </tr>\n",
       "    <tr>\n",
       "      <th>10995</th>\n",
       "      <td>اعلنت وزارة التربية الوطنية والتكوين المهني وا...</td>\n",
       "      <td>Moroccans of the world</td>\n",
       "      <td>3</td>\n",
       "    </tr>\n",
       "    <tr>\n",
       "      <th>10996</th>\n",
       "      <td>لا يلفظ اسم العربي الحروشي في سلطنة عمان الا و...</td>\n",
       "      <td>Moroccans of the world</td>\n",
       "      <td>3</td>\n",
       "    </tr>\n",
       "    <tr>\n",
       "      <th>10997</th>\n",
       "      <td>طال المقام بالمغربية غزلان الصيابري في تجربة ا...</td>\n",
       "      <td>Moroccans of the world</td>\n",
       "      <td>3</td>\n",
       "    </tr>\n",
       "    <tr>\n",
       "      <th>10998</th>\n",
       "      <td>يعيش هشام تسمارت اواخر سنين العقد الثالث من حي...</td>\n",
       "      <td>Moroccans of the world</td>\n",
       "      <td>3</td>\n",
       "    </tr>\n",
       "    <tr>\n",
       "      <th>10999</th>\n",
       "      <td>يحوز جواد الخراز تنشية اساسية مغربية تلازمه بل...</td>\n",
       "      <td>Moroccans of the world</td>\n",
       "      <td>3</td>\n",
       "    </tr>\n",
       "  </tbody>\n",
       "</table>\n",
       "<p>11000 rows × 3 columns</p>\n",
       "</div>"
      ],
      "text/plain": [
       "                                                   story  \\\n",
       "0      قرت الغرفة الجنايية بمحكمة الاستيناف بمدينة ال...   \n",
       "1      تمكنت المصلحة الولايية لشرطة القضايية بمدينة ا...   \n",
       "2      اوقفت عناصر فرقة الشرطة القضايية بالمنطقة الاق...   \n",
       "3      كشف مصدر امني مسوول ان التلميذة المتحدرة من جم...   \n",
       "4      تمكنت عناصر المصلحة الولايية لشرطة القضايية بم...   \n",
       "...                                                  ...   \n",
       "10995  اعلنت وزارة التربية الوطنية والتكوين المهني وا...   \n",
       "10996  لا يلفظ اسم العربي الحروشي في سلطنة عمان الا و...   \n",
       "10997  طال المقام بالمغربية غزلان الصيابري في تجربة ا...   \n",
       "10998  يعيش هشام تسمارت اواخر سنين العقد الثالث من حي...   \n",
       "10999  يحوز جواد الخراز تنشية اساسية مغربية تلازمه بل...   \n",
       "\n",
       "                        topic  topic_id  \n",
       "0               Miscellaneous         2  \n",
       "1               Miscellaneous         2  \n",
       "2               Miscellaneous         2  \n",
       "3               Miscellaneous         2  \n",
       "4               Miscellaneous         2  \n",
       "...                       ...       ...  \n",
       "10995  Moroccans of the world         3  \n",
       "10996  Moroccans of the world         3  \n",
       "10997  Moroccans of the world         3  \n",
       "10998  Moroccans of the world         3  \n",
       "10999  Moroccans of the world         3  \n",
       "\n",
       "[11000 rows x 3 columns]"
      ]
     },
     "execution_count": 13,
     "metadata": {},
     "output_type": "execute_result"
    }
   ],
   "source": [
    "stories_df['topic_id'] = stories_df['topic']\n",
    "topic_ids = {\"Art and Culture\":0, \"Economy\" :1,\"Miscellaneous\":2,\"Moroccans of the world\":3,\"Media\":4, \"Orbits\":5, \"Politics\": 6,\"Religion\": 7, \"Society\":8, \"Sport\":9, \"Amazigh\": 10}\n",
    "stories_df['topic_id']  = stories_df['topic_id'].replace(topic_ids)\n",
    "stories_df"
   ]
  },
  {
   "cell_type": "markdown",
   "id": "0e6a8adc",
   "metadata": {
    "papermill": {
     "duration": 0.018658,
     "end_time": "2023-07-29T17:31:05.535598",
     "exception": false,
     "start_time": "2023-07-29T17:31:05.516940",
     "status": "completed"
    },
    "tags": []
   },
   "source": [
    "# EDA"
   ]
  },
  {
   "cell_type": "code",
   "execution_count": 14,
   "id": "906edc18",
   "metadata": {
    "execution": {
     "iopub.execute_input": "2023-07-29T17:31:05.575274Z",
     "iopub.status.busy": "2023-07-29T17:31:05.574402Z",
     "iopub.status.idle": "2023-07-29T17:31:05.885910Z",
     "shell.execute_reply": "2023-07-29T17:31:05.885003Z"
    },
    "papermill": {
     "duration": 0.335161,
     "end_time": "2023-07-29T17:31:05.889513",
     "exception": false,
     "start_time": "2023-07-29T17:31:05.554352",
     "status": "completed"
    },
    "tags": []
   },
   "outputs": [
    {
     "data": {
      "image/png": "[encoded data removed]",
      "text/plain": [
       "<Figure size 900x600 with 1 Axes>"
      ]
     },
     "metadata": {},
     "output_type": "display_data"
    }
   ],
   "source": [
    "topics = stories_df.topic.value_counts()\n",
    "plt.figure(figsize=(9,6))\n",
    "plt.title(\"Distribution of topics in the Dataset\")\n",
    "plt.pie(topics, labels=topics.index, autopct='%.2f%%');"
   ]
  },
  {
   "cell_type": "code",
   "execution_count": 15,
   "id": "8d259a38",
   "metadata": {
    "execution": {
     "iopub.execute_input": "2023-07-29T17:31:05.930826Z",
     "iopub.status.busy": "2023-07-29T17:31:05.930499Z",
     "iopub.status.idle": "2023-07-29T17:31:06.232833Z",
     "shell.execute_reply": "2023-07-29T17:31:06.231557Z"
    },
    "papermill": {
     "duration": 0.326938,
     "end_time": "2023-07-29T17:31:06.236736",
     "exception": false,
     "start_time": "2023-07-29T17:31:05.909798",
     "status": "completed"
    },
    "tags": []
   },
   "outputs": [
    {
     "data": {
      "image/png": "[encoded data removed]",
      "text/plain": [
       "<Figure size 900x600 with 1 Axes>"
      ]
     },
     "metadata": {},
     "output_type": "display_data"
    }
   ],
   "source": [
    "topics = comments_df.topic.value_counts()\n",
    "plt.figure(figsize=(9,6))\n",
    "plt.title(\"The percentage of Readers interacions with topics\")\n",
    "plt.pie(topics, labels=topics.index, autopct='%.2f%%');"
   ]
  },
  {
   "cell_type": "code",
   "execution_count": 16,
   "id": "ffce2c82",
   "metadata": {
    "execution": {
     "iopub.execute_input": "2023-07-29T17:31:06.285669Z",
     "iopub.status.busy": "2023-07-29T17:31:06.285331Z",
     "iopub.status.idle": "2023-07-29T17:31:06.308445Z",
     "shell.execute_reply": "2023-07-29T17:31:06.307268Z"
    },
    "papermill": {
     "duration": 0.047214,
     "end_time": "2023-07-29T17:31:06.310877",
     "exception": false,
     "start_time": "2023-07-29T17:31:06.263663",
     "status": "completed"
    },
    "tags": []
   },
   "outputs": [
    {
     "data": {
      "text/plain": [
       "count    311515.000000\n",
       "mean         18.131862\n",
       "std          80.084768\n",
       "min       -2199.000000\n",
       "25%           0.000000\n",
       "50%           6.000000\n",
       "75%          21.000000\n",
       "max        3824.000000\n",
       "Name: score, dtype: float64"
      ]
     },
     "execution_count": 16,
     "metadata": {},
     "output_type": "execute_result"
    }
   ],
   "source": [
    "comments_df.score.describe()"
   ]
  },
  {
   "cell_type": "markdown",
   "id": "e2e23333",
   "metadata": {
    "papermill": {
     "duration": 0.020751,
     "end_time": "2023-07-29T17:31:06.352837",
     "exception": false,
     "start_time": "2023-07-29T17:31:06.332086",
     "status": "completed"
    },
    "tags": []
   },
   "source": [
    "# Loading the Data"
   ]
  },
  {
   "cell_type": "code",
   "execution_count": 17,
   "id": "fa9ec298",
   "metadata": {
    "execution": {
     "iopub.execute_input": "2023-07-29T17:31:06.397351Z",
     "iopub.status.busy": "2023-07-29T17:31:06.395740Z",
     "iopub.status.idle": "2023-07-29T17:31:06.401172Z",
     "shell.execute_reply": "2023-07-29T17:31:06.400091Z"
    },
    "papermill": {
     "duration": 0.029565,
     "end_time": "2023-07-29T17:31:06.403198",
     "exception": false,
     "start_time": "2023-07-29T17:31:06.373633",
     "status": "completed"
    },
    "tags": []
   },
   "outputs": [],
   "source": [
    "model_name = \"asafaya/bert-base-arabic\"\n",
    "max_length = 128\n",
    "batch_size = 32"
   ]
  },
  {
   "cell_type": "code",
   "execution_count": 18,
   "id": "4b951a5d",
   "metadata": {
    "execution": {
     "iopub.execute_input": "2023-07-29T17:31:06.446699Z",
     "iopub.status.busy": "2023-07-29T17:31:06.445832Z",
     "iopub.status.idle": "2023-07-29T17:31:06.461841Z",
     "shell.execute_reply": "2023-07-29T17:31:06.460984Z"
    },
    "papermill": {
     "duration": 0.039702,
     "end_time": "2023-07-29T17:31:06.463916",
     "exception": false,
     "start_time": "2023-07-29T17:31:06.424214",
     "status": "completed"
    },
    "tags": []
   },
   "outputs": [],
   "source": [
    "stories_df.dropna()\n",
    "\n",
    "stories_df = stories_df.sample(frac = 1)\n"
   ]
  },
  {
   "cell_type": "code",
   "execution_count": 19,
   "id": "43936727",
   "metadata": {
    "execution": {
     "iopub.execute_input": "2023-07-29T17:31:06.507137Z",
     "iopub.status.busy": "2023-07-29T17:31:06.506848Z",
     "iopub.status.idle": "2023-07-29T17:31:06.520109Z",
     "shell.execute_reply": "2023-07-29T17:31:06.518893Z"
    },
    "papermill": {
     "duration": 0.038029,
     "end_time": "2023-07-29T17:31:06.522824",
     "exception": false,
     "start_time": "2023-07-29T17:31:06.484795",
     "status": "completed"
    },
    "tags": []
   },
   "outputs": [
    {
     "data": {
      "text/html": [
       "<div>\n",
       "<style scoped>\n",
       "    .dataframe tbody tr th:only-of-type {\n",
       "        vertical-align: middle;\n",
       "    }\n",
       "\n",
       "    .dataframe tbody tr th {\n",
       "        vertical-align: top;\n",
       "    }\n",
       "\n",
       "    .dataframe thead th {\n",
       "        text-align: right;\n",
       "    }\n",
       "</style>\n",
       "<table border=\"1\" class=\"dataframe\">\n",
       "  <thead>\n",
       "    <tr style=\"text-align: right;\">\n",
       "      <th></th>\n",
       "      <th>story</th>\n",
       "      <th>topic</th>\n",
       "      <th>topic_id</th>\n",
       "    </tr>\n",
       "  </thead>\n",
       "  <tbody>\n",
       "    <tr>\n",
       "      <th>0</th>\n",
       "      <td>شد وزير الشوون الخارجية والتعاون الافريقي والم...</td>\n",
       "      <td>Politics</td>\n",
       "      <td>6</td>\n",
       "    </tr>\n",
       "    <tr>\n",
       "      <th>1</th>\n",
       "      <td>ندّدت النقابة الوطنية لتعليم العالي، التي تُمث...</td>\n",
       "      <td>Society</td>\n",
       "      <td>8</td>\n",
       "    </tr>\n",
       "    <tr>\n",
       "      <th>2</th>\n",
       "      <td>انطلق الموسم الدراسي-، صباح الاثنين، وسط اجواء...</td>\n",
       "      <td>Society</td>\n",
       "      <td>8</td>\n",
       "    </tr>\n",
       "    <tr>\n",
       "      <th>3</th>\n",
       "      <td>اكتشف تلاميذ موسّستَين تعليميتين من مدينة تمار...</td>\n",
       "      <td>Orbits</td>\n",
       "      <td>5</td>\n",
       "    </tr>\n",
       "    <tr>\n",
       "      <th>4</th>\n",
       "      <td>اطلق مجموعة من الفنانين والاعلامين المغاربة \"ا...</td>\n",
       "      <td>Art and Culture</td>\n",
       "      <td>0</td>\n",
       "    </tr>\n",
       "    <tr>\n",
       "      <th>...</th>\n",
       "      <td>...</td>\n",
       "      <td>...</td>\n",
       "      <td>...</td>\n",
       "    </tr>\n",
       "    <tr>\n",
       "      <th>10995</th>\n",
       "      <td>لا تخفى التاثيرات الكبرى التي تخلّفها الازمات ...</td>\n",
       "      <td>Orbits</td>\n",
       "      <td>5</td>\n",
       "    </tr>\n",
       "    <tr>\n",
       "      <th>10996</th>\n",
       "      <td>اعتبر محمد ضريف، رييس حزب \"الديمقراطيون الجد\" ...</td>\n",
       "      <td>Politics</td>\n",
       "      <td>6</td>\n",
       "    </tr>\n",
       "    <tr>\n",
       "      <th>10997</th>\n",
       "      <td>نبدا مطالعة انباء بعض الجرايد الورقية الخاصة ب...</td>\n",
       "      <td>Media</td>\n",
       "      <td>4</td>\n",
       "    </tr>\n",
       "    <tr>\n",
       "      <th>10998</th>\n",
       "      <td>في وقت تثير الايحة الوطنية لشباب والنساء جدلا ...</td>\n",
       "      <td>Politics</td>\n",
       "      <td>6</td>\n",
       "    </tr>\n",
       "    <tr>\n",
       "      <th>10999</th>\n",
       "      <td>يسود الاعتقاد عند المثقفين عموما، بل حتى عند ب...</td>\n",
       "      <td>Amazigh</td>\n",
       "      <td>10</td>\n",
       "    </tr>\n",
       "  </tbody>\n",
       "</table>\n",
       "<p>11000 rows × 3 columns</p>\n",
       "</div>"
      ],
      "text/plain": [
       "                                                   story            topic  \\\n",
       "0      شد وزير الشوون الخارجية والتعاون الافريقي والم...         Politics   \n",
       "1      ندّدت النقابة الوطنية لتعليم العالي، التي تُمث...          Society   \n",
       "2      انطلق الموسم الدراسي-، صباح الاثنين، وسط اجواء...          Society   \n",
       "3      اكتشف تلاميذ موسّستَين تعليميتين من مدينة تمار...           Orbits   \n",
       "4      اطلق مجموعة من الفنانين والاعلامين المغاربة \"ا...  Art and Culture   \n",
       "...                                                  ...              ...   \n",
       "10995  لا تخفى التاثيرات الكبرى التي تخلّفها الازمات ...           Orbits   \n",
       "10996  اعتبر محمد ضريف، رييس حزب \"الديمقراطيون الجد\" ...         Politics   \n",
       "10997  نبدا مطالعة انباء بعض الجرايد الورقية الخاصة ب...            Media   \n",
       "10998  في وقت تثير الايحة الوطنية لشباب والنساء جدلا ...         Politics   \n",
       "10999  يسود الاعتقاد عند المثقفين عموما، بل حتى عند ب...          Amazigh   \n",
       "\n",
       "       topic_id  \n",
       "0             6  \n",
       "1             8  \n",
       "2             8  \n",
       "3             5  \n",
       "4             0  \n",
       "...         ...  \n",
       "10995         5  \n",
       "10996         6  \n",
       "10997         4  \n",
       "10998         6  \n",
       "10999        10  \n",
       "\n",
       "[11000 rows x 3 columns]"
      ]
     },
     "execution_count": 19,
     "metadata": {},
     "output_type": "execute_result"
    }
   ],
   "source": [
    "stories_df.reset_index(drop=True, inplace=False)"
   ]
  },
  {
   "cell_type": "code",
   "execution_count": 20,
   "id": "f48fa6ac",
   "metadata": {
    "execution": {
     "iopub.execute_input": "2023-07-29T17:31:06.566887Z",
     "iopub.status.busy": "2023-07-29T17:31:06.566606Z",
     "iopub.status.idle": "2023-07-29T17:31:06.573357Z",
     "shell.execute_reply": "2023-07-29T17:31:06.572353Z"
    },
    "papermill": {
     "duration": 0.03111,
     "end_time": "2023-07-29T17:31:06.575715",
     "exception": false,
     "start_time": "2023-07-29T17:31:06.544605",
     "status": "completed"
    },
    "tags": []
   },
   "outputs": [],
   "source": [
    "train_texts = stories_df.iloc[:7000]['story'].values\n",
    "train_labels = stories_df.iloc[:7000]['topic_id'].values\n",
    "\n",
    "valid_texts = stories_df.iloc[7000:9000]['story'].values\n",
    "valid_labels = stories_df.iloc[7000:9000]['topic_id'].values\n",
    "\n",
    "test_texts = stories_df.iloc[9000:]['story'].values\n",
    "test_labels = stories_df.iloc[9000:]['topic_id'].values"
   ]
  },
  {
   "cell_type": "code",
   "execution_count": 21,
   "id": "2c7954ac",
   "metadata": {
    "execution": {
     "iopub.execute_input": "2023-07-29T17:31:06.619383Z",
     "iopub.status.busy": "2023-07-29T17:31:06.619079Z",
     "iopub.status.idle": "2023-07-29T17:31:07.935053Z",
     "shell.execute_reply": "2023-07-29T17:31:07.934031Z"
    },
    "papermill": {
     "duration": 1.340616,
     "end_time": "2023-07-29T17:31:07.937456",
     "exception": false,
     "start_time": "2023-07-29T17:31:06.596840",
     "status": "completed"
    },
    "tags": []
   },
   "outputs": [
    {
     "data": {
      "application/vnd.jupyter.widget-view+json": {
       "model_id": "4c139742642148db8dc9413f0962b85e",
       "version_major": 2,
       "version_minor": 0
      },
      "text/plain": [
       "Downloading (…)okenizer_config.json:   0%|          | 0.00/62.0 [00:00<?, ?B/s]"
      ]
     },
     "metadata": {},
     "output_type": "display_data"
    },
    {
     "data": {
      "application/vnd.jupyter.widget-view+json": {
       "model_id": "165cec5739654023a482e49f41b981d5",
       "version_major": 2,
       "version_minor": 0
      },
      "text/plain": [
       "Downloading (…)lve/main/config.json:   0%|          | 0.00/491 [00:00<?, ?B/s]"
      ]
     },
     "metadata": {},
     "output_type": "display_data"
    },
    {
     "data": {
      "application/vnd.jupyter.widget-view+json": {
       "model_id": "6a809a9f2d854f4fbb9fc92a7c9ea3c9",
       "version_major": 2,
       "version_minor": 0
      },
      "text/plain": [
       "Downloading (…)solve/main/vocab.txt:   0%|          | 0.00/334k [00:00<?, ?B/s]"
      ]
     },
     "metadata": {},
     "output_type": "display_data"
    },
    {
     "data": {
      "application/vnd.jupyter.widget-view+json": {
       "model_id": "80de418d3ece426c820bf14763c5fe11",
       "version_major": 2,
       "version_minor": 0
      },
      "text/plain": [
       "Downloading (…)cial_tokens_map.json:   0%|          | 0.00/112 [00:00<?, ?B/s]"
      ]
     },
     "metadata": {},
     "output_type": "display_data"
    }
   ],
   "source": [
    "tokenizer = AutoTokenizer.from_pretrained(model_name,model_max_length=128)"
   ]
  },
  {
   "cell_type": "code",
   "execution_count": 22,
   "id": "e7af868e",
   "metadata": {
    "execution": {
     "iopub.execute_input": "2023-07-29T17:31:07.983709Z",
     "iopub.status.busy": "2023-07-29T17:31:07.982864Z",
     "iopub.status.idle": "2023-07-29T17:31:41.950959Z",
     "shell.execute_reply": "2023-07-29T17:31:41.949971Z"
    },
    "papermill": {
     "duration": 33.993689,
     "end_time": "2023-07-29T17:31:41.953654",
     "exception": false,
     "start_time": "2023-07-29T17:31:07.959965",
     "status": "completed"
    },
    "tags": []
   },
   "outputs": [],
   "source": [
    "train_encodings = tokenizer(list(train_texts), truncation=True, padding=True)\n",
    "valid_encodings = tokenizer(list(valid_texts), truncation=True, padding=True)\n",
    "test_encodings = tokenizer(list(test_texts), truncation=True, padding=True)"
   ]
  },
  {
   "cell_type": "code",
   "execution_count": 23,
   "id": "bb9257eb",
   "metadata": {
    "execution": {
     "iopub.execute_input": "2023-07-29T17:31:42.001098Z",
     "iopub.status.busy": "2023-07-29T17:31:42.000753Z",
     "iopub.status.idle": "2023-07-29T17:31:42.007113Z",
     "shell.execute_reply": "2023-07-29T17:31:42.006195Z"
    },
    "papermill": {
     "duration": 0.031722,
     "end_time": "2023-07-29T17:31:42.009174",
     "exception": false,
     "start_time": "2023-07-29T17:31:41.977452",
     "status": "completed"
    },
    "tags": []
   },
   "outputs": [],
   "source": [
    "class HespressDataset(Dataset):\n",
    "    def __init__(self, encodings, labels):\n",
    "        self.encodings = encodings\n",
    "        self.labels = labels\n",
    "\n",
    "    def __getitem__(self, idx):\n",
    "        item = {key: torch.tensor(val[idx]) for key, val in self.encodings.items()}\n",
    "        item['labels'] = torch.tensor(self.labels[idx])\n",
    "        return item\n",
    "\n",
    "    def __len__(self):\n",
    "        return len(self.labels)"
   ]
  },
  {
   "cell_type": "code",
   "execution_count": 24,
   "id": "aaa0918b",
   "metadata": {
    "execution": {
     "iopub.execute_input": "2023-07-29T17:31:42.061740Z",
     "iopub.status.busy": "2023-07-29T17:31:42.059910Z",
     "iopub.status.idle": "2023-07-29T17:31:42.066098Z",
     "shell.execute_reply": "2023-07-29T17:31:42.065053Z"
    },
    "papermill": {
     "duration": 0.034938,
     "end_time": "2023-07-29T17:31:42.068442",
     "exception": false,
     "start_time": "2023-07-29T17:31:42.033504",
     "status": "completed"
    },
    "tags": []
   },
   "outputs": [],
   "source": [
    "train_dataset = HespressDataset(train_encodings, train_labels)\n",
    "valid_dataset = HespressDataset(valid_encodings, valid_labels)\n",
    "test_dataset = HespressDataset(test_encodings, test_labels)"
   ]
  },
  {
   "cell_type": "code",
   "execution_count": 25,
   "id": "52d18f2e",
   "metadata": {
    "execution": {
     "iopub.execute_input": "2023-07-29T17:31:42.114655Z",
     "iopub.status.busy": "2023-07-29T17:31:42.113772Z",
     "iopub.status.idle": "2023-07-29T17:31:42.119798Z",
     "shell.execute_reply": "2023-07-29T17:31:42.118962Z"
    },
    "papermill": {
     "duration": 0.030912,
     "end_time": "2023-07-29T17:31:42.121840",
     "exception": false,
     "start_time": "2023-07-29T17:31:42.090928",
     "status": "completed"
    },
    "tags": []
   },
   "outputs": [],
   "source": [
    "train_loader = torch.utils.data.DataLoader(train_dataset, batch_size=32, shuffle=True)\n",
    "valid_loader = torch.utils.data.DataLoader(valid_dataset, batch_size=32, shuffle=False)\n",
    "test_loader = torch.utils.data.DataLoader(test_dataset, batch_size=32, shuffle=False)"
   ]
  },
  {
   "cell_type": "markdown",
   "id": "d1f1cb0e",
   "metadata": {
    "papermill": {
     "duration": 0.021844,
     "end_time": "2023-07-29T17:31:42.165566",
     "exception": false,
     "start_time": "2023-07-29T17:31:42.143722",
     "status": "completed"
    },
    "tags": []
   },
   "source": [
    "# Building BERTModel for Topic Classification "
   ]
  },
  {
   "cell_type": "code",
   "execution_count": 26,
   "id": "9fb64c40",
   "metadata": {
    "execution": {
     "iopub.execute_input": "2023-07-29T17:31:42.216201Z",
     "iopub.status.busy": "2023-07-29T17:31:42.215912Z",
     "iopub.status.idle": "2023-07-29T17:31:42.220386Z",
     "shell.execute_reply": "2023-07-29T17:31:42.219504Z"
    },
    "papermill": {
     "duration": 0.035446,
     "end_time": "2023-07-29T17:31:42.222622",
     "exception": false,
     "start_time": "2023-07-29T17:31:42.187176",
     "status": "completed"
    },
    "tags": []
   },
   "outputs": [],
   "source": [
    "#set device\n",
    "DEVICE = torch.device('cuda' if torch.cuda.is_available() else 'cpu')"
   ]
  },
  {
   "cell_type": "code",
   "execution_count": 27,
   "id": "bb47f405",
   "metadata": {
    "_kg_hide-input": true,
    "execution": {
     "iopub.execute_input": "2023-07-29T17:31:42.268405Z",
     "iopub.status.busy": "2023-07-29T17:31:42.267632Z",
     "iopub.status.idle": "2023-07-29T17:31:52.140659Z",
     "shell.execute_reply": "2023-07-29T17:31:52.139665Z"
    },
    "papermill": {
     "duration": 9.898011,
     "end_time": "2023-07-29T17:31:52.143245",
     "exception": false,
     "start_time": "2023-07-29T17:31:42.245234",
     "status": "completed"
    },
    "tags": []
   },
   "outputs": [
    {
     "data": {
      "application/vnd.jupyter.widget-view+json": {
       "model_id": "1dd0972d35a64ff88bcf45258485a5e9",
       "version_major": 2,
       "version_minor": 0
      },
      "text/plain": [
       "Downloading model.safetensors:   0%|          | 0.00/445M [00:00<?, ?B/s]"
      ]
     },
     "metadata": {},
     "output_type": "display_data"
    },
    {
     "name": "stderr",
     "output_type": "stream",
     "text": [
      "Some weights of the model checkpoint at asafaya/bert-base-arabic were not used when initializing BertForSequenceClassification: ['cls.predictions.transform.dense.weight', 'cls.predictions.transform.dense.bias', 'cls.predictions.transform.LayerNorm.bias', 'cls.predictions.bias', 'cls.predictions.transform.LayerNorm.weight']\n",
      "- This IS expected if you are initializing BertForSequenceClassification from the checkpoint of a model trained on another task or with another architecture (e.g. initializing a BertForSequenceClassification model from a BertForPreTraining model).\n",
      "- This IS NOT expected if you are initializing BertForSequenceClassification from the checkpoint of a model that you expect to be exactly identical (initializing a BertForSequenceClassification model from a BertForSequenceClassification model).\n",
      "Some weights of BertForSequenceClassification were not initialized from the model checkpoint at asafaya/bert-base-arabic and are newly initialized: ['classifier.weight', 'classifier.bias']\n",
      "You should probably TRAIN this model on a down-stream task to be able to use it for predictions and inference.\n"
     ]
    }
   ],
   "source": [
    "model = BertForSequenceClassification.from_pretrained(model_name,num_labels=11,\n",
    "                                                      output_attentions=False,output_hidden_states=False)\n",
    "model.to(DEVICE)\n",
    "model.train()\n",
    "optim = torch.optim.Adam(model.parameters(), lr=5e-5)\n",
    "NUM_EPOCHS = 3"
   ]
  },
  {
   "cell_type": "code",
   "execution_count": 28,
   "id": "98c6ca93",
   "metadata": {
    "execution": {
     "iopub.execute_input": "2023-07-29T17:31:52.193687Z",
     "iopub.status.busy": "2023-07-29T17:31:52.192586Z",
     "iopub.status.idle": "2023-07-29T17:31:52.199878Z",
     "shell.execute_reply": "2023-07-29T17:31:52.199250Z"
    },
    "papermill": {
     "duration": 0.033008,
     "end_time": "2023-07-29T17:31:52.201696",
     "exception": false,
     "start_time": "2023-07-29T17:31:52.168688",
     "status": "completed"
    },
    "tags": []
   },
   "outputs": [],
   "source": [
    "def compute_accuracy(model, data_loader, device):\n",
    "    with torch.no_grad():\n",
    "        correct_pred, num_examples = 0, 0\n",
    "        \n",
    "        for batch_idx, batch in enumerate(data_loader):\n",
    "        \n",
    "        ### Prepare data\n",
    "            input_ids = batch['input_ids'].to(device)\n",
    "            attention_mask = batch['attention_mask'].to(device)\n",
    "            labels = batch['labels'].to(device)\n",
    "            outputs = model(input_ids, attention_mask=attention_mask)\n",
    "            logits = outputs['logits']\n",
    "            predicted_labels = torch.argmax(logits, 1)\n",
    "            num_examples += labels.size(0)\n",
    "            correct_pred += (predicted_labels == labels).sum()\n",
    "        \n",
    "        return correct_pred.float()/num_examples * 100"
   ]
  },
  {
   "cell_type": "code",
   "execution_count": 29,
   "id": "d278c6bf",
   "metadata": {
    "execution": {
     "iopub.execute_input": "2023-07-29T17:31:52.249188Z",
     "iopub.status.busy": "2023-07-29T17:31:52.248907Z",
     "iopub.status.idle": "2023-07-29T17:33:43.923871Z",
     "shell.execute_reply": "2023-07-29T17:33:43.921482Z"
    },
    "papermill": {
     "duration": 111.701578,
     "end_time": "2023-07-29T17:33:43.925386",
     "exception": true,
     "start_time": "2023-07-29T17:31:52.223808",
     "status": "failed"
    },
    "tags": []
   },
   "outputs": [
    {
     "name": "stdout",
     "output_type": "stream",
     "text": [
      "Epoch: 0001/0003 | Batch 0000/0219 | Loss: 2.4800\n",
      "Training accuracy: 89.93%\n",
      "Valid accuracy: 84.70%\n"
     ]
    },
    {
     "data": {
      "text/html": [
       "<pre style=\"white-space:pre;overflow-x:auto;line-height:normal;font-family:Menlo,'DejaVu Sans Mono',consolas,'Courier New',monospace\"><span style=\"color: #800000; text-decoration-color: #800000\">╭─────────────────────────────── </span><span style=\"color: #800000; text-decoration-color: #800000; font-weight: bold\">Traceback </span><span style=\"color: #bf7f7f; text-decoration-color: #bf7f7f; font-weight: bold\">(most recent call last)</span><span style=\"color: #800000; text-decoration-color: #800000\"> ────────────────────────────────╮</span>\n",
       "<span style=\"color: #800000; text-decoration-color: #800000\">│</span> in <span style=\"color: #00ff00; text-decoration-color: #00ff00\">&lt;module&gt;</span>:<span style=\"color: #0000ff; text-decoration-color: #0000ff\">35</span>                                                                                   <span style=\"color: #800000; text-decoration-color: #800000\">│</span>\n",
       "<span style=\"color: #800000; text-decoration-color: #800000\">│</span>                                                                                                  <span style=\"color: #800000; text-decoration-color: #800000\">│</span>\n",
       "<span style=\"color: #800000; text-decoration-color: #800000\">│</span>   <span style=\"color: #7f7f7f; text-decoration-color: #7f7f7f\">32 </span><span style=\"color: #7f7f7f; text-decoration-color: #7f7f7f\">│   │   │     </span><span style=\"color: #808000; text-decoration-color: #808000\">f'\\nValid accuracy: '</span>                                                         <span style=\"color: #800000; text-decoration-color: #800000\">│</span>\n",
       "<span style=\"color: #800000; text-decoration-color: #800000\">│</span>   <span style=\"color: #7f7f7f; text-decoration-color: #7f7f7f\">33 </span><span style=\"color: #7f7f7f; text-decoration-color: #7f7f7f\">│   │   │     </span><span style=\"color: #808000; text-decoration-color: #808000\">f'{</span>compute_accuracy(model,<span style=\"color: #808080; text-decoration-color: #808080\"> </span>valid_loader,<span style=\"color: #808080; text-decoration-color: #808080\"> </span>DEVICE)<span style=\"color: #808000; text-decoration-color: #808000\">:.2f}%'</span>)                      <span style=\"color: #800000; text-decoration-color: #800000\">│</span>\n",
       "<span style=\"color: #800000; text-decoration-color: #800000\">│</span>   <span style=\"color: #7f7f7f; text-decoration-color: #7f7f7f\">34 </span><span style=\"color: #7f7f7f; text-decoration-color: #7f7f7f\">│   </span>                                                                                        <span style=\"color: #800000; text-decoration-color: #800000\">│</span>\n",
       "<span style=\"color: #800000; text-decoration-color: #800000\">│</span> <span style=\"color: #800000; text-decoration-color: #800000\">❱ </span>35 <span style=\"color: #7f7f7f; text-decoration-color: #7f7f7f\">│   </span><span style=\"color: #00ffff; text-decoration-color: #00ffff\">print</span>(<span style=\"color: #808000; text-decoration-color: #808000\">f'Time elapsed: {</span>(time.time()<span style=\"color: #808080; text-decoration-color: #808080\"> </span>-<span style=\"color: #808080; text-decoration-color: #808080\"> </span>start_time)/<span style=\"color: #0000ff; text-decoration-color: #0000ff\">60</span><span style=\"color: #808000; text-decoration-color: #808000\">:.2f} min'</span>)                         <span style=\"color: #800000; text-decoration-color: #800000\">│</span>\n",
       "<span style=\"color: #800000; text-decoration-color: #800000\">│</span>   <span style=\"color: #7f7f7f; text-decoration-color: #7f7f7f\">36 </span>                                                                                            <span style=\"color: #800000; text-decoration-color: #800000\">│</span>\n",
       "<span style=\"color: #800000; text-decoration-color: #800000\">│</span>   <span style=\"color: #7f7f7f; text-decoration-color: #7f7f7f\">37 </span><span style=\"color: #00ffff; text-decoration-color: #00ffff\">print</span>(<span style=\"color: #808000; text-decoration-color: #808000\">f'Total Training Time: {</span>(time.time()<span style=\"color: #808080; text-decoration-color: #808080\"> </span>-<span style=\"color: #808080; text-decoration-color: #808080\"> </span>start_time)/<span style=\"color: #0000ff; text-decoration-color: #0000ff\">60</span><span style=\"color: #808000; text-decoration-color: #808000\">:.2f} min'</span>)                      <span style=\"color: #800000; text-decoration-color: #800000\">│</span>\n",
       "<span style=\"color: #800000; text-decoration-color: #800000\">│</span>   <span style=\"color: #7f7f7f; text-decoration-color: #7f7f7f\">38 </span><span style=\"color: #00ffff; text-decoration-color: #00ffff\">print</span>(<span style=\"color: #808000; text-decoration-color: #808000\">f'Test accuracy: {</span>compute_accuracy(model,<span style=\"color: #808080; text-decoration-color: #808080\"> </span>test_loader,<span style=\"color: #808080; text-decoration-color: #808080\"> </span>DEVICE)<span style=\"color: #808000; text-decoration-color: #808000\">:.2f}%'</span>)                <span style=\"color: #800000; text-decoration-color: #800000\">│</span>\n",
       "<span style=\"color: #800000; text-decoration-color: #800000\">╰──────────────────────────────────────────────────────────────────────────────────────────────────╯</span>\n",
       "<span style=\"color: #ff0000; text-decoration-color: #ff0000; font-weight: bold\">NameError: </span>name <span style=\"color: #008000; text-decoration-color: #008000\">'time'</span> is not defined\n",
       "</pre>\n"
      ],
      "text/plain": [
       "\u001b[31m╭─\u001b[0m\u001b[31m──────────────────────────────\u001b[0m\u001b[31m \u001b[0m\u001b[1;31mTraceback \u001b[0m\u001b[1;2;31m(most recent call last)\u001b[0m\u001b[31m \u001b[0m\u001b[31m───────────────────────────────\u001b[0m\u001b[31m─╮\u001b[0m\n",
       "\u001b[31m│\u001b[0m in \u001b[92m<module>\u001b[0m:\u001b[94m35\u001b[0m                                                                                   \u001b[31m│\u001b[0m\n",
       "\u001b[31m│\u001b[0m                                                                                                  \u001b[31m│\u001b[0m\n",
       "\u001b[31m│\u001b[0m   \u001b[2m32 \u001b[0m\u001b[2m│   │   │     \u001b[0m\u001b[33mf\u001b[0m\u001b[33m'\u001b[0m\u001b[33m\\n\u001b[0m\u001b[33mValid accuracy: \u001b[0m\u001b[33m'\u001b[0m                                                         \u001b[31m│\u001b[0m\n",
       "\u001b[31m│\u001b[0m   \u001b[2m33 \u001b[0m\u001b[2m│   │   │     \u001b[0m\u001b[33mf\u001b[0m\u001b[33m'\u001b[0m\u001b[33m{\u001b[0mcompute_accuracy(model,\u001b[90m \u001b[0mvalid_loader,\u001b[90m \u001b[0mDEVICE)\u001b[33m:\u001b[0m\u001b[33m.2f\u001b[0m\u001b[33m}\u001b[0m\u001b[33m%\u001b[0m\u001b[33m'\u001b[0m)                      \u001b[31m│\u001b[0m\n",
       "\u001b[31m│\u001b[0m   \u001b[2m34 \u001b[0m\u001b[2m│   \u001b[0m                                                                                        \u001b[31m│\u001b[0m\n",
       "\u001b[31m│\u001b[0m \u001b[31m❱ \u001b[0m35 \u001b[2m│   \u001b[0m\u001b[96mprint\u001b[0m(\u001b[33mf\u001b[0m\u001b[33m'\u001b[0m\u001b[33mTime elapsed: \u001b[0m\u001b[33m{\u001b[0m(time.time()\u001b[90m \u001b[0m-\u001b[90m \u001b[0mstart_time)/\u001b[94m60\u001b[0m\u001b[33m:\u001b[0m\u001b[33m.2f\u001b[0m\u001b[33m}\u001b[0m\u001b[33m min\u001b[0m\u001b[33m'\u001b[0m)                         \u001b[31m│\u001b[0m\n",
       "\u001b[31m│\u001b[0m   \u001b[2m36 \u001b[0m                                                                                            \u001b[31m│\u001b[0m\n",
       "\u001b[31m│\u001b[0m   \u001b[2m37 \u001b[0m\u001b[96mprint\u001b[0m(\u001b[33mf\u001b[0m\u001b[33m'\u001b[0m\u001b[33mTotal Training Time: \u001b[0m\u001b[33m{\u001b[0m(time.time()\u001b[90m \u001b[0m-\u001b[90m \u001b[0mstart_time)/\u001b[94m60\u001b[0m\u001b[33m:\u001b[0m\u001b[33m.2f\u001b[0m\u001b[33m}\u001b[0m\u001b[33m min\u001b[0m\u001b[33m'\u001b[0m)                      \u001b[31m│\u001b[0m\n",
       "\u001b[31m│\u001b[0m   \u001b[2m38 \u001b[0m\u001b[96mprint\u001b[0m(\u001b[33mf\u001b[0m\u001b[33m'\u001b[0m\u001b[33mTest accuracy: \u001b[0m\u001b[33m{\u001b[0mcompute_accuracy(model,\u001b[90m \u001b[0mtest_loader,\u001b[90m \u001b[0mDEVICE)\u001b[33m:\u001b[0m\u001b[33m.2f\u001b[0m\u001b[33m}\u001b[0m\u001b[33m%\u001b[0m\u001b[33m'\u001b[0m)                \u001b[31m│\u001b[0m\n",
       "\u001b[31m╰──────────────────────────────────────────────────────────────────────────────────────────────────╯\u001b[0m\n",
       "\u001b[1;91mNameError: \u001b[0mname \u001b[32m'time'\u001b[0m is not defined\n"
      ]
     },
     "metadata": {},
     "output_type": "display_data"
    }
   ],
   "source": [
    "for epoch in range(NUM_EPOCHS):\n",
    "    \n",
    "    model.train()\n",
    "    \n",
    "    for batch_idx, batch in enumerate(train_loader):\n",
    "        \n",
    "        ### Prepare data\n",
    "        input_ids = batch['input_ids'].to(DEVICE)\n",
    "        attention_mask = batch['attention_mask'].to(DEVICE)\n",
    "        labels = batch['labels'].to(DEVICE)\n",
    "\n",
    "        ### Forward\n",
    "        outputs = model(input_ids, attention_mask=attention_mask, labels=labels)\n",
    "        loss, logits = outputs['loss'], outputs['logits']\n",
    "        \n",
    "        ### Backward\n",
    "        optim.zero_grad()\n",
    "        loss.backward()\n",
    "        optim.step()\n",
    "        \n",
    "        ### Logging\n",
    "        if not batch_idx % 250:\n",
    "            print (f'Epoch: {epoch+1:04d}/{NUM_EPOCHS:04d} | '\n",
    "                   f'Batch {batch_idx:04d}/{len(train_loader):04d} | '\n",
    "                   f'Loss: {loss:.4f}')\n",
    "            \n",
    "    model.eval()\n",
    "\n",
    "    with torch.set_grad_enabled(False):\n",
    "        print(f'Training accuracy: '\n",
    "              f'{compute_accuracy(model, train_loader, DEVICE):.2f}%'\n",
    "              f'\\nValid accuracy: '\n",
    "              f'{compute_accuracy(model, valid_loader, DEVICE):.2f}%')\n",
    "        \n",
    "    print(f'Time elapsed: {(time.time() - start_time)/60:.2f} min')\n",
    "    \n",
    "print(f'Total Training Time: {(time.time() - start_time)/60:.2f} min')\n",
    "print(f'Test accuracy: {compute_accuracy(model, test_loader, DEVICE):.2f}%')"
   ]
  },
  {
   "cell_type": "markdown",
   "id": "84e84985",
   "metadata": {
    "papermill": {
     "duration": null,
     "end_time": null,
     "exception": null,
     "start_time": null,
     "status": "pending"
    },
    "tags": []
   },
   "source": [
    "# Testing The model"
   ]
  },
  {
   "cell_type": "code",
   "execution_count": null,
   "id": "87c4b97a",
   "metadata": {
    "execution": {
     "iopub.status.busy": "2023-07-29T17:24:22.819252Z",
     "iopub.status.idle": "2023-07-29T17:24:22.820188Z",
     "shell.execute_reply": "2023-07-29T17:24:22.819946Z",
     "shell.execute_reply.started": "2023-07-29T17:24:22.819920Z"
    },
    "papermill": {
     "duration": null,
     "end_time": null,
     "exception": null,
     "start_time": null,
     "status": "pending"
    },
    "tags": []
   },
   "outputs": [],
   "source": [
    "model.eval()\n",
    "model.to(DEVICE)\n",
    "print(f'Test accuracy: {compute_accuracy(model, test_loader, DEVICE):.2f}%')"
   ]
  }
 ],
 "metadata": {
  "kernelspec": {
   "display_name": "Python 3",
   "language": "python",
   "name": "python3"
  },
  "language_info": {
   "codemirror_mode": {
    "name": "ipython",
    "version": 3
   },
   "file_extension": ".py",
   "mimetype": "text/x-python",
   "name": "python",
   "nbconvert_exporter": "python",
   "pygments_lexer": "ipython3",
   "version": "3.10.12"
  },
  "papermill": {
   "default_parameters": {},
   "duration": 382.883741,
   "end_time": "2023-07-29T17:33:46.869724",
   "environment_variables": {},
   "exception": true,
   "input_path": "__notebook__.ipynb",
   "output_path": "__notebook__.ipynb",
   "parameters": {},
   "start_time": "2023-07-29T17:27:23.985983",
   "version": "2.4.0"
  },
  "widgets": {
   "application/vnd.jupyter.widget-state+json": {
    "state": {
     "165cec5739654023a482e49f41b981d5": {
      "model_module": "@jupyter-widgets/controls",
      "model_module_version": "1.5.0",
      "model_name": "HBoxModel",
      "state": {
       "_dom_classes": [],
       "_model_module": "@jupyter-widgets/controls",
       "_model_module_version": "1.5.0",
       "_model_name": "HBoxModel",
       "_view_count": null,
       "_view_module": "@jupyter-widgets/controls",
       "_view_module_version": "1.5.0",
       "_view_name": "HBoxView",
       "box_style": "",
       "children": [
        "IPY_MODEL_57a63c604d4046b8b07ef20f1e347b6c",
        "IPY_MODEL_3e3e4de2241d402a95ee31f7d5ad7e88",
        "IPY_MODEL_18c3410a480b400f837812b7bc8e2d18"
       ],
       "layout": "IPY_MODEL_6d0142b535ed41c78770269bb0c6f304"
      }
     },
     "179a9dcfd6f448c3b3b05cf46eca96e0": {
      "model_module": "@jupyter-widgets/base",
      "model_module_version": "1.2.0",
      "model_name": "LayoutModel",
      "state": {
       "_model_module": "@jupyter-widgets/base",
       "_model_module_version": "1.2.0",
       "_model_name": "LayoutModel",
       "_view_count": null,
       "_view_module": "@jupyter-widgets/base",
       "_view_module_version": "1.2.0",
       "_view_name": "LayoutView",
       "align_content": null,
       "align_items": null,
       "align_self": null,
       "border": null,
       "bottom": null,
       "display": null,
       "flex": null,
       "flex_flow": null,
       "grid_area": null,
       "grid_auto_columns": null,
       "grid_auto_flow": null,
       "grid_auto_rows": null,
       "grid_column": null,
       "grid_gap": null,
       "grid_row": null,
       "grid_template_areas": null,
       "grid_template_columns": null,
       "grid_template_rows": null,
       "height": null,
       "justify_content": null,
       "justify_items": null,
       "left": null,
       "margin": null,
       "max_height": null,
       "max_width": null,
       "min_height": null,
       "min_width": null,
       "object_fit": null,
       "object_position": null,
       "order": null,
       "overflow": null,
       "overflow_x": null,
       "overflow_y": null,
       "padding": null,
       "right": null,
       "top": null,
       "visibility": null,
       "width": null
      }
     },
     "18c3410a480b400f837812b7bc8e2d18": {
      "model_module": "@jupyter-widgets/controls",
      "model_module_version": "1.5.0",
      "model_name": "HTMLModel",
      "state": {
       "_dom_classes": [],
       "_model_module": "@jupyter-widgets/controls",
       "_model_module_version": "1.5.0",
       "_model_name": "HTMLModel",
       "_view_count": null,
       "_view_module": "@jupyter-widgets/controls",
       "_view_module_version": "1.5.0",
       "_view_name": "HTMLView",
       "description": "",
       "description_tooltip": null,
       "layout": "IPY_MODEL_2991752244e4468cb8ebedb09ecdd852",
       "placeholder": "​",
       "style": "IPY_MODEL_73b14325f8f040e598fdcf0688af1c4c",
       "value": " 491/491 [00:00&lt;00:00, 36.1kB/s]"
      }
     },
     "1a057df83e4345dcba74a787cc0f77b6": {
      "model_module": "@jupyter-widgets/controls",
      "model_module_version": "1.5.0",
      "model_name": "HTMLModel",
      "state": {
       "_dom_classes": [],
       "_model_module": "@jupyter-widgets/controls",
       "_model_module_version": "1.5.0",
       "_model_name": "HTMLModel",
       "_view_count": null,
       "_view_module": "@jupyter-widgets/controls",
       "_view_module_version": "1.5.0",
       "_view_name": "HTMLView",
       "description": "",
       "description_tooltip": null,
       "layout": "IPY_MODEL_4d1b670402cb4b16a75f4e0b3253a3c6",
       "placeholder": "​",
       "style": "IPY_MODEL_42298c08eb5b44708c41cdcc3d4b4613",
       "value": " 112/112 [00:00&lt;00:00, 8.50kB/s]"
      }
     },
     "1c982a20861b47e68455ea9583f2897b": {
      "model_module": "@jupyter-widgets/base",
      "model_module_version": "1.2.0",
      "model_name": "LayoutModel",
      "state": {
       "_model_module": "@jupyter-widgets/base",
       "_model_module_version": "1.2.0",
       "_model_name": "LayoutModel",
       "_view_count": null,
       "_view_module": "@jupyter-widgets/base",
       "_view_module_version": "1.2.0",
       "_view_name": "LayoutView",
       "align_content": null,
       "align_items": null,
       "align_self": null,
       "border": null,
       "bottom": null,
       "display": null,
       "flex": null,
       "flex_flow": null,
       "grid_area": null,
       "grid_auto_columns": null,
       "grid_auto_flow": null,
       "grid_auto_rows": null,
       "grid_column": null,
       "grid_gap": null,
       "grid_row": null,
       "grid_template_areas": null,
       "grid_template_columns": null,
       "grid_template_rows": null,
       "height": null,
       "justify_content": null,
       "justify_items": null,
       "left": null,
       "margin": null,
       "max_height": null,
       "max_width": null,
       "min_height": null,
       "min_width": null,
       "object_fit": null,
       "object_position": null,
       "order": null,
       "overflow": null,
       "overflow_x": null,
       "overflow_y": null,
       "padding": null,
       "right": null,
       "top": null,
       "visibility": null,
       "width": null
      }
     },
     "1dd0972d35a64ff88bcf45258485a5e9": {
      "model_module": "@jupyter-widgets/controls",
      "model_module_version": "1.5.0",
      "model_name": "HBoxModel",
      "state": {
       "_dom_classes": [],
       "_model_module": "@jupyter-widgets/controls",
       "_model_module_version": "1.5.0",
       "_model_name": "HBoxModel",
       "_view_count": null,
       "_view_module": "@jupyter-widgets/controls",
       "_view_module_version": "1.5.0",
       "_view_name": "HBoxView",
       "box_style": "",
       "children": [
        "IPY_MODEL_592b373111ab4bd7a405074ad99cd1b3",
        "IPY_MODEL_c936c57f0df547e7a35062a0e6805db5",
        "IPY_MODEL_e109c97c626640c79809646533f3199c"
       ],
       "layout": "IPY_MODEL_1c982a20861b47e68455ea9583f2897b"
      }
     },
     "1e05dbe8b7a146c2a9241dc109616149": {
      "model_module": "@jupyter-widgets/controls",
      "model_module_version": "1.5.0",
      "model_name": "FloatProgressModel",
      "state": {
       "_dom_classes": [],
       "_model_module": "@jupyter-widgets/controls",
       "_model_module_version": "1.5.0",
       "_model_name": "FloatProgressModel",
       "_view_count": null,
       "_view_module": "@jupyter-widgets/controls",
       "_view_module_version": "1.5.0",
       "_view_name": "ProgressView",
       "bar_style": "success",
       "description": "",
       "description_tooltip": null,
       "layout": "IPY_MODEL_f6f24be0764544df89a4b9e722894865",
       "max": 112.0,
       "min": 0.0,
       "orientation": "horizontal",
       "style": "IPY_MODEL_3693bc3378c3496192d66e7b49fc9ef7",
       "value": 112.0
      }
     },
     "220d45646e3049989c6827ad11aabb09": {
      "model_module": "@jupyter-widgets/base",
      "model_module_version": "1.2.0",
      "model_name": "LayoutModel",
      "state": {
       "_model_module": "@jupyter-widgets/base",
       "_model_module_version": "1.2.0",
       "_model_name": "LayoutModel",
       "_view_count": null,
       "_view_module": "@jupyter-widgets/base",
       "_view_module_version": "1.2.0",
       "_view_name": "LayoutView",
       "align_content": null,
       "align_items": null,
       "align_self": null,
       "border": null,
       "bottom": null,
       "display": null,
       "flex": null,
       "flex_flow": null,
       "grid_area": null,
       "grid_auto_columns": null,
       "grid_auto_flow": null,
       "grid_auto_rows": null,
       "grid_column": null,
       "grid_gap": null,
       "grid_row": null,
       "grid_template_areas": null,
       "grid_template_columns": null,
       "grid_template_rows": null,
       "height": null,
       "justify_content": null,
       "justify_items": null,
       "left": null,
       "margin": null,
       "max_height": null,
       "max_width": null,
       "min_height": null,
       "min_width": null,
       "object_fit": null,
       "object_position": null,
       "order": null,
       "overflow": null,
       "overflow_x": null,
       "overflow_y": null,
       "padding": null,
       "right": null,
       "top": null,
       "visibility": null,
       "width": null
      }
     },
     "25f3d55bc7bb416aa5b0e92a8aed06cb": {
      "model_module": "@jupyter-widgets/controls",
      "model_module_version": "1.5.0",
      "model_name": "DescriptionStyleModel",
      "state": {
       "_model_module": "@jupyter-widgets/controls",
       "_model_module_version": "1.5.0",
       "_model_name": "DescriptionStyleModel",
       "_view_count": null,
       "_view_module": "@jupyter-widgets/base",
       "_view_module_version": "1.2.0",
       "_view_name": "StyleView",
       "description_width": ""
      }
     },
     "27fba257752a44599a0720e9902001be": {
      "model_module": "@jupyter-widgets/controls",
      "model_module_version": "1.5.0",
      "model_name": "DescriptionStyleModel",
      "state": {
       "_model_module": "@jupyter-widgets/controls",
       "_model_module_version": "1.5.0",
       "_model_name": "DescriptionStyleModel",
       "_view_count": null,
       "_view_module": "@jupyter-widgets/base",
       "_view_module_version": "1.2.0",
       "_view_name": "StyleView",
       "description_width": ""
      }
     },
     "2820ce49eb0448c8bd8af5761ca2bc13": {
      "model_module": "@jupyter-widgets/base",
      "model_module_version": "1.2.0",
      "model_name": "LayoutModel",
      "state": {
       "_model_module": "@jupyter-widgets/base",
       "_model_module_version": "1.2.0",
       "_model_name": "LayoutModel",
       "_view_count": null,
       "_view_module": "@jupyter-widgets/base",
       "_view_module_version": "1.2.0",
       "_view_name": "LayoutView",
       "align_content": null,
       "align_items": null,
       "align_self": null,
       "border": null,
       "bottom": null,
       "display": null,
       "flex": null,
       "flex_flow": null,
       "grid_area": null,
       "grid_auto_columns": null,
       "grid_auto_flow": null,
       "grid_auto_rows": null,
       "grid_column": null,
       "grid_gap": null,
       "grid_row": null,
       "grid_template_areas": null,
       "grid_template_columns": null,
       "grid_template_rows": null,
       "height": null,
       "justify_content": null,
       "justify_items": null,
       "left": null,
       "margin": null,
       "max_height": null,
       "max_width": null,
       "min_height": null,
       "min_width": null,
       "object_fit": null,
       "object_position": null,
       "order": null,
       "overflow": null,
       "overflow_x": null,
       "overflow_y": null,
       "padding": null,
       "right": null,
       "top": null,
       "visibility": null,
       "width": null
      }
     },
     "28a81edb1f964a83abd1471205d90113": {
      "model_module": "@jupyter-widgets/controls",
      "model_module_version": "1.5.0",
      "model_name": "HTMLModel",
      "state": {
       "_dom_classes": [],
       "_model_module": "@jupyter-widgets/controls",
       "_model_module_version": "1.5.0",
       "_model_name": "HTMLModel",
       "_view_count": null,
       "_view_module": "@jupyter-widgets/controls",
       "_view_module_version": "1.5.0",
       "_view_name": "HTMLView",
       "description": "",
       "description_tooltip": null,
       "layout": "IPY_MODEL_5d72e8ba986140b2a3962896e2fd2c10",
       "placeholder": "​",
       "style": "IPY_MODEL_c35cd4500e344d9caa4717ce90d5a6e9",
       "value": " 62.0/62.0 [00:00&lt;00:00, 3.29kB/s]"
      }
     },
     "2991752244e4468cb8ebedb09ecdd852": {
      "model_module": "@jupyter-widgets/base",
      "model_module_version": "1.2.0",
      "model_name": "LayoutModel",
      "state": {
       "_model_module": "@jupyter-widgets/base",
       "_model_module_version": "1.2.0",
       "_model_name": "LayoutModel",
       "_view_count": null,
       "_view_module": "@jupyter-widgets/base",
       "_view_module_version": "1.2.0",
       "_view_name": "LayoutView",
       "align_content": null,
       "align_items": null,
       "align_self": null,
       "border": null,
       "bottom": null,
       "display": null,
       "flex": null,
       "flex_flow": null,
       "grid_area": null,
       "grid_auto_columns": null,
       "grid_auto_flow": null,
       "grid_auto_rows": null,
       "grid_column": null,
       "grid_gap": null,
       "grid_row": null,
       "grid_template_areas": null,
       "grid_template_columns": null,
       "grid_template_rows": null,
       "height": null,
       "justify_content": null,
       "justify_items": null,
       "left": null,
       "margin": null,
       "max_height": null,
       "max_width": null,
       "min_height": null,
       "min_width": null,
       "object_fit": null,
       "object_position": null,
       "order": null,
       "overflow": null,
       "overflow_x": null,
       "overflow_y": null,
       "padding": null,
       "right": null,
       "top": null,
       "visibility": null,
       "width": null
      }
     },
     "34fd7137a3164491b085657f9ced1dc7": {
      "model_module": "@jupyter-widgets/base",
      "model_module_version": "1.2.0",
      "model_name": "LayoutModel",
      "state": {
       "_model_module": "@jupyter-widgets/base",
       "_model_module_version": "1.2.0",
       "_model_name": "LayoutModel",
       "_view_count": null,
       "_view_module": "@jupyter-widgets/base",
       "_view_module_version": "1.2.0",
       "_view_name": "LayoutView",
       "align_content": null,
       "align_items": null,
       "align_self": null,
       "border": null,
       "bottom": null,
       "display": null,
       "flex": null,
       "flex_flow": null,
       "grid_area": null,
       "grid_auto_columns": null,
       "grid_auto_flow": null,
       "grid_auto_rows": null,
       "grid_column": null,
       "grid_gap": null,
       "grid_row": null,
       "grid_template_areas": null,
       "grid_template_columns": null,
       "grid_template_rows": null,
       "height": null,
       "justify_content": null,
       "justify_items": null,
       "left": null,
       "margin": null,
       "max_height": null,
       "max_width": null,
       "min_height": null,
       "min_width": null,
       "object_fit": null,
       "object_position": null,
       "order": null,
       "overflow": null,
       "overflow_x": null,
       "overflow_y": null,
       "padding": null,
       "right": null,
       "top": null,
       "visibility": null,
       "width": null
      }
     },
     "3693bc3378c3496192d66e7b49fc9ef7": {
      "model_module": "@jupyter-widgets/controls",
      "model_module_version": "1.5.0",
      "model_name": "ProgressStyleModel",
      "state": {
       "_model_module": "@jupyter-widgets/controls",
       "_model_module_version": "1.5.0",
       "_model_name": "ProgressStyleModel",
       "_view_count": null,
       "_view_module": "@jupyter-widgets/base",
       "_view_module_version": "1.2.0",
       "_view_name": "StyleView",
       "bar_color": null,
       "description_width": ""
      }
     },
     "3e3e4de2241d402a95ee31f7d5ad7e88": {
      "model_module": "@jupyter-widgets/controls",
      "model_module_version": "1.5.0",
      "model_name": "FloatProgressModel",
      "state": {
       "_dom_classes": [],
       "_model_module": "@jupyter-widgets/controls",
       "_model_module_version": "1.5.0",
       "_model_name": "FloatProgressModel",
       "_view_count": null,
       "_view_module": "@jupyter-widgets/controls",
       "_view_module_version": "1.5.0",
       "_view_name": "ProgressView",
       "bar_style": "success",
       "description": "",
       "description_tooltip": null,
       "layout": "IPY_MODEL_2820ce49eb0448c8bd8af5761ca2bc13",
       "max": 491.0,
       "min": 0.0,
       "orientation": "horizontal",
       "style": "IPY_MODEL_7c221df38a914e7dba79e146dc66dd82",
       "value": 491.0
      }
     },
     "42298c08eb5b44708c41cdcc3d4b4613": {
      "model_module": "@jupyter-widgets/controls",
      "model_module_version": "1.5.0",
      "model_name": "DescriptionStyleModel",
      "state": {
       "_model_module": "@jupyter-widgets/controls",
       "_model_module_version": "1.5.0",
       "_model_name": "DescriptionStyleModel",
       "_view_count": null,
       "_view_module": "@jupyter-widgets/base",
       "_view_module_version": "1.2.0",
       "_view_name": "StyleView",
       "description_width": ""
      }
     },
     "4348d889ab644fb88ea279de5df04c67": {
      "model_module": "@jupyter-widgets/controls",
      "model_module_version": "1.5.0",
      "model_name": "ProgressStyleModel",
      "state": {
       "_model_module": "@jupyter-widgets/controls",
       "_model_module_version": "1.5.0",
       "_model_name": "ProgressStyleModel",
       "_view_count": null,
       "_view_module": "@jupyter-widgets/base",
       "_view_module_version": "1.2.0",
       "_view_name": "StyleView",
       "bar_color": null,
       "description_width": ""
      }
     },
     "45c2e792af0441c5bbfd94fc7d110d0f": {
      "model_module": "@jupyter-widgets/base",
      "model_module_version": "1.2.0",
      "model_name": "LayoutModel",
      "state": {
       "_model_module": "@jupyter-widgets/base",
       "_model_module_version": "1.2.0",
       "_model_name": "LayoutModel",
       "_view_count": null,
       "_view_module": "@jupyter-widgets/base",
       "_view_module_version": "1.2.0",
       "_view_name": "LayoutView",
       "align_content": null,
       "align_items": null,
       "align_self": null,
       "border": null,
       "bottom": null,
       "display": null,
       "flex": null,
       "flex_flow": null,
       "grid_area": null,
       "grid_auto_columns": null,
       "grid_auto_flow": null,
       "grid_auto_rows": null,
       "grid_column": null,
       "grid_gap": null,
       "grid_row": null,
       "grid_template_areas": null,
       "grid_template_columns": null,
       "grid_template_rows": null,
       "height": null,
       "justify_content": null,
       "justify_items": null,
       "left": null,
       "margin": null,
       "max_height": null,
       "max_width": null,
       "min_height": null,
       "min_width": null,
       "object_fit": null,
       "object_position": null,
       "order": null,
       "overflow": null,
       "overflow_x": null,
       "overflow_y": null,
       "padding": null,
       "right": null,
       "top": null,
       "visibility": null,
       "width": null
      }
     },
     "4c139742642148db8dc9413f0962b85e": {
      "model_module": "@jupyter-widgets/controls",
      "model_module_version": "1.5.0",
      "model_name": "HBoxModel",
      "state": {
       "_dom_classes": [],
       "_model_module": "@jupyter-widgets/controls",
       "_model_module_version": "1.5.0",
       "_model_name": "HBoxModel",
       "_view_count": null,
       "_view_module": "@jupyter-widgets/controls",
       "_view_module_version": "1.5.0",
       "_view_name": "HBoxView",
       "box_style": "",
       "children": [
        "IPY_MODEL_e86c968370ed4505ac067635715cb84d",
        "IPY_MODEL_b5172526af394269a530699a82abc70b",
        "IPY_MODEL_28a81edb1f964a83abd1471205d90113"
       ],
       "layout": "IPY_MODEL_e0bc6f80275f471cad38ab45d128db64"
      }
     },
     "4d1b670402cb4b16a75f4e0b3253a3c6": {
      "model_module": "@jupyter-widgets/base",
      "model_module_version": "1.2.0",
      "model_name": "LayoutModel",
      "state": {
       "_model_module": "@jupyter-widgets/base",
       "_model_module_version": "1.2.0",
       "_model_name": "LayoutModel",
       "_view_count": null,
       "_view_module": "@jupyter-widgets/base",
       "_view_module_version": "1.2.0",
       "_view_name": "LayoutView",
       "align_content": null,
       "align_items": null,
       "align_self": null,
       "border": null,
       "bottom": null,
       "display": null,
       "flex": null,
       "flex_flow": null,
       "grid_area": null,
       "grid_auto_columns": null,
       "grid_auto_flow": null,
       "grid_auto_rows": null,
       "grid_column": null,
       "grid_gap": null,
       "grid_row": null,
       "grid_template_areas": null,
       "grid_template_columns": null,
       "grid_template_rows": null,
       "height": null,
       "justify_content": null,
       "justify_items": null,
       "left": null,
       "margin": null,
       "max_height": null,
       "max_width": null,
       "min_height": null,
       "min_width": null,
       "object_fit": null,
       "object_position": null,
       "order": null,
       "overflow": null,
       "overflow_x": null,
       "overflow_y": null,
       "padding": null,
       "right": null,
       "top": null,
       "visibility": null,
       "width": null
      }
     },
     "5283d8a587e94f0abd0c05be853bd344": {
      "model_module": "@jupyter-widgets/controls",
      "model_module_version": "1.5.0",
      "model_name": "HTMLModel",
      "state": {
       "_dom_classes": [],
       "_model_module": "@jupyter-widgets/controls",
       "_model_module_version": "1.5.0",
       "_model_name": "HTMLModel",
       "_view_count": null,
       "_view_module": "@jupyter-widgets/controls",
       "_view_module_version": "1.5.0",
       "_view_name": "HTMLView",
       "description": "",
       "description_tooltip": null,
       "layout": "IPY_MODEL_179a9dcfd6f448c3b3b05cf46eca96e0",
       "placeholder": "​",
       "style": "IPY_MODEL_e8ea0e94533246b582e1c8f3d0746f4e",
       "value": " 334k/334k [00:00&lt;00:00, 2.81MB/s]"
      }
     },
     "57a63c604d4046b8b07ef20f1e347b6c": {
      "model_module": "@jupyter-widgets/controls",
      "model_module_version": "1.5.0",
      "model_name": "HTMLModel",
      "state": {
       "_dom_classes": [],
       "_model_module": "@jupyter-widgets/controls",
       "_model_module_version": "1.5.0",
       "_model_name": "HTMLModel",
       "_view_count": null,
       "_view_module": "@jupyter-widgets/controls",
       "_view_module_version": "1.5.0",
       "_view_name": "HTMLView",
       "description": "",
       "description_tooltip": null,
       "layout": "IPY_MODEL_45c2e792af0441c5bbfd94fc7d110d0f",
       "placeholder": "​",
       "style": "IPY_MODEL_a00c82bad27145349b23d4b6fabce8a0",
       "value": "Downloading (…)lve/main/config.json: 100%"
      }
     },
     "592b373111ab4bd7a405074ad99cd1b3": {
      "model_module": "@jupyter-widgets/controls",
      "model_module_version": "1.5.0",
      "model_name": "HTMLModel",
      "state": {
       "_dom_classes": [],
       "_model_module": "@jupyter-widgets/controls",
       "_model_module_version": "1.5.0",
       "_model_name": "HTMLModel",
       "_view_count": null,
       "_view_module": "@jupyter-widgets/controls",
       "_view_module_version": "1.5.0",
       "_view_name": "HTMLView",
       "description": "",
       "description_tooltip": null,
       "layout": "IPY_MODEL_abccd3159c0a47b79dd6bb0f583730f2",
       "placeholder": "​",
       "style": "IPY_MODEL_27fba257752a44599a0720e9902001be",
       "value": "Downloading model.safetensors: 100%"
      }
     },
     "5d72e8ba986140b2a3962896e2fd2c10": {
      "model_module": "@jupyter-widgets/base",
      "model_module_version": "1.2.0",
      "model_name": "LayoutModel",
      "state": {
       "_model_module": "@jupyter-widgets/base",
       "_model_module_version": "1.2.0",
       "_model_name": "LayoutModel",
       "_view_count": null,
       "_view_module": "@jupyter-widgets/base",
       "_view_module_version": "1.2.0",
       "_view_name": "LayoutView",
       "align_content": null,
       "align_items": null,
       "align_self": null,
       "border": null,
       "bottom": null,
       "display": null,
       "flex": null,
       "flex_flow": null,
       "grid_area": null,
       "grid_auto_columns": null,
       "grid_auto_flow": null,
       "grid_auto_rows": null,
       "grid_column": null,
       "grid_gap": null,
       "grid_row": null,
       "grid_template_areas": null,
       "grid_template_columns": null,
       "grid_template_rows": null,
       "height": null,
       "justify_content": null,
       "justify_items": null,
       "left": null,
       "margin": null,
       "max_height": null,
       "max_width": null,
       "min_height": null,
       "min_width": null,
       "object_fit": null,
       "object_position": null,
       "order": null,
       "overflow": null,
       "overflow_x": null,
       "overflow_y": null,
       "padding": null,
       "right": null,
       "top": null,
       "visibility": null,
       "width": null
      }
     },
     "6964f860f9e84550830729d5a6a89a4d": {
      "model_module": "@jupyter-widgets/controls",
      "model_module_version": "1.5.0",
      "model_name": "ProgressStyleModel",
      "state": {
       "_model_module": "@jupyter-widgets/controls",
       "_model_module_version": "1.5.0",
       "_model_name": "ProgressStyleModel",
       "_view_count": null,
       "_view_module": "@jupyter-widgets/base",
       "_view_module_version": "1.2.0",
       "_view_name": "StyleView",
       "bar_color": null,
       "description_width": ""
      }
     },
     "6a809a9f2d854f4fbb9fc92a7c9ea3c9": {
      "model_module": "@jupyter-widgets/controls",
      "model_module_version": "1.5.0",
      "model_name": "HBoxModel",
      "state": {
       "_dom_classes": [],
       "_model_module": "@jupyter-widgets/controls",
       "_model_module_version": "1.5.0",
       "_model_name": "HBoxModel",
       "_view_count": null,
       "_view_module": "@jupyter-widgets/controls",
       "_view_module_version": "1.5.0",
       "_view_name": "HBoxView",
       "box_style": "",
       "children": [
        "IPY_MODEL_7b7284b3cc384545b5975c29960587ff",
        "IPY_MODEL_e35693979b8a4faeb35a55cef308f54d",
        "IPY_MODEL_5283d8a587e94f0abd0c05be853bd344"
       ],
       "layout": "IPY_MODEL_34fd7137a3164491b085657f9ced1dc7"
      }
     },
     "6d0142b535ed41c78770269bb0c6f304": {
      "model_module": "@jupyter-widgets/base",
      "model_module_version": "1.2.0",
      "model_name": "LayoutModel",
      "state": {
       "_model_module": "@jupyter-widgets/base",
       "_model_module_version": "1.2.0",
       "_model_name": "LayoutModel",
       "_view_count": null,
       "_view_module": "@jupyter-widgets/base",
       "_view_module_version": "1.2.0",
       "_view_name": "LayoutView",
       "align_content": null,
       "align_items": null,
       "align_self": null,
       "border": null,
       "bottom": null,
       "display": null,
       "flex": null,
       "flex_flow": null,
       "grid_area": null,
       "grid_auto_columns": null,
       "grid_auto_flow": null,
       "grid_auto_rows": null,
       "grid_column": null,
       "grid_gap": null,
       "grid_row": null,
       "grid_template_areas": null,
       "grid_template_columns": null,
       "grid_template_rows": null,
       "height": null,
       "justify_content": null,
       "justify_items": null,
       "left": null,
       "margin": null,
       "max_height": null,
       "max_width": null,
       "min_height": null,
       "min_width": null,
       "object_fit": null,
       "object_position": null,
       "order": null,
       "overflow": null,
       "overflow_x": null,
       "overflow_y": null,
       "padding": null,
       "right": null,
       "top": null,
       "visibility": null,
       "width": null
      }
     },
     "71c8027ffb7e407fbba13ce3fa6c79b0": {
      "model_module": "@jupyter-widgets/base",
      "model_module_version": "1.2.0",
      "model_name": "LayoutModel",
      "state": {
       "_model_module": "@jupyter-widgets/base",
       "_model_module_version": "1.2.0",
       "_model_name": "LayoutModel",
       "_view_count": null,
       "_view_module": "@jupyter-widgets/base",
       "_view_module_version": "1.2.0",
       "_view_name": "LayoutView",
       "align_content": null,
       "align_items": null,
       "align_self": null,
       "border": null,
       "bottom": null,
       "display": null,
       "flex": null,
       "flex_flow": null,
       "grid_area": null,
       "grid_auto_columns": null,
       "grid_auto_flow": null,
       "grid_auto_rows": null,
       "grid_column": null,
       "grid_gap": null,
       "grid_row": null,
       "grid_template_areas": null,
       "grid_template_columns": null,
       "grid_template_rows": null,
       "height": null,
       "justify_content": null,
       "justify_items": null,
       "left": null,
       "margin": null,
       "max_height": null,
       "max_width": null,
       "min_height": null,
       "min_width": null,
       "object_fit": null,
       "object_position": null,
       "order": null,
       "overflow": null,
       "overflow_x": null,
       "overflow_y": null,
       "padding": null,
       "right": null,
       "top": null,
       "visibility": null,
       "width": null
      }
     },
     "73b14325f8f040e598fdcf0688af1c4c": {
      "model_module": "@jupyter-widgets/controls",
      "model_module_version": "1.5.0",
      "model_name": "DescriptionStyleModel",
      "state": {
       "_model_module": "@jupyter-widgets/controls",
       "_model_module_version": "1.5.0",
       "_model_name": "DescriptionStyleModel",
       "_view_count": null,
       "_view_module": "@jupyter-widgets/base",
       "_view_module_version": "1.2.0",
       "_view_name": "StyleView",
       "description_width": ""
      }
     },
     "75ea36ee6a1346ccae08f8c5cc1465da": {
      "model_module": "@jupyter-widgets/base",
      "model_module_version": "1.2.0",
      "model_name": "LayoutModel",
      "state": {
       "_model_module": "@jupyter-widgets/base",
       "_model_module_version": "1.2.0",
       "_model_name": "LayoutModel",
       "_view_count": null,
       "_view_module": "@jupyter-widgets/base",
       "_view_module_version": "1.2.0",
       "_view_name": "LayoutView",
       "align_content": null,
       "align_items": null,
       "align_self": null,
       "border": null,
       "bottom": null,
       "display": null,
       "flex": null,
       "flex_flow": null,
       "grid_area": null,
       "grid_auto_columns": null,
       "grid_auto_flow": null,
       "grid_auto_rows": null,
       "grid_column": null,
       "grid_gap": null,
       "grid_row": null,
       "grid_template_areas": null,
       "grid_template_columns": null,
       "grid_template_rows": null,
       "height": null,
       "justify_content": null,
       "justify_items": null,
       "left": null,
       "margin": null,
       "max_height": null,
       "max_width": null,
       "min_height": null,
       "min_width": null,
       "object_fit": null,
       "object_position": null,
       "order": null,
       "overflow": null,
       "overflow_x": null,
       "overflow_y": null,
       "padding": null,
       "right": null,
       "top": null,
       "visibility": null,
       "width": null
      }
     },
     "778048e467c146ccabee24f1d4ab14c4": {
      "model_module": "@jupyter-widgets/controls",
      "model_module_version": "1.5.0",
      "model_name": "DescriptionStyleModel",
      "state": {
       "_model_module": "@jupyter-widgets/controls",
       "_model_module_version": "1.5.0",
       "_model_name": "DescriptionStyleModel",
       "_view_count": null,
       "_view_module": "@jupyter-widgets/base",
       "_view_module_version": "1.2.0",
       "_view_name": "StyleView",
       "description_width": ""
      }
     },
     "78e1f3f049bf42458961af891c5777ca": {
      "model_module": "@jupyter-widgets/controls",
      "model_module_version": "1.5.0",
      "model_name": "ProgressStyleModel",
      "state": {
       "_model_module": "@jupyter-widgets/controls",
       "_model_module_version": "1.5.0",
       "_model_name": "ProgressStyleModel",
       "_view_count": null,
       "_view_module": "@jupyter-widgets/base",
       "_view_module_version": "1.2.0",
       "_view_name": "StyleView",
       "bar_color": null,
       "description_width": ""
      }
     },
     "7b7284b3cc384545b5975c29960587ff": {
      "model_module": "@jupyter-widgets/controls",
      "model_module_version": "1.5.0",
      "model_name": "HTMLModel",
      "state": {
       "_dom_classes": [],
       "_model_module": "@jupyter-widgets/controls",
       "_model_module_version": "1.5.0",
       "_model_name": "HTMLModel",
       "_view_count": null,
       "_view_module": "@jupyter-widgets/controls",
       "_view_module_version": "1.5.0",
       "_view_name": "HTMLView",
       "description": "",
       "description_tooltip": null,
       "layout": "IPY_MODEL_beedf69f4a924e5bbdd4230aadb65287",
       "placeholder": "​",
       "style": "IPY_MODEL_d29f6af3b8514aa582455bafb5f1ae38",
       "value": "Downloading (…)solve/main/vocab.txt: 100%"
      }
     },
     "7c221df38a914e7dba79e146dc66dd82": {
      "model_module": "@jupyter-widgets/controls",
      "model_module_version": "1.5.0",
      "model_name": "ProgressStyleModel",
      "state": {
       "_model_module": "@jupyter-widgets/controls",
       "_model_module_version": "1.5.0",
       "_model_name": "ProgressStyleModel",
       "_view_count": null,
       "_view_module": "@jupyter-widgets/base",
       "_view_module_version": "1.2.0",
       "_view_name": "StyleView",
       "bar_color": null,
       "description_width": ""
      }
     },
     "80de418d3ece426c820bf14763c5fe11": {
      "model_module": "@jupyter-widgets/controls",
      "model_module_version": "1.5.0",
      "model_name": "HBoxModel",
      "state": {
       "_dom_classes": [],
       "_model_module": "@jupyter-widgets/controls",
       "_model_module_version": "1.5.0",
       "_model_name": "HBoxModel",
       "_view_count": null,
       "_view_module": "@jupyter-widgets/controls",
       "_view_module_version": "1.5.0",
       "_view_name": "HBoxView",
       "box_style": "",
       "children": [
        "IPY_MODEL_89c8c73b85cf4075abaabd1df90769cc",
        "IPY_MODEL_1e05dbe8b7a146c2a9241dc109616149",
        "IPY_MODEL_1a057df83e4345dcba74a787cc0f77b6"
       ],
       "layout": "IPY_MODEL_75ea36ee6a1346ccae08f8c5cc1465da"
      }
     },
     "89c8c73b85cf4075abaabd1df90769cc": {
      "model_module": "@jupyter-widgets/controls",
      "model_module_version": "1.5.0",
      "model_name": "HTMLModel",
      "state": {
       "_dom_classes": [],
       "_model_module": "@jupyter-widgets/controls",
       "_model_module_version": "1.5.0",
       "_model_name": "HTMLModel",
       "_view_count": null,
       "_view_module": "@jupyter-widgets/controls",
       "_view_module_version": "1.5.0",
       "_view_name": "HTMLView",
       "description": "",
       "description_tooltip": null,
       "layout": "IPY_MODEL_95fcdb35bad84d9693a5100998df43ae",
       "placeholder": "​",
       "style": "IPY_MODEL_778048e467c146ccabee24f1d4ab14c4",
       "value": "Downloading (…)cial_tokens_map.json: 100%"
      }
     },
     "924181fb61764c258fd139fc4bb14f35": {
      "model_module": "@jupyter-widgets/controls",
      "model_module_version": "1.5.0",
      "model_name": "DescriptionStyleModel",
      "state": {
       "_model_module": "@jupyter-widgets/controls",
       "_model_module_version": "1.5.0",
       "_model_name": "DescriptionStyleModel",
       "_view_count": null,
       "_view_module": "@jupyter-widgets/base",
       "_view_module_version": "1.2.0",
       "_view_name": "StyleView",
       "description_width": ""
      }
     },
     "95fcdb35bad84d9693a5100998df43ae": {
      "model_module": "@jupyter-widgets/base",
      "model_module_version": "1.2.0",
      "model_name": "LayoutModel",
      "state": {
       "_model_module": "@jupyter-widgets/base",
       "_model_module_version": "1.2.0",
       "_model_name": "LayoutModel",
       "_view_count": null,
       "_view_module": "@jupyter-widgets/base",
       "_view_module_version": "1.2.0",
       "_view_name": "LayoutView",
       "align_content": null,
       "align_items": null,
       "align_self": null,
       "border": null,
       "bottom": null,
       "display": null,
       "flex": null,
       "flex_flow": null,
       "grid_area": null,
       "grid_auto_columns": null,
       "grid_auto_flow": null,
       "grid_auto_rows": null,
       "grid_column": null,
       "grid_gap": null,
       "grid_row": null,
       "grid_template_areas": null,
       "grid_template_columns": null,
       "grid_template_rows": null,
       "height": null,
       "justify_content": null,
       "justify_items": null,
       "left": null,
       "margin": null,
       "max_height": null,
       "max_width": null,
       "min_height": null,
       "min_width": null,
       "object_fit": null,
       "object_position": null,
       "order": null,
       "overflow": null,
       "overflow_x": null,
       "overflow_y": null,
       "padding": null,
       "right": null,
       "top": null,
       "visibility": null,
       "width": null
      }
     },
     "a00c82bad27145349b23d4b6fabce8a0": {
      "model_module": "@jupyter-widgets/controls",
      "model_module_version": "1.5.0",
      "model_name": "DescriptionStyleModel",
      "state": {
       "_model_module": "@jupyter-widgets/controls",
       "_model_module_version": "1.5.0",
       "_model_name": "DescriptionStyleModel",
       "_view_count": null,
       "_view_module": "@jupyter-widgets/base",
       "_view_module_version": "1.2.0",
       "_view_name": "StyleView",
       "description_width": ""
      }
     },
     "abccd3159c0a47b79dd6bb0f583730f2": {
      "model_module": "@jupyter-widgets/base",
      "model_module_version": "1.2.0",
      "model_name": "LayoutModel",
      "state": {
       "_model_module": "@jupyter-widgets/base",
       "_model_module_version": "1.2.0",
       "_model_name": "LayoutModel",
       "_view_count": null,
       "_view_module": "@jupyter-widgets/base",
       "_view_module_version": "1.2.0",
       "_view_name": "LayoutView",
       "align_content": null,
       "align_items": null,
       "align_self": null,
       "border": null,
       "bottom": null,
       "display": null,
       "flex": null,
       "flex_flow": null,
       "grid_area": null,
       "grid_auto_columns": null,
       "grid_auto_flow": null,
       "grid_auto_rows": null,
       "grid_column": null,
       "grid_gap": null,
       "grid_row": null,
       "grid_template_areas": null,
       "grid_template_columns": null,
       "grid_template_rows": null,
       "height": null,
       "justify_content": null,
       "justify_items": null,
       "left": null,
       "margin": null,
       "max_height": null,
       "max_width": null,
       "min_height": null,
       "min_width": null,
       "object_fit": null,
       "object_position": null,
       "order": null,
       "overflow": null,
       "overflow_x": null,
       "overflow_y": null,
       "padding": null,
       "right": null,
       "top": null,
       "visibility": null,
       "width": null
      }
     },
     "b5172526af394269a530699a82abc70b": {
      "model_module": "@jupyter-widgets/controls",
      "model_module_version": "1.5.0",
      "model_name": "FloatProgressModel",
      "state": {
       "_dom_classes": [],
       "_model_module": "@jupyter-widgets/controls",
       "_model_module_version": "1.5.0",
       "_model_name": "FloatProgressModel",
       "_view_count": null,
       "_view_module": "@jupyter-widgets/controls",
       "_view_module_version": "1.5.0",
       "_view_name": "ProgressView",
       "bar_style": "success",
       "description": "",
       "description_tooltip": null,
       "layout": "IPY_MODEL_d0eea4da9e924f6ca4be6f6bbf9b616e",
       "max": 62.0,
       "min": 0.0,
       "orientation": "horizontal",
       "style": "IPY_MODEL_6964f860f9e84550830729d5a6a89a4d",
       "value": 62.0
      }
     },
     "beedf69f4a924e5bbdd4230aadb65287": {
      "model_module": "@jupyter-widgets/base",
      "model_module_version": "1.2.0",
      "model_name": "LayoutModel",
      "state": {
       "_model_module": "@jupyter-widgets/base",
       "_model_module_version": "1.2.0",
       "_model_name": "LayoutModel",
       "_view_count": null,
       "_view_module": "@jupyter-widgets/base",
       "_view_module_version": "1.2.0",
       "_view_name": "LayoutView",
       "align_content": null,
       "align_items": null,
       "align_self": null,
       "border": null,
       "bottom": null,
       "display": null,
       "flex": null,
       "flex_flow": null,
       "grid_area": null,
       "grid_auto_columns": null,
       "grid_auto_flow": null,
       "grid_auto_rows": null,
       "grid_column": null,
       "grid_gap": null,
       "grid_row": null,
       "grid_template_areas": null,
       "grid_template_columns": null,
       "grid_template_rows": null,
       "height": null,
       "justify_content": null,
       "justify_items": null,
       "left": null,
       "margin": null,
       "max_height": null,
       "max_width": null,
       "min_height": null,
       "min_width": null,
       "object_fit": null,
       "object_position": null,
       "order": null,
       "overflow": null,
       "overflow_x": null,
       "overflow_y": null,
       "padding": null,
       "right": null,
       "top": null,
       "visibility": null,
       "width": null
      }
     },
     "c08ad9d1b7554fd78179578d0e57cb91": {
      "model_module": "@jupyter-widgets/base",
      "model_module_version": "1.2.0",
      "model_name": "LayoutModel",
      "state": {
       "_model_module": "@jupyter-widgets/base",
       "_model_module_version": "1.2.0",
       "_model_name": "LayoutModel",
       "_view_count": null,
       "_view_module": "@jupyter-widgets/base",
       "_view_module_version": "1.2.0",
       "_view_name": "LayoutView",
       "align_content": null,
       "align_items": null,
       "align_self": null,
       "border": null,
       "bottom": null,
       "display": null,
       "flex": null,
       "flex_flow": null,
       "grid_area": null,
       "grid_auto_columns": null,
       "grid_auto_flow": null,
       "grid_auto_rows": null,
       "grid_column": null,
       "grid_gap": null,
       "grid_row": null,
       "grid_template_areas": null,
       "grid_template_columns": null,
       "grid_template_rows": null,
       "height": null,
       "justify_content": null,
       "justify_items": null,
       "left": null,
       "margin": null,
       "max_height": null,
       "max_width": null,
       "min_height": null,
       "min_width": null,
       "object_fit": null,
       "object_position": null,
       "order": null,
       "overflow": null,
       "overflow_x": null,
       "overflow_y": null,
       "padding": null,
       "right": null,
       "top": null,
       "visibility": null,
       "width": null
      }
     },
     "c35cd4500e344d9caa4717ce90d5a6e9": {
      "model_module": "@jupyter-widgets/controls",
      "model_module_version": "1.5.0",
      "model_name": "DescriptionStyleModel",
      "state": {
       "_model_module": "@jupyter-widgets/controls",
       "_model_module_version": "1.5.0",
       "_model_name": "DescriptionStyleModel",
       "_view_count": null,
       "_view_module": "@jupyter-widgets/base",
       "_view_module_version": "1.2.0",
       "_view_name": "StyleView",
       "description_width": ""
      }
     },
     "c936c57f0df547e7a35062a0e6805db5": {
      "model_module": "@jupyter-widgets/controls",
      "model_module_version": "1.5.0",
      "model_name": "FloatProgressModel",
      "state": {
       "_dom_classes": [],
       "_model_module": "@jupyter-widgets/controls",
       "_model_module_version": "1.5.0",
       "_model_name": "FloatProgressModel",
       "_view_count": null,
       "_view_module": "@jupyter-widgets/controls",
       "_view_module_version": "1.5.0",
       "_view_name": "ProgressView",
       "bar_style": "success",
       "description": "",
       "description_tooltip": null,
       "layout": "IPY_MODEL_71c8027ffb7e407fbba13ce3fa6c79b0",
       "max": 444989788.0,
       "min": 0.0,
       "orientation": "horizontal",
       "style": "IPY_MODEL_78e1f3f049bf42458961af891c5777ca",
       "value": 444989788.0
      }
     },
     "d0eea4da9e924f6ca4be6f6bbf9b616e": {
      "model_module": "@jupyter-widgets/base",
      "model_module_version": "1.2.0",
      "model_name": "LayoutModel",
      "state": {
       "_model_module": "@jupyter-widgets/base",
       "_model_module_version": "1.2.0",
       "_model_name": "LayoutModel",
       "_view_count": null,
       "_view_module": "@jupyter-widgets/base",
       "_view_module_version": "1.2.0",
       "_view_name": "LayoutView",
       "align_content": null,
       "align_items": null,
       "align_self": null,
       "border": null,
       "bottom": null,
       "display": null,
       "flex": null,
       "flex_flow": null,
       "grid_area": null,
       "grid_auto_columns": null,
       "grid_auto_flow": null,
       "grid_auto_rows": null,
       "grid_column": null,
       "grid_gap": null,
       "grid_row": null,
       "grid_template_areas": null,
       "grid_template_columns": null,
       "grid_template_rows": null,
       "height": null,
       "justify_content": null,
       "justify_items": null,
       "left": null,
       "margin": null,
       "max_height": null,
       "max_width": null,
       "min_height": null,
       "min_width": null,
       "object_fit": null,
       "object_position": null,
       "order": null,
       "overflow": null,
       "overflow_x": null,
       "overflow_y": null,
       "padding": null,
       "right": null,
       "top": null,
       "visibility": null,
       "width": null
      }
     },
     "d29f6af3b8514aa582455bafb5f1ae38": {
      "model_module": "@jupyter-widgets/controls",
      "model_module_version": "1.5.0",
      "model_name": "DescriptionStyleModel",
      "state": {
       "_model_module": "@jupyter-widgets/controls",
       "_model_module_version": "1.5.0",
       "_model_name": "DescriptionStyleModel",
       "_view_count": null,
       "_view_module": "@jupyter-widgets/base",
       "_view_module_version": "1.2.0",
       "_view_name": "StyleView",
       "description_width": ""
      }
     },
     "e0bc6f80275f471cad38ab45d128db64": {
      "model_module": "@jupyter-widgets/base",
      "model_module_version": "1.2.0",
      "model_name": "LayoutModel",
      "state": {
       "_model_module": "@jupyter-widgets/base",
       "_model_module_version": "1.2.0",
       "_model_name": "LayoutModel",
       "_view_count": null,
       "_view_module": "@jupyter-widgets/base",
       "_view_module_version": "1.2.0",
       "_view_name": "LayoutView",
       "align_content": null,
       "align_items": null,
       "align_self": null,
       "border": null,
       "bottom": null,
       "display": null,
       "flex": null,
       "flex_flow": null,
       "grid_area": null,
       "grid_auto_columns": null,
       "grid_auto_flow": null,
       "grid_auto_rows": null,
       "grid_column": null,
       "grid_gap": null,
       "grid_row": null,
       "grid_template_areas": null,
       "grid_template_columns": null,
       "grid_template_rows": null,
       "height": null,
       "justify_content": null,
       "justify_items": null,
       "left": null,
       "margin": null,
       "max_height": null,
       "max_width": null,
       "min_height": null,
       "min_width": null,
       "object_fit": null,
       "object_position": null,
       "order": null,
       "overflow": null,
       "overflow_x": null,
       "overflow_y": null,
       "padding": null,
       "right": null,
       "top": null,
       "visibility": null,
       "width": null
      }
     },
     "e109c97c626640c79809646533f3199c": {
      "model_module": "@jupyter-widgets/controls",
      "model_module_version": "1.5.0",
      "model_name": "HTMLModel",
      "state": {
       "_dom_classes": [],
       "_model_module": "@jupyter-widgets/controls",
       "_model_module_version": "1.5.0",
       "_model_name": "HTMLModel",
       "_view_count": null,
       "_view_module": "@jupyter-widgets/controls",
       "_view_module_version": "1.5.0",
       "_view_name": "HTMLView",
       "description": "",
       "description_tooltip": null,
       "layout": "IPY_MODEL_c08ad9d1b7554fd78179578d0e57cb91",
       "placeholder": "​",
       "style": "IPY_MODEL_25f3d55bc7bb416aa5b0e92a8aed06cb",
       "value": " 445M/445M [00:03&lt;00:00, 158MB/s]"
      }
     },
     "e35693979b8a4faeb35a55cef308f54d": {
      "model_module": "@jupyter-widgets/controls",
      "model_module_version": "1.5.0",
      "model_name": "FloatProgressModel",
      "state": {
       "_dom_classes": [],
       "_model_module": "@jupyter-widgets/controls",
       "_model_module_version": "1.5.0",
       "_model_name": "FloatProgressModel",
       "_view_count": null,
       "_view_module": "@jupyter-widgets/controls",
       "_view_module_version": "1.5.0",
       "_view_name": "ProgressView",
       "bar_style": "success",
       "description": "",
       "description_tooltip": null,
       "layout": "IPY_MODEL_220d45646e3049989c6827ad11aabb09",
       "max": 333770.0,
       "min": 0.0,
       "orientation": "horizontal",
       "style": "IPY_MODEL_4348d889ab644fb88ea279de5df04c67",
       "value": 333770.0
      }
     },
     "e86c968370ed4505ac067635715cb84d": {
      "model_module": "@jupyter-widgets/controls",
      "model_module_version": "1.5.0",
      "model_name": "HTMLModel",
      "state": {
       "_dom_classes": [],
       "_model_module": "@jupyter-widgets/controls",
       "_model_module_version": "1.5.0",
       "_model_name": "HTMLModel",
       "_view_count": null,
       "_view_module": "@jupyter-widgets/controls",
       "_view_module_version": "1.5.0",
       "_view_name": "HTMLView",
       "description": "",
       "description_tooltip": null,
       "layout": "IPY_MODEL_f3d46a866fcd4d4fbf7871ca10e4dff6",
       "placeholder": "​",
       "style": "IPY_MODEL_924181fb61764c258fd139fc4bb14f35",
       "value": "Downloading (…)okenizer_config.json: 100%"
      }
     },
     "e8ea0e94533246b582e1c8f3d0746f4e": {
      "model_module": "@jupyter-widgets/controls",
      "model_module_version": "1.5.0",
      "model_name": "DescriptionStyleModel",
      "state": {
       "_model_module": "@jupyter-widgets/controls",
       "_model_module_version": "1.5.0",
       "_model_name": "DescriptionStyleModel",
       "_view_count": null,
       "_view_module": "@jupyter-widgets/base",
       "_view_module_version": "1.2.0",
       "_view_name": "StyleView",
       "description_width": ""
      }
     },
     "f3d46a866fcd4d4fbf7871ca10e4dff6": {
      "model_module": "@jupyter-widgets/base",
      "model_module_version": "1.2.0",
      "model_name": "LayoutModel",
      "state": {
       "_model_module": "@jupyter-widgets/base",
       "_model_module_version": "1.2.0",
       "_model_name": "LayoutModel",
       "_view_count": null,
       "_view_module": "@jupyter-widgets/base",
       "_view_module_version": "1.2.0",
       "_view_name": "LayoutView",
       "align_content": null,
       "align_items": null,
       "align_self": null,
       "border": null,
       "bottom": null,
       "display": null,
       "flex": null,
       "flex_flow": null,
       "grid_area": null,
       "grid_auto_columns": null,
       "grid_auto_flow": null,
       "grid_auto_rows": null,
       "grid_column": null,
       "grid_gap": null,
       "grid_row": null,
       "grid_template_areas": null,
       "grid_template_columns": null,
       "grid_template_rows": null,
       "height": null,
       "justify_content": null,
       "justify_items": null,
       "left": null,
       "margin": null,
       "max_height": null,
       "max_width": null,
       "min_height": null,
       "min_width": null,
       "object_fit": null,
       "object_position": null,
       "order": null,
       "overflow": null,
       "overflow_x": null,
       "overflow_y": null,
       "padding": null,
       "right": null,
       "top": null,
       "visibility": null,
       "width": null
      }
     },
     "f6f24be0764544df89a4b9e722894865": {
      "model_module": "@jupyter-widgets/base",
      "model_module_version": "1.2.0",
      "model_name": "LayoutModel",
      "state": {
       "_model_module": "@jupyter-widgets/base",
       "_model_module_version": "1.2.0",
       "_model_name": "LayoutModel",
       "_view_count": null,
       "_view_module": "@jupyter-widgets/base",
       "_view_module_version": "1.2.0",
       "_view_name": "LayoutView",
       "align_content": null,
       "align_items": null,
       "align_self": null,
       "border": null,
       "bottom": null,
       "display": null,
       "flex": null,
       "flex_flow": null,
       "grid_area": null,
       "grid_auto_columns": null,
       "grid_auto_flow": null,
       "grid_auto_rows": null,
       "grid_column": null,
       "grid_gap": null,
       "grid_row": null,
       "grid_template_areas": null,
       "grid_template_columns": null,
       "grid_template_rows": null,
       "height": null,
       "justify_content": null,
       "justify_items": null,
       "left": null,
       "margin": null,
       "max_height": null,
       "max_width": null,
       "min_height": null,
       "min_width": null,
       "object_fit": null,
       "object_position": null,
       "order": null,
       "overflow": null,
       "overflow_x": null,
       "overflow_y": null,
       "padding": null,
       "right": null,
       "top": null,
       "visibility": null,
       "width": null
      }
     }
    },
    "version_major": 2,
    "version_minor": 0
   }
  }
 },
 "nbformat": 4,
 "nbformat_minor": 5
}
