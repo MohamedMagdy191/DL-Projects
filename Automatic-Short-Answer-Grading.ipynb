{
  "nbformat": 4,
  "nbformat_minor": 0,
  "metadata": {
    "colab": {
      "provenance": []
    },
    "kernelspec": {
      "display_name": "Python 3",
      "language": "python",
      "name": "python3"
    },
    "language_info": {
      "codemirror_mode": {
        "name": "ipython",
        "version": 3
      },
      "file_extension": ".py",
      "mimetype": "text/x-python",
      "name": "python",
      "nbconvert_exporter": "python",
      "pygments_lexer": "ipython3",
      "version": "3.7.6"
    },
    "widgets": {
      "application/vnd.jupyter.widget-state+json": {
        "b75ddd1ead054595b2da02adbbc3c548": {
          "model_module": "@jupyter-widgets/controls",
          "model_name": "HBoxModel",
          "state": {
            "_view_name": "HBoxView",
            "_dom_classes": [],
            "_model_name": "HBoxModel",
            "_view_module": "@jupyter-widgets/controls",
            "_model_module_version": "1.5.0",
            "_view_count": null,
            "_view_module_version": "1.5.0",
            "box_style": "",
            "layout": "IPY_MODEL_085b2db24fb64f18b7b81721ee3d2bd9",
            "_model_module": "@jupyter-widgets/controls",
            "children": [
              "IPY_MODEL_c0f63f42f0fd40bca942549063520ddf",
              "IPY_MODEL_cd4fdeb97a8e4bd7b4f4db3979b66e40"
            ]
          },
          "model_module_version": "1.5.0"
        },
        "085b2db24fb64f18b7b81721ee3d2bd9": {
          "model_module": "@jupyter-widgets/base",
          "model_name": "LayoutModel",
          "state": {
            "_view_name": "LayoutView",
            "grid_template_rows": null,
            "right": null,
            "justify_content": null,
            "_view_module": "@jupyter-widgets/base",
            "overflow": null,
            "_model_module_version": "1.2.0",
            "_view_count": null,
            "flex_flow": null,
            "width": null,
            "min_width": null,
            "border": null,
            "align_items": null,
            "bottom": null,
            "_model_module": "@jupyter-widgets/base",
            "top": null,
            "grid_column": null,
            "overflow_y": null,
            "overflow_x": null,
            "grid_auto_flow": null,
            "grid_area": null,
            "grid_template_columns": null,
            "flex": null,
            "_model_name": "LayoutModel",
            "justify_items": null,
            "grid_row": null,
            "max_height": null,
            "align_content": null,
            "visibility": null,
            "align_self": null,
            "height": null,
            "min_height": null,
            "padding": null,
            "grid_auto_rows": null,
            "grid_gap": null,
            "max_width": null,
            "order": null,
            "_view_module_version": "1.2.0",
            "grid_template_areas": null,
            "object_position": null,
            "object_fit": null,
            "grid_auto_columns": null,
            "margin": null,
            "display": null,
            "left": null
          },
          "model_module_version": "1.2.0"
        },
        "c0f63f42f0fd40bca942549063520ddf": {
          "model_module": "@jupyter-widgets/controls",
          "model_name": "FloatProgressModel",
          "state": {
            "_view_name": "ProgressView",
            "style": "IPY_MODEL_e2e9e20f3b6c4dcaa9de8a0a32849fec",
            "_dom_classes": [],
            "description": "Downloading: 100%",
            "_model_name": "FloatProgressModel",
            "bar_style": "success",
            "max": 433,
            "_view_module": "@jupyter-widgets/controls",
            "_model_module_version": "1.5.0",
            "value": 433,
            "_view_count": null,
            "_view_module_version": "1.5.0",
            "orientation": "horizontal",
            "min": 0,
            "description_tooltip": null,
            "_model_module": "@jupyter-widgets/controls",
            "layout": "IPY_MODEL_5877fc3765644dff9ae6880156636da2"
          },
          "model_module_version": "1.5.0"
        },
        "cd4fdeb97a8e4bd7b4f4db3979b66e40": {
          "model_module": "@jupyter-widgets/controls",
          "model_name": "HTMLModel",
          "state": {
            "_view_name": "HTMLView",
            "style": "IPY_MODEL_e9642779935340ed917bba90b689a4c5",
            "_dom_classes": [],
            "description": "",
            "_model_name": "HTMLModel",
            "placeholder": "​",
            "_view_module": "@jupyter-widgets/controls",
            "_model_module_version": "1.5.0",
            "value": " 433/433 [00:17&lt;00:00, 25.0B/s]",
            "_view_count": null,
            "_view_module_version": "1.5.0",
            "description_tooltip": null,
            "_model_module": "@jupyter-widgets/controls",
            "layout": "IPY_MODEL_541e672a7d0e45cebc6e20310d86a911"
          },
          "model_module_version": "1.5.0"
        },
        "e2e9e20f3b6c4dcaa9de8a0a32849fec": {
          "model_module": "@jupyter-widgets/controls",
          "model_name": "ProgressStyleModel",
          "state": {
            "_view_name": "StyleView",
            "_model_name": "ProgressStyleModel",
            "description_width": "initial",
            "_view_module": "@jupyter-widgets/base",
            "_model_module_version": "1.5.0",
            "_view_count": null,
            "_view_module_version": "1.2.0",
            "bar_color": null,
            "_model_module": "@jupyter-widgets/controls"
          },
          "model_module_version": "1.5.0"
        },
        "5877fc3765644dff9ae6880156636da2": {
          "model_module": "@jupyter-widgets/base",
          "model_name": "LayoutModel",
          "state": {
            "_view_name": "LayoutView",
            "grid_template_rows": null,
            "right": null,
            "justify_content": null,
            "_view_module": "@jupyter-widgets/base",
            "overflow": null,
            "_model_module_version": "1.2.0",
            "_view_count": null,
            "flex_flow": null,
            "width": null,
            "min_width": null,
            "border": null,
            "align_items": null,
            "bottom": null,
            "_model_module": "@jupyter-widgets/base",
            "top": null,
            "grid_column": null,
            "overflow_y": null,
            "overflow_x": null,
            "grid_auto_flow": null,
            "grid_area": null,
            "grid_template_columns": null,
            "flex": null,
            "_model_name": "LayoutModel",
            "justify_items": null,
            "grid_row": null,
            "max_height": null,
            "align_content": null,
            "visibility": null,
            "align_self": null,
            "height": null,
            "min_height": null,
            "padding": null,
            "grid_auto_rows": null,
            "grid_gap": null,
            "max_width": null,
            "order": null,
            "_view_module_version": "1.2.0",
            "grid_template_areas": null,
            "object_position": null,
            "object_fit": null,
            "grid_auto_columns": null,
            "margin": null,
            "display": null,
            "left": null
          },
          "model_module_version": "1.2.0"
        },
        "e9642779935340ed917bba90b689a4c5": {
          "model_module": "@jupyter-widgets/controls",
          "model_name": "DescriptionStyleModel",
          "state": {
            "_view_name": "StyleView",
            "_model_name": "DescriptionStyleModel",
            "description_width": "",
            "_view_module": "@jupyter-widgets/base",
            "_model_module_version": "1.5.0",
            "_view_count": null,
            "_view_module_version": "1.2.0",
            "_model_module": "@jupyter-widgets/controls"
          },
          "model_module_version": "1.5.0"
        },
        "541e672a7d0e45cebc6e20310d86a911": {
          "model_module": "@jupyter-widgets/base",
          "model_name": "LayoutModel",
          "state": {
            "_view_name": "LayoutView",
            "grid_template_rows": null,
            "right": null,
            "justify_content": null,
            "_view_module": "@jupyter-widgets/base",
            "overflow": null,
            "_model_module_version": "1.2.0",
            "_view_count": null,
            "flex_flow": null,
            "width": null,
            "min_width": null,
            "border": null,
            "align_items": null,
            "bottom": null,
            "_model_module": "@jupyter-widgets/base",
            "top": null,
            "grid_column": null,
            "overflow_y": null,
            "overflow_x": null,
            "grid_auto_flow": null,
            "grid_area": null,
            "grid_template_columns": null,
            "flex": null,
            "_model_name": "LayoutModel",
            "justify_items": null,
            "grid_row": null,
            "max_height": null,
            "align_content": null,
            "visibility": null,
            "align_self": null,
            "height": null,
            "min_height": null,
            "padding": null,
            "grid_auto_rows": null,
            "grid_gap": null,
            "max_width": null,
            "order": null,
            "_view_module_version": "1.2.0",
            "grid_template_areas": null,
            "object_position": null,
            "object_fit": null,
            "grid_auto_columns": null,
            "margin": null,
            "display": null,
            "left": null
          },
          "model_module_version": "1.2.0"
        },
        "6e39488d3ca54edcb03251467fc3f6d3": {
          "model_module": "@jupyter-widgets/controls",
          "model_name": "HBoxModel",
          "state": {
            "_view_name": "HBoxView",
            "_dom_classes": [],
            "_model_name": "HBoxModel",
            "_view_module": "@jupyter-widgets/controls",
            "_model_module_version": "1.5.0",
            "_view_count": null,
            "_view_module_version": "1.5.0",
            "box_style": "",
            "layout": "IPY_MODEL_060d442d2e934de3a350a65f1b039637",
            "_model_module": "@jupyter-widgets/controls",
            "children": [
              "IPY_MODEL_1e3a52481f3d421d86e689828bc6136d",
              "IPY_MODEL_02f75faad5154067bb4692114b3228eb"
            ]
          },
          "model_module_version": "1.5.0"
        },
        "060d442d2e934de3a350a65f1b039637": {
          "model_module": "@jupyter-widgets/base",
          "model_name": "LayoutModel",
          "state": {
            "_view_name": "LayoutView",
            "grid_template_rows": null,
            "right": null,
            "justify_content": null,
            "_view_module": "@jupyter-widgets/base",
            "overflow": null,
            "_model_module_version": "1.2.0",
            "_view_count": null,
            "flex_flow": null,
            "width": null,
            "min_width": null,
            "border": null,
            "align_items": null,
            "bottom": null,
            "_model_module": "@jupyter-widgets/base",
            "top": null,
            "grid_column": null,
            "overflow_y": null,
            "overflow_x": null,
            "grid_auto_flow": null,
            "grid_area": null,
            "grid_template_columns": null,
            "flex": null,
            "_model_name": "LayoutModel",
            "justify_items": null,
            "grid_row": null,
            "max_height": null,
            "align_content": null,
            "visibility": null,
            "align_self": null,
            "height": null,
            "min_height": null,
            "padding": null,
            "grid_auto_rows": null,
            "grid_gap": null,
            "max_width": null,
            "order": null,
            "_view_module_version": "1.2.0",
            "grid_template_areas": null,
            "object_position": null,
            "object_fit": null,
            "grid_auto_columns": null,
            "margin": null,
            "display": null,
            "left": null
          },
          "model_module_version": "1.2.0"
        },
        "1e3a52481f3d421d86e689828bc6136d": {
          "model_module": "@jupyter-widgets/controls",
          "model_name": "FloatProgressModel",
          "state": {
            "_view_name": "ProgressView",
            "style": "IPY_MODEL_4b25dcf5ce9f422d839e13c7e602c176",
            "_dom_classes": [],
            "description": "Downloading: 100%",
            "_model_name": "FloatProgressModel",
            "bar_style": "success",
            "max": 536063208,
            "_view_module": "@jupyter-widgets/controls",
            "_model_module_version": "1.5.0",
            "value": 536063208,
            "_view_count": null,
            "_view_module_version": "1.5.0",
            "orientation": "horizontal",
            "min": 0,
            "description_tooltip": null,
            "_model_module": "@jupyter-widgets/controls",
            "layout": "IPY_MODEL_6df2fa009f73419683872796852f4765"
          },
          "model_module_version": "1.5.0"
        },
        "02f75faad5154067bb4692114b3228eb": {
          "model_module": "@jupyter-widgets/controls",
          "model_name": "HTMLModel",
          "state": {
            "_view_name": "HTMLView",
            "style": "IPY_MODEL_5e51fa439d1346b5a339c10364662d77",
            "_dom_classes": [],
            "description": "",
            "_model_name": "HTMLModel",
            "placeholder": "​",
            "_view_module": "@jupyter-widgets/controls",
            "_model_module_version": "1.5.0",
            "value": " 536M/536M [00:17&lt;00:00, 31.5MB/s]",
            "_view_count": null,
            "_view_module_version": "1.5.0",
            "description_tooltip": null,
            "_model_module": "@jupyter-widgets/controls",
            "layout": "IPY_MODEL_be374082ead64f97a31779f71fb41886"
          },
          "model_module_version": "1.5.0"
        },
        "4b25dcf5ce9f422d839e13c7e602c176": {
          "model_module": "@jupyter-widgets/controls",
          "model_name": "ProgressStyleModel",
          "state": {
            "_view_name": "StyleView",
            "_model_name": "ProgressStyleModel",
            "description_width": "initial",
            "_view_module": "@jupyter-widgets/base",
            "_model_module_version": "1.5.0",
            "_view_count": null,
            "_view_module_version": "1.2.0",
            "bar_color": null,
            "_model_module": "@jupyter-widgets/controls"
          },
          "model_module_version": "1.5.0"
        },
        "6df2fa009f73419683872796852f4765": {
          "model_module": "@jupyter-widgets/base",
          "model_name": "LayoutModel",
          "state": {
            "_view_name": "LayoutView",
            "grid_template_rows": null,
            "right": null,
            "justify_content": null,
            "_view_module": "@jupyter-widgets/base",
            "overflow": null,
            "_model_module_version": "1.2.0",
            "_view_count": null,
            "flex_flow": null,
            "width": null,
            "min_width": null,
            "border": null,
            "align_items": null,
            "bottom": null,
            "_model_module": "@jupyter-widgets/base",
            "top": null,
            "grid_column": null,
            "overflow_y": null,
            "overflow_x": null,
            "grid_auto_flow": null,
            "grid_area": null,
            "grid_template_columns": null,
            "flex": null,
            "_model_name": "LayoutModel",
            "justify_items": null,
            "grid_row": null,
            "max_height": null,
            "align_content": null,
            "visibility": null,
            "align_self": null,
            "height": null,
            "min_height": null,
            "padding": null,
            "grid_auto_rows": null,
            "grid_gap": null,
            "max_width": null,
            "order": null,
            "_view_module_version": "1.2.0",
            "grid_template_areas": null,
            "object_position": null,
            "object_fit": null,
            "grid_auto_columns": null,
            "margin": null,
            "display": null,
            "left": null
          },
          "model_module_version": "1.2.0"
        },
        "5e51fa439d1346b5a339c10364662d77": {
          "model_module": "@jupyter-widgets/controls",
          "model_name": "DescriptionStyleModel",
          "state": {
            "_view_name": "StyleView",
            "_model_name": "DescriptionStyleModel",
            "description_width": "",
            "_view_module": "@jupyter-widgets/base",
            "_model_module_version": "1.5.0",
            "_view_count": null,
            "_view_module_version": "1.2.0",
            "_model_module": "@jupyter-widgets/controls"
          },
          "model_module_version": "1.5.0"
        },
        "be374082ead64f97a31779f71fb41886": {
          "model_module": "@jupyter-widgets/base",
          "model_name": "LayoutModel",
          "state": {
            "_view_name": "LayoutView",
            "grid_template_rows": null,
            "right": null,
            "justify_content": null,
            "_view_module": "@jupyter-widgets/base",
            "overflow": null,
            "_model_module_version": "1.2.0",
            "_view_count": null,
            "flex_flow": null,
            "width": null,
            "min_width": null,
            "border": null,
            "align_items": null,
            "bottom": null,
            "_model_module": "@jupyter-widgets/base",
            "top": null,
            "grid_column": null,
            "overflow_y": null,
            "overflow_x": null,
            "grid_auto_flow": null,
            "grid_area": null,
            "grid_template_columns": null,
            "flex": null,
            "_model_name": "LayoutModel",
            "justify_items": null,
            "grid_row": null,
            "max_height": null,
            "align_content": null,
            "visibility": null,
            "align_self": null,
            "height": null,
            "min_height": null,
            "padding": null,
            "grid_auto_rows": null,
            "grid_gap": null,
            "max_width": null,
            "order": null,
            "_view_module_version": "1.2.0",
            "grid_template_areas": null,
            "object_position": null,
            "object_fit": null,
            "grid_auto_columns": null,
            "margin": null,
            "display": null,
            "left": null
          },
          "model_module_version": "1.2.0"
        },
        "3d19e0756dba42d9a4c2c271902f8303": {
          "model_module": "@jupyter-widgets/controls",
          "model_name": "HBoxModel",
          "state": {
            "_view_name": "HBoxView",
            "_dom_classes": [],
            "_model_name": "HBoxModel",
            "_view_module": "@jupyter-widgets/controls",
            "_model_module_version": "1.5.0",
            "_view_count": null,
            "_view_module_version": "1.5.0",
            "box_style": "",
            "layout": "IPY_MODEL_8edede393c024c60b608948828924e73",
            "_model_module": "@jupyter-widgets/controls",
            "children": [
              "IPY_MODEL_e2f648a09f6a41c7994f8a1d4b6aa85b",
              "IPY_MODEL_b968102606464168a0ad0cc8c0d6834f"
            ]
          },
          "model_module_version": "1.5.0"
        },
        "8edede393c024c60b608948828924e73": {
          "model_module": "@jupyter-widgets/base",
          "model_name": "LayoutModel",
          "state": {
            "_view_name": "LayoutView",
            "grid_template_rows": null,
            "right": null,
            "justify_content": null,
            "_view_module": "@jupyter-widgets/base",
            "overflow": null,
            "_model_module_version": "1.2.0",
            "_view_count": null,
            "flex_flow": null,
            "width": null,
            "min_width": null,
            "border": null,
            "align_items": null,
            "bottom": null,
            "_model_module": "@jupyter-widgets/base",
            "top": null,
            "grid_column": null,
            "overflow_y": null,
            "overflow_x": null,
            "grid_auto_flow": null,
            "grid_area": null,
            "grid_template_columns": null,
            "flex": null,
            "_model_name": "LayoutModel",
            "justify_items": null,
            "grid_row": null,
            "max_height": null,
            "align_content": null,
            "visibility": null,
            "align_self": null,
            "height": null,
            "min_height": null,
            "padding": null,
            "grid_auto_rows": null,
            "grid_gap": null,
            "max_width": null,
            "order": null,
            "_view_module_version": "1.2.0",
            "grid_template_areas": null,
            "object_position": null,
            "object_fit": null,
            "grid_auto_columns": null,
            "margin": null,
            "display": null,
            "left": null
          },
          "model_module_version": "1.2.0"
        },
        "e2f648a09f6a41c7994f8a1d4b6aa85b": {
          "model_module": "@jupyter-widgets/controls",
          "model_name": "FloatProgressModel",
          "state": {
            "_view_name": "ProgressView",
            "style": "IPY_MODEL_03ed3f70ab574b3ab592b26e25d4d0cd",
            "_dom_classes": [],
            "description": "Downloading: 100%",
            "_model_name": "FloatProgressModel",
            "bar_style": "success",
            "max": 231508,
            "_view_module": "@jupyter-widgets/controls",
            "_model_module_version": "1.5.0",
            "value": 231508,
            "_view_count": null,
            "_view_module_version": "1.5.0",
            "orientation": "horizontal",
            "min": 0,
            "description_tooltip": null,
            "_model_module": "@jupyter-widgets/controls",
            "layout": "IPY_MODEL_02b874a1fbcc47a7984a844eae0af351"
          },
          "model_module_version": "1.5.0"
        },
        "b968102606464168a0ad0cc8c0d6834f": {
          "model_module": "@jupyter-widgets/controls",
          "model_name": "HTMLModel",
          "state": {
            "_view_name": "HTMLView",
            "style": "IPY_MODEL_e96f2843f0a54257b3967c09a3441217",
            "_dom_classes": [],
            "description": "",
            "_model_name": "HTMLModel",
            "placeholder": "​",
            "_view_module": "@jupyter-widgets/controls",
            "_model_module_version": "1.5.0",
            "value": " 232k/232k [00:00&lt;00:00, 824kB/s]",
            "_view_count": null,
            "_view_module_version": "1.5.0",
            "description_tooltip": null,
            "_model_module": "@jupyter-widgets/controls",
            "layout": "IPY_MODEL_e528663838324d42a6a0d4d83f972a9a"
          },
          "model_module_version": "1.5.0"
        },
        "03ed3f70ab574b3ab592b26e25d4d0cd": {
          "model_module": "@jupyter-widgets/controls",
          "model_name": "ProgressStyleModel",
          "state": {
            "_view_name": "StyleView",
            "_model_name": "ProgressStyleModel",
            "description_width": "initial",
            "_view_module": "@jupyter-widgets/base",
            "_model_module_version": "1.5.0",
            "_view_count": null,
            "_view_module_version": "1.2.0",
            "bar_color": null,
            "_model_module": "@jupyter-widgets/controls"
          },
          "model_module_version": "1.5.0"
        },
        "02b874a1fbcc47a7984a844eae0af351": {
          "model_module": "@jupyter-widgets/base",
          "model_name": "LayoutModel",
          "state": {
            "_view_name": "LayoutView",
            "grid_template_rows": null,
            "right": null,
            "justify_content": null,
            "_view_module": "@jupyter-widgets/base",
            "overflow": null,
            "_model_module_version": "1.2.0",
            "_view_count": null,
            "flex_flow": null,
            "width": null,
            "min_width": null,
            "border": null,
            "align_items": null,
            "bottom": null,
            "_model_module": "@jupyter-widgets/base",
            "top": null,
            "grid_column": null,
            "overflow_y": null,
            "overflow_x": null,
            "grid_auto_flow": null,
            "grid_area": null,
            "grid_template_columns": null,
            "flex": null,
            "_model_name": "LayoutModel",
            "justify_items": null,
            "grid_row": null,
            "max_height": null,
            "align_content": null,
            "visibility": null,
            "align_self": null,
            "height": null,
            "min_height": null,
            "padding": null,
            "grid_auto_rows": null,
            "grid_gap": null,
            "max_width": null,
            "order": null,
            "_view_module_version": "1.2.0",
            "grid_template_areas": null,
            "object_position": null,
            "object_fit": null,
            "grid_auto_columns": null,
            "margin": null,
            "display": null,
            "left": null
          },
          "model_module_version": "1.2.0"
        },
        "e96f2843f0a54257b3967c09a3441217": {
          "model_module": "@jupyter-widgets/controls",
          "model_name": "DescriptionStyleModel",
          "state": {
            "_view_name": "StyleView",
            "_model_name": "DescriptionStyleModel",
            "description_width": "",
            "_view_module": "@jupyter-widgets/base",
            "_model_module_version": "1.5.0",
            "_view_count": null,
            "_view_module_version": "1.2.0",
            "_model_module": "@jupyter-widgets/controls"
          },
          "model_module_version": "1.5.0"
        },
        "e528663838324d42a6a0d4d83f972a9a": {
          "model_module": "@jupyter-widgets/base",
          "model_name": "LayoutModel",
          "state": {
            "_view_name": "LayoutView",
            "grid_template_rows": null,
            "right": null,
            "justify_content": null,
            "_view_module": "@jupyter-widgets/base",
            "overflow": null,
            "_model_module_version": "1.2.0",
            "_view_count": null,
            "flex_flow": null,
            "width": null,
            "min_width": null,
            "border": null,
            "align_items": null,
            "bottom": null,
            "_model_module": "@jupyter-widgets/base",
            "top": null,
            "grid_column": null,
            "overflow_y": null,
            "overflow_x": null,
            "grid_auto_flow": null,
            "grid_area": null,
            "grid_template_columns": null,
            "flex": null,
            "_model_name": "LayoutModel",
            "justify_items": null,
            "grid_row": null,
            "max_height": null,
            "align_content": null,
            "visibility": null,
            "align_self": null,
            "height": null,
            "min_height": null,
            "padding": null,
            "grid_auto_rows": null,
            "grid_gap": null,
            "max_width": null,
            "order": null,
            "_view_module_version": "1.2.0",
            "grid_template_areas": null,
            "object_position": null,
            "object_fit": null,
            "grid_auto_columns": null,
            "margin": null,
            "display": null,
            "left": null
          },
          "model_module_version": "1.2.0"
        }
      }
    },
    "accelerator": "GPU"
  },
  "cells": [
    {
      "cell_type": "markdown",
      "metadata": {
        "id": "wPL3C07_oI0g"
      },
      "source": [
        "Regression(0-5)"
      ]
    },
    {
      "cell_type": "code",
      "metadata": {
        "colab": {
          "base_uri": "https://localhost:8080/"
        },
        "id": "p-r-7qfYYT5Z",
        "outputId": "52dc66ae-38d4-4411-f1c4-3408cd315349"
      },
      "source": [
        "!pip install transformers==2.11.0\n",
        "!pip install numpy\n",
        "import numpy as np\n",
        "import pandas as pd\n",
        "import transformers\n",
        "import tensorflow as tf\n",
        "from tensorflow import keras\n",
        "from tensorflow.python.keras import backend as K\n",
        "from tensorflow.python.ops import array_ops\n",
        "from tensorflow.python.ops import math_ops\n",
        "import matplotlib.pyplot as plt\n",
        "import seaborn as sns\n",
        "import sklearn as sk\n",
        "import functools\n",
        "import itertools\n",
        "import time\n",
        "import os\n",
        "import datetime\n",
        "import re\n",
        "import altair as alt\n",
        "from sklearn.utils import shuffle"
      ],
      "execution_count": null,
      "outputs": [
        {
          "output_type": "stream",
          "text": [
            "Collecting transformers==2.11.0\n",
            "  Downloading transformers-2.11.0-py3-none-any.whl (674 kB)\n",
            "\u001b[?25l\r\u001b[K     |▌                               | 10 kB 38.8 MB/s eta 0:00:01\r\u001b[K     |█                               | 20 kB 35.3 MB/s eta 0:00:01\r\u001b[K     |█▌                              | 30 kB 21.4 MB/s eta 0:00:01\r\u001b[K     |██                              | 40 kB 17.9 MB/s eta 0:00:01\r\u001b[K     |██▍                             | 51 kB 9.8 MB/s eta 0:00:01\r\u001b[K     |███                             | 61 kB 10.2 MB/s eta 0:00:01\r\u001b[K     |███▍                            | 71 kB 10.1 MB/s eta 0:00:01\r\u001b[K     |███▉                            | 81 kB 11.2 MB/s eta 0:00:01\r\u001b[K     |████▍                           | 92 kB 11.6 MB/s eta 0:00:01\r\u001b[K     |████▉                           | 102 kB 9.6 MB/s eta 0:00:01\r\u001b[K     |█████▍                          | 112 kB 9.6 MB/s eta 0:00:01\r\u001b[K     |█████▉                          | 122 kB 9.6 MB/s eta 0:00:01\r\u001b[K     |██████▎                         | 133 kB 9.6 MB/s eta 0:00:01\r\u001b[K     |██████▉                         | 143 kB 9.6 MB/s eta 0:00:01\r\u001b[K     |███████▎                        | 153 kB 9.6 MB/s eta 0:00:01\r\u001b[K     |███████▊                        | 163 kB 9.6 MB/s eta 0:00:01\r\u001b[K     |████████▎                       | 174 kB 9.6 MB/s eta 0:00:01\r\u001b[K     |████████▊                       | 184 kB 9.6 MB/s eta 0:00:01\r\u001b[K     |█████████▎                      | 194 kB 9.6 MB/s eta 0:00:01\r\u001b[K     |█████████▊                      | 204 kB 9.6 MB/s eta 0:00:01\r\u001b[K     |██████████▏                     | 215 kB 9.6 MB/s eta 0:00:01\r\u001b[K     |██████████▊                     | 225 kB 9.6 MB/s eta 0:00:01\r\u001b[K     |███████████▏                    | 235 kB 9.6 MB/s eta 0:00:01\r\u001b[K     |███████████▋                    | 245 kB 9.6 MB/s eta 0:00:01\r\u001b[K     |████████████▏                   | 256 kB 9.6 MB/s eta 0:00:01\r\u001b[K     |████████████▋                   | 266 kB 9.6 MB/s eta 0:00:01\r\u001b[K     |█████████████                   | 276 kB 9.6 MB/s eta 0:00:01\r\u001b[K     |█████████████▋                  | 286 kB 9.6 MB/s eta 0:00:01\r\u001b[K     |██████████████                  | 296 kB 9.6 MB/s eta 0:00:01\r\u001b[K     |██████████████▋                 | 307 kB 9.6 MB/s eta 0:00:01\r\u001b[K     |███████████████                 | 317 kB 9.6 MB/s eta 0:00:01\r\u001b[K     |███████████████▌                | 327 kB 9.6 MB/s eta 0:00:01\r\u001b[K     |████████████████                | 337 kB 9.6 MB/s eta 0:00:01\r\u001b[K     |████████████████▌               | 348 kB 9.6 MB/s eta 0:00:01\r\u001b[K     |█████████████████               | 358 kB 9.6 MB/s eta 0:00:01\r\u001b[K     |█████████████████▌              | 368 kB 9.6 MB/s eta 0:00:01\r\u001b[K     |██████████████████              | 378 kB 9.6 MB/s eta 0:00:01\r\u001b[K     |██████████████████▌             | 389 kB 9.6 MB/s eta 0:00:01\r\u001b[K     |███████████████████             | 399 kB 9.6 MB/s eta 0:00:01\r\u001b[K     |███████████████████▍            | 409 kB 9.6 MB/s eta 0:00:01\r\u001b[K     |████████████████████            | 419 kB 9.6 MB/s eta 0:00:01\r\u001b[K     |████████████████████▍           | 430 kB 9.6 MB/s eta 0:00:01\r\u001b[K     |████████████████████▉           | 440 kB 9.6 MB/s eta 0:00:01\r\u001b[K     |█████████████████████▍          | 450 kB 9.6 MB/s eta 0:00:01\r\u001b[K     |█████████████████████▉          | 460 kB 9.6 MB/s eta 0:00:01\r\u001b[K     |██████████████████████▍         | 471 kB 9.6 MB/s eta 0:00:01\r\u001b[K     |██████████████████████▉         | 481 kB 9.6 MB/s eta 0:00:01\r\u001b[K     |███████████████████████▎        | 491 kB 9.6 MB/s eta 0:00:01\r\u001b[K     |███████████████████████▉        | 501 kB 9.6 MB/s eta 0:00:01\r\u001b[K     |████████████████████████▎       | 512 kB 9.6 MB/s eta 0:00:01\r\u001b[K     |████████████████████████▊       | 522 kB 9.6 MB/s eta 0:00:01\r\u001b[K     |█████████████████████████▎      | 532 kB 9.6 MB/s eta 0:00:01\r\u001b[K     |█████████████████████████▊      | 542 kB 9.6 MB/s eta 0:00:01\r\u001b[K     |██████████████████████████▏     | 552 kB 9.6 MB/s eta 0:00:01\r\u001b[K     |██████████████████████████▊     | 563 kB 9.6 MB/s eta 0:00:01\r\u001b[K     |███████████████████████████▏    | 573 kB 9.6 MB/s eta 0:00:01\r\u001b[K     |███████████████████████████▊    | 583 kB 9.6 MB/s eta 0:00:01\r\u001b[K     |████████████████████████████▏   | 593 kB 9.6 MB/s eta 0:00:01\r\u001b[K     |████████████████████████████▋   | 604 kB 9.6 MB/s eta 0:00:01\r\u001b[K     |█████████████████████████████▏  | 614 kB 9.6 MB/s eta 0:00:01\r\u001b[K     |█████████████████████████████▋  | 624 kB 9.6 MB/s eta 0:00:01\r\u001b[K     |██████████████████████████████  | 634 kB 9.6 MB/s eta 0:00:01\r\u001b[K     |██████████████████████████████▋ | 645 kB 9.6 MB/s eta 0:00:01\r\u001b[K     |███████████████████████████████ | 655 kB 9.6 MB/s eta 0:00:01\r\u001b[K     |███████████████████████████████▋| 665 kB 9.6 MB/s eta 0:00:01\r\u001b[K     |████████████████████████████████| 674 kB 9.6 MB/s \n",
            "\u001b[?25hRequirement already satisfied: tqdm>=4.27 in /usr/local/lib/python3.7/dist-packages (from transformers==2.11.0) (4.41.1)\n",
            "Collecting sacremoses\n",
            "  Downloading sacremoses-0.0.45-py3-none-any.whl (895 kB)\n",
            "\u001b[K     |████████████████████████████████| 895 kB 17.4 MB/s \n",
            "\u001b[?25hCollecting tokenizers==0.7.0\n",
            "  Downloading tokenizers-0.7.0-cp37-cp37m-manylinux1_x86_64.whl (5.6 MB)\n",
            "\u001b[K     |████████████████████████████████| 5.6 MB 20.4 MB/s \n",
            "\u001b[?25hRequirement already satisfied: packaging in /usr/local/lib/python3.7/dist-packages (from transformers==2.11.0) (21.0)\n",
            "Requirement already satisfied: regex!=2019.12.17 in /usr/local/lib/python3.7/dist-packages (from transformers==2.11.0) (2019.12.20)\n",
            "Requirement already satisfied: numpy in /usr/local/lib/python3.7/dist-packages (from transformers==2.11.0) (1.19.5)\n",
            "Requirement already satisfied: requests in /usr/local/lib/python3.7/dist-packages (from transformers==2.11.0) (2.23.0)\n",
            "Collecting sentencepiece\n",
            "  Downloading sentencepiece-0.1.96-cp37-cp37m-manylinux_2_17_x86_64.manylinux2014_x86_64.whl (1.2 MB)\n",
            "\u001b[K     |████████████████████████████████| 1.2 MB 61.5 MB/s \n",
            "\u001b[?25hRequirement already satisfied: filelock in /usr/local/lib/python3.7/dist-packages (from transformers==2.11.0) (3.0.12)\n",
            "Requirement already satisfied: pyparsing>=2.0.2 in /usr/local/lib/python3.7/dist-packages (from packaging->transformers==2.11.0) (2.4.7)\n",
            "Requirement already satisfied: idna<3,>=2.5 in /usr/local/lib/python3.7/dist-packages (from requests->transformers==2.11.0) (2.10)\n",
            "Requirement already satisfied: chardet<4,>=3.0.2 in /usr/local/lib/python3.7/dist-packages (from requests->transformers==2.11.0) (3.0.4)\n",
            "Requirement already satisfied: certifi>=2017.4.17 in /usr/local/lib/python3.7/dist-packages (from requests->transformers==2.11.0) (2021.5.30)\n",
            "Requirement already satisfied: urllib3!=1.25.0,!=1.25.1,<1.26,>=1.21.1 in /usr/local/lib/python3.7/dist-packages (from requests->transformers==2.11.0) (1.24.3)\n",
            "Requirement already satisfied: six in /usr/local/lib/python3.7/dist-packages (from sacremoses->transformers==2.11.0) (1.15.0)\n",
            "Requirement already satisfied: joblib in /usr/local/lib/python3.7/dist-packages (from sacremoses->transformers==2.11.0) (1.0.1)\n",
            "Requirement already satisfied: click in /usr/local/lib/python3.7/dist-packages (from sacremoses->transformers==2.11.0) (7.1.2)\n",
            "Installing collected packages: tokenizers, sentencepiece, sacremoses, transformers\n",
            "Successfully installed sacremoses-0.0.45 sentencepiece-0.1.96 tokenizers-0.7.0 transformers-2.11.0\n",
            "Requirement already satisfied: numpy in /usr/local/lib/python3.7/dist-packages (1.19.5)\n"
          ],
          "name": "stdout"
        }
      ]
    },
    {
      "cell_type": "markdown",
      "metadata": {
        "id": "c5fVnc5hEtjl"
      },
      "source": [
        "## Configuration"
      ]
    },
    {
      "cell_type": "code",
      "metadata": {
        "id": "QfImmM-DEtjl"
      },
      "source": [
        "max_length = 128  # Maximum length of input sentence to the model.\n",
        "batch_size = 32\n",
        "epochs = 5"
      ],
      "execution_count": null,
      "outputs": []
    },
    {
      "cell_type": "markdown",
      "metadata": {
        "id": "BSZR6nhjEtjm"
      },
      "source": [
        "## Load the Data"
      ]
    },
    {
      "cell_type": "code",
      "metadata": {
        "id": "N__O9JGaYT5y",
        "colab": {
          "base_uri": "https://localhost:8080/",
          "height": 607
        },
        "outputId": "4f275409-a837-4bda-9941-5ac7827196a8"
      },
      "source": [
        "graded_data= pd.read_csv(\"./ASAG_2021.csv\")\n",
        "print(\"Grades Target Distribution\")\n",
        "print(graded_data.grades.value_counts(\"assinding\"))\n",
        "#Data Distribution histogram\n",
        "sns.displot( data=graded_data, x=\"grades\", kind=\"hist\", aspect=2)"
      ],
      "execution_count": null,
      "outputs": [
        {
          "output_type": "stream",
          "text": [
            "Grades Target Distribution\n",
            "1.000    0.119123\n",
            "0.000    0.116733\n",
            "2.000    0.095923\n",
            "3.000    0.088176\n",
            "4.000    0.049946\n",
            "           ...   \n",
            "3.670    0.000039\n",
            "3.875    0.000039\n",
            "1.583    0.000039\n",
            "0.118    0.000039\n",
            "1.286    0.000039\n",
            "Name: grades, Length: 190, dtype: float64\n"
          ],
          "name": "stdout"
        },
        {
          "output_type": "execute_result",
          "data": {
            "text/plain": [
              "<seaborn.axisgrid.FacetGrid at 0x7f6b1735c410>"
            ]
          },
          "metadata": {
            "tags": []
          },
          "execution_count": 3
        },
        {
          "output_type": "display_data",
          "data": {
            "image/png": "[encoded data removed]",
            "text/plain": [
              "<Figure size 720x360 with 1 Axes>"
            ]
          },
          "metadata": {
            "tags": [],
            "needs_background": "light"
          }
        }
      ]
    },
    {
      "cell_type": "code",
      "metadata": {
        "colab": {
          "base_uri": "https://localhost:8080/"
        },
        "id": "rg50qBpwYT50",
        "outputId": "63ee84ba-93ab-4fa7-faa9-7747ee4d6f8f"
      },
      "source": [
        "#70% train-set 15% validation & test-set\n",
        "train=graded_data.iloc[:18164,:3]\n",
        "val=graded_data.iloc[18164:22056,:3]\n",
        "test=graded_data.iloc[22056:,:3]\n",
        "# Shape of the data\n",
        "print(f\"Total train samples : {train.shape[0]}\")\n",
        "print(f\"Total validation samples: {val.shape[0]}\")\n",
        "print(f\"Total test samples: {test.shape[0]}\")"
      ],
      "execution_count": null,
      "outputs": [
        {
          "output_type": "stream",
          "text": [
            "Total train samples : 18164\n",
            "Total validation samples: 3892\n",
            "Total test samples: 3892\n"
          ],
          "name": "stdout"
        }
      ]
    },
    {
      "cell_type": "markdown",
      "metadata": {
        "id": "BV3wXeqqdadT"
      },
      "source": [
        "Grades Normalization (making all the grades in the range from 0 to 1)"
      ]
    },
    {
      "cell_type": "code",
      "metadata": {
        "id": "jDwZ-paPYT51"
      },
      "source": [
        "column = 'grades'\n",
        "train[column] = (train[column] - train[column].min()) / (train[column].max() - train[column].min())\n",
        "val[column] = (val[column] - val[column].min()) / (val[column].max() - val[column].min())\n",
        "test[column] = (test[column] - test[column].min()) / (test[column].max() - test[column].min())"
      ],
      "execution_count": null,
      "outputs": []
    },
    {
      "cell_type": "markdown",
      "metadata": {
        "id": "cI7b-0iJeXIq"
      },
      "source": [
        "determine the labels for training, validation and testing"
      ]
    },
    {
      "cell_type": "code",
      "metadata": {
        "id": "ZPEgPix5YT53"
      },
      "source": [
        "y_train=train[column]\n",
        "y_val=val[column]\n",
        "y_test=test[column]"
      ],
      "execution_count": null,
      "outputs": []
    },
    {
      "cell_type": "markdown",
      "metadata": {
        "id": "y5FrPSZcfQOX"
      },
      "source": [
        "# BertSemanticDataGenerator\n",
        "This class generates the batches of data to pass them to the model in the desired form."
      ]
    },
    {
      "cell_type": "code",
      "metadata": {
        "id": "LLVsm7TxEtjq"
      },
      "source": [
        "class BertSemanticDataGenerator(tf.keras.utils.Sequence):\n",
        "    \"\"\"Generates batches of data.\n",
        "\n",
        "    Args:\n",
        "        sentence_pairs: Array of premise and hypothesis input sentences.\n",
        "        labels: Array of labels.\n",
        "        batch_size: Integer batch size.\n",
        "        shuffle: boolean, whether to shuffle the data.\n",
        "        include_targets: boolean, whether to incude the labels.\n",
        "\n",
        "    Returns:\n",
        "        Tuples `([input_ids, attention_mask, `token_type_ids], labels)`\n",
        "        (or just `[input_ids, attention_mask, `token_type_ids]`\n",
        "         if `include_targets=False`)\n",
        "    \"\"\"\n",
        "\n",
        "    def __init__(\n",
        "        self,\n",
        "        sentence_pairs,\n",
        "        labels,\n",
        "        batch_size=batch_size,\n",
        "        shuffle=False,\n",
        "        include_targets=True,\n",
        "    ):\n",
        "        self.sentence_pairs = sentence_pairs\n",
        "        self.labels = labels\n",
        "        self.shuffle = shuffle\n",
        "        self.batch_size = batch_size\n",
        "        self.include_targets = include_targets\n",
        "        # Load our BERT Tokenizer to encode the text.\n",
        "        # We will use base-base-uncased pretrained model.\n",
        "        self.tokenizer = transformers.BertTokenizer.from_pretrained(\n",
        "            \"bert-base-uncased\", do_lower_case=True\n",
        "        )\n",
        "        self.indexes = np.arange(len(self.sentence_pairs))\n",
        "        self.on_epoch_end()\n",
        "\n",
        "    def __len__(self):\n",
        "        # Denotes the number of batches per epoch.\n",
        "        return len(self.sentence_pairs) // self.batch_size\n",
        "\n",
        "    def __getitem__(self, idx):\n",
        "        # Retrieves the batch of index.\n",
        "        indexes = self.indexes[idx * self.batch_size : (idx + 1) * self.batch_size]\n",
        "        sentence_pairs = self.sentence_pairs[indexes]\n",
        "\n",
        "        # With BERT tokenizer's batch_encode_plus batch of both the sentences are\n",
        "        # encoded together and separated by [SEP] token.\n",
        "        encoded = self.tokenizer.batch_encode_plus(\n",
        "            sentence_pairs.tolist(),\n",
        "            add_special_tokens=True,\n",
        "            max_length=max_length,\n",
        "            return_attention_mask=True,\n",
        "            return_token_type_ids=True,\n",
        "            pad_to_max_length=True,\n",
        "            return_tensors=\"tf\",\n",
        "        )\n",
        "\n",
        "        # Convert batch of encoded features to numpy array.\n",
        "        input_ids = np.array(encoded[\"input_ids\"], dtype=\"int32\")\n",
        "        attention_masks = np.array(encoded[\"attention_mask\"], dtype=\"int32\")\n",
        "        token_type_ids = np.array(encoded[\"token_type_ids\"], dtype=\"int32\")\n",
        "\n",
        "        # Set to true if data generator is used for training/validation.\n",
        "        if self.include_targets:\n",
        "            labels = np.array(self.labels[indexes], dtype=\"float64\")\n",
        "            return [input_ids, attention_masks, token_type_ids], labels\n",
        "        else:\n",
        "            return [input_ids, attention_masks, token_type_ids]\n",
        "\n",
        "    def on_epoch_end(self):\n",
        "        # Shuffle indexes after each epoch if shuffle is set to True.\n",
        "        if self.shuffle:\n",
        "            np.random.RandomState(42).shuffle(self.indexes)\n"
      ],
      "execution_count": null,
      "outputs": []
    },
    {
      "cell_type": "markdown",
      "metadata": {
        "id": "KwPAdsCyh19u"
      },
      "source": [
        "# Pearson Correlation & Root Mean Square Error\n",
        "Pearson correlation coefficlent : $r_{xy} = \\frac{\\sum\\left((x-\\overline{x})(y-\\overline{y})\\right)}{\\sqrt{\\sum(x-\\overline{x})^2\\sum(y-\\overline{y})^2}} $"
      ]
    },
    {
      "cell_type": "code",
      "metadata": {
        "id": "rIdXZkBMp7G9"
      },
      "source": [
        "def tmean(x, axis=-1):\n",
        "  \"\"\"Function calculates the Arithmetic mean of a tensor over some axis, default last.\"\"\"\n",
        "  x = tf.convert_to_tensor(x)\n",
        "  sum = tf.reduce_sum(x, axis=axis)\n",
        "  n = tf.cast(tf.shape(x)[axis], x.dtype)\n",
        "  return sum / n\n",
        "\n",
        "def PearsonCorrelation(x, y, axis=-2):\n",
        "  \"\"\"Metric returning the Pearson correlation coefficient of two tensors over some axis, default -2.\"\"\"\n",
        "  x = tf.convert_to_tensor(x)\n",
        "  y = math_ops.cast(y, x.dtype)\n",
        "  n = tf.cast(tf.shape(x)[axis], x.dtype)\n",
        "  xsum = tf.reduce_sum(x, axis=axis)\n",
        "  ysum = tf.reduce_sum(y, axis=axis)\n",
        "  xmean = xsum / n\n",
        "  ymean = ysum / n\n",
        "  xvar = tf.reduce_sum( tf.math.squared_difference(x, xmean), axis=axis)\n",
        "  yvar = tf.reduce_sum( tf.math.squared_difference(y, ymean), axis=axis)\n",
        "  cov = tf.reduce_sum( (x - xmean) * (y - ymean), axis=axis)\n",
        "  corr = cov / tf.sqrt(xvar * yvar)\n",
        "  return corr\n",
        "\n",
        "def RMSE(x, y):\n",
        "  \"\"\"Metric returning the RMSE of two tensors over some axis\"\"\"\n",
        "  return K.sqrt(K.mean(K.square(x - y)))"
      ],
      "execution_count": null,
      "outputs": []
    },
    {
      "cell_type": "markdown",
      "metadata": {
        "id": "eLbqoBaeipRG"
      },
      "source": [
        "# Building the model"
      ]
    },
    {
      "cell_type": "code",
      "metadata": {
        "colab": {
          "base_uri": "https://localhost:8080/",
          "height": 713,
          "referenced_widgets": [
            "b75ddd1ead054595b2da02adbbc3c548",
            "085b2db24fb64f18b7b81721ee3d2bd9",
            "c0f63f42f0fd40bca942549063520ddf",
            "cd4fdeb97a8e4bd7b4f4db3979b66e40",
            "e2e9e20f3b6c4dcaa9de8a0a32849fec",
            "5877fc3765644dff9ae6880156636da2",
            "e9642779935340ed917bba90b689a4c5",
            "541e672a7d0e45cebc6e20310d86a911",
            "6e39488d3ca54edcb03251467fc3f6d3",
            "060d442d2e934de3a350a65f1b039637",
            "1e3a52481f3d421d86e689828bc6136d",
            "02f75faad5154067bb4692114b3228eb",
            "4b25dcf5ce9f422d839e13c7e602c176",
            "6df2fa009f73419683872796852f4765",
            "5e51fa439d1346b5a339c10364662d77",
            "be374082ead64f97a31779f71fb41886"
          ]
        },
        "id": "HDTd-h8VEtjr",
        "outputId": "a560e429-4851-4ebf-d536-3caa97d6143b"
      },
      "source": [
        "# Encoded token ids from BERT tokenizer.\n",
        "input_ids = tf.keras.layers.Input(shape=(max_length,), dtype=tf.int32, name=\"input_ids\")\n",
        "\n",
        "# Attention masks indicates to the model which tokens should be attended to.\n",
        "attention_masks = tf.keras.layers.Input(shape=(max_length,), dtype=tf.int32, name=\"attention_masks\")\n",
        "\n",
        "# Token type ids are binary masks identifying different sequences in the model.\n",
        "token_type_ids = tf.keras.layers.Input(shape=(max_length,), dtype=tf.int32, name=\"token_type_ids\")\n",
        "\n",
        "# Loading pretrained BERT model.\n",
        "bert_model = transformers.TFBertModel.from_pretrained(\"bert-base-uncased\")\n",
        "# Freeze the BERT model to reuse the pretrained features without modifying them.\n",
        "bert_model.trainable = False\n",
        "\n",
        "sequence_output, pooled_output = bert_model(input_ids, attention_mask=attention_masks, token_type_ids=token_type_ids)\n",
        "\n",
        "# Add trainable layers on top of frozen layers to adapt the pretrained features on the new data.\n",
        "bi_lstm = tf.keras.layers.Bidirectional(tf.keras.layers.LSTM(64, return_sequences=True))(sequence_output)\n",
        "# Applying hybrid pooling approach to bi_lstm sequence output.\n",
        "avg_pool = tf.keras.layers.GlobalAveragePooling1D()(bi_lstm)\n",
        "max_pool = tf.keras.layers.GlobalMaxPooling1D()(bi_lstm)\n",
        "concat = tf.keras.layers.concatenate([avg_pool, max_pool])\n",
        "dropout = tf.keras.layers.Dropout(0.3)(concat)\n",
        "output = tf.keras.layers.Dense(1 ,activation=\"ReLU\",kernel_initializer='normal')(dropout)\n",
        "model = tf.keras.models.Model(inputs=[input_ids, attention_masks, token_type_ids], outputs=output)\n",
        "\n",
        "model.compile(loss=\"mse\" , optimizer='adam', metrics=[PearsonCorrelation,RMSE])\n",
        "\n",
        "model.summary()"
      ],
      "execution_count": null,
      "outputs": [
        {
          "output_type": "display_data",
          "data": {
            "application/vnd.jupyter.widget-view+json": {
              "model_id": "b75ddd1ead054595b2da02adbbc3c548",
              "version_minor": 0,
              "version_major": 2
            },
            "text/plain": [
              "HBox(children=(FloatProgress(value=0.0, description='Downloading', max=433.0, style=ProgressStyle(description_…"
            ]
          },
          "metadata": {
            "tags": []
          }
        },
        {
          "output_type": "stream",
          "text": [
            "\n"
          ],
          "name": "stdout"
        },
        {
          "output_type": "display_data",
          "data": {
            "application/vnd.jupyter.widget-view+json": {
              "model_id": "6e39488d3ca54edcb03251467fc3f6d3",
              "version_minor": 0,
              "version_major": 2
            },
            "text/plain": [
              "HBox(children=(FloatProgress(value=0.0, description='Downloading', max=536063208.0, style=ProgressStyle(descri…"
            ]
          },
          "metadata": {
            "tags": []
          }
        },
        {
          "output_type": "stream",
          "text": [
            "\n",
            "WARNING:tensorflow:From /usr/local/lib/python3.7/dist-packages/tensorflow/python/ops/array_ops.py:5049: calling gather (from tensorflow.python.ops.array_ops) with validate_indices is deprecated and will be removed in a future version.\n",
            "Instructions for updating:\n",
            "The `validate_indices` argument has no effect. Indices are always validated on CPU and never validated on GPU.\n",
            "Model: \"model\"\n",
            "__________________________________________________________________________________________________\n",
            "Layer (type)                    Output Shape         Param #     Connected to                     \n",
            "==================================================================================================\n",
            "input_ids (InputLayer)          [(None, 128)]        0                                            \n",
            "__________________________________________________________________________________________________\n",
            "attention_masks (InputLayer)    [(None, 128)]        0                                            \n",
            "__________________________________________________________________________________________________\n",
            "token_type_ids (InputLayer)     [(None, 128)]        0                                            \n",
            "__________________________________________________________________________________________________\n",
            "tf_bert_model (TFBertModel)     ((None, 128, 768), ( 109482240   input_ids[0][0]                  \n",
            "                                                                 attention_masks[0][0]            \n",
            "                                                                 token_type_ids[0][0]             \n",
            "__________________________________________________________________________________________________\n",
            "bidirectional (Bidirectional)   (None, 128, 128)     426496      tf_bert_model[0][0]              \n",
            "__________________________________________________________________________________________________\n",
            "global_average_pooling1d (Globa (None, 128)          0           bidirectional[0][0]              \n",
            "__________________________________________________________________________________________________\n",
            "global_max_pooling1d (GlobalMax (None, 128)          0           bidirectional[0][0]              \n",
            "__________________________________________________________________________________________________\n",
            "concatenate (Concatenate)       (None, 256)          0           global_average_pooling1d[0][0]   \n",
            "                                                                 global_max_pooling1d[0][0]       \n",
            "__________________________________________________________________________________________________\n",
            "dropout_37 (Dropout)            (None, 256)          0           concatenate[0][0]                \n",
            "__________________________________________________________________________________________________\n",
            "dense (Dense)                   (None, 1)            257         dropout_37[0][0]                 \n",
            "==================================================================================================\n",
            "Total params: 109,908,993\n",
            "Trainable params: 426,753\n",
            "Non-trainable params: 109,482,240\n",
            "__________________________________________________________________________________________________\n"
          ],
          "name": "stdout"
        }
      ]
    },
    {
      "cell_type": "markdown",
      "metadata": {
        "id": "0aspXDi7ivxh"
      },
      "source": [
        "# Passing the training, validation and testing data to the model"
      ]
    },
    {
      "cell_type": "code",
      "metadata": {
        "id": "WqYRHxxvEtjs",
        "colab": {
          "base_uri": "https://localhost:8080/",
          "height": 66,
          "referenced_widgets": [
            "3d19e0756dba42d9a4c2c271902f8303",
            "8edede393c024c60b608948828924e73",
            "e2f648a09f6a41c7994f8a1d4b6aa85b",
            "b968102606464168a0ad0cc8c0d6834f",
            "03ed3f70ab574b3ab592b26e25d4d0cd",
            "02b874a1fbcc47a7984a844eae0af351",
            "e96f2843f0a54257b3967c09a3441217",
            "e528663838324d42a6a0d4d83f972a9a"
          ]
        },
        "outputId": "65329fad-0a66-42ce-dc37-8d8cf67ed3fc"
      },
      "source": [
        "train_data = BertSemanticDataGenerator(\n",
        "    train[[\"model_answer\", \"student_answer\"]].values.astype(\"str\"),\n",
        "    y_train.values,\n",
        "    batch_size=batch_size,\n",
        "    shuffle=True,)\n",
        "\n",
        "val_data = BertSemanticDataGenerator(\n",
        "    val[[\"model_answer\", \"student_answer\"]].values.astype(\"str\"),\n",
        "    y_val.values,\n",
        "    batch_size=batch_size,\n",
        "    shuffle=False,)\n",
        "\n",
        "test_data = BertSemanticDataGenerator(\n",
        "    test[[\"model_answer\", \"student_answer\"]].values.astype(\"str\"),\n",
        "    y_test.values,\n",
        "    batch_size=batch_size,\n",
        "    shuffle=False,)"
      ],
      "execution_count": null,
      "outputs": [
        {
          "output_type": "display_data",
          "data": {
            "application/vnd.jupyter.widget-view+json": {
              "model_id": "3d19e0756dba42d9a4c2c271902f8303",
              "version_minor": 0,
              "version_major": 2
            },
            "text/plain": [
              "HBox(children=(FloatProgress(value=0.0, description='Downloading', max=231508.0, style=ProgressStyle(descripti…"
            ]
          },
          "metadata": {
            "tags": []
          }
        },
        {
          "output_type": "stream",
          "text": [
            "\n"
          ],
          "name": "stdout"
        }
      ]
    },
    {
      "cell_type": "markdown",
      "metadata": {
        "id": "s3mgiCTAEtjt"
      },
      "source": [
        "# Training and Testing the Model\n",
        "\n",
        "Training is done only for the top layers to perform \"feature extraction\",\n",
        "which will allow the model to use the representations of the pretrained model."
      ]
    },
    {
      "cell_type": "code",
      "metadata": {
        "colab": {
          "base_uri": "https://localhost:8080/"
        },
        "id": "nao0otC8Etjt",
        "outputId": "50d442f9-b332-44a0-8f57-012ad76efefc"
      },
      "source": [
        "history = model.fit(train_data,validation_data=val_data,epochs=epochs)"
      ],
      "execution_count": null,
      "outputs": [
        {
          "output_type": "stream",
          "text": [
            "Epoch 1/5\n",
            "567/567 [==============================] - 227s 373ms/step - loss: 0.0417 - PearsonCorrelation: 0.7576 - RMSE: 0.2010 - val_loss: 0.0322 - val_PearsonCorrelation: 0.8356 - val_RMSE: 0.1775\n",
            "Epoch 2/5\n",
            "567/567 [==============================] - 212s 373ms/step - loss: 0.0318 - PearsonCorrelation: 0.8215 - RMSE: 0.1767 - val_loss: 0.0264 - val_PearsonCorrelation: 0.8512 - val_RMSE: 0.1607\n",
            "Epoch 3/5\n",
            "567/567 [==============================] - 212s 373ms/step - loss: 0.0295 - PearsonCorrelation: 0.8325 - RMSE: 0.1703 - val_loss: 0.0245 - val_PearsonCorrelation: 0.8575 - val_RMSE: 0.1546\n",
            "Epoch 4/5\n",
            "567/567 [==============================] - 212s 373ms/step - loss: 0.0278 - PearsonCorrelation: 0.8433 - RMSE: 0.1651 - val_loss: 0.0240 - val_PearsonCorrelation: 0.8641 - val_RMSE: 0.1534\n",
            "Epoch 5/5\n",
            "567/567 [==============================] - 212s 373ms/step - loss: 0.0264 - PearsonCorrelation: 0.8535 - RMSE: 0.1609 - val_loss: 0.0252 - val_PearsonCorrelation: 0.8667 - val_RMSE: 0.1566\n"
          ],
          "name": "stdout"
        }
      ]
    },
    {
      "cell_type": "code",
      "metadata": {
        "colab": {
          "base_uri": "https://localhost:8080/"
        },
        "id": "IT84-TnFtVxQ",
        "outputId": "9d9440a4-c381-453f-ebde-6ae36ff06088"
      },
      "source": [
        "model.evaluate(test_data, verbose=1)"
      ],
      "execution_count": null,
      "outputs": [
        {
          "output_type": "stream",
          "text": [
            "121/121 [==============================] - 35s 287ms/step - loss: 0.0258 - PearsonCorrelation: 0.8646 - RMSE: 0.1586\n"
          ],
          "name": "stdout"
        },
        {
          "output_type": "execute_result",
          "data": {
            "text/plain": [
              "[0.025815829634666443, 0.8645845651626587, 0.15857449173927307]"
            ]
          },
          "metadata": {
            "tags": []
          },
          "execution_count": 12
        }
      ]
    },
    {
      "cell_type": "markdown",
      "metadata": {
        "id": "4kNjX3toEtju"
      },
      "source": [
        "## Fine-tuning\n",
        "\n",
        "This step must only be performed after the feature extraction model has\n",
        "been trained to convergence on the new data.\n",
        "\n",
        "This is the last step where `bert_model` is unfreezed and retrained\n",
        "with a very low learning rate. This can deliver meaningful improvement by\n",
        "incrementally adapting the pretrained features to the new data."
      ]
    },
    {
      "cell_type": "code",
      "metadata": {
        "id": "UPHeDBZEEtju",
        "colab": {
          "base_uri": "https://localhost:8080/"
        },
        "outputId": "c24cec3f-47f5-421f-a592-c5ae987ec4c6"
      },
      "source": [
        "# Unfreeze the bert_model.\n",
        "bert_model.trainable = True\n",
        "# Recompile the model to make the change effective.\n",
        "model.compile(optimizer=tf.keras.optimizers.Adam(1e-5),loss=\"mse\",metrics=[PearsonCorrelation,RMSE])\n",
        "\n",
        "model.summary()"
      ],
      "execution_count": null,
      "outputs": [
        {
          "output_type": "stream",
          "text": [
            "Model: \"model\"\n",
            "__________________________________________________________________________________________________\n",
            "Layer (type)                    Output Shape         Param #     Connected to                     \n",
            "==================================================================================================\n",
            "input_ids (InputLayer)          [(None, 128)]        0                                            \n",
            "__________________________________________________________________________________________________\n",
            "attention_masks (InputLayer)    [(None, 128)]        0                                            \n",
            "__________________________________________________________________________________________________\n",
            "token_type_ids (InputLayer)     [(None, 128)]        0                                            \n",
            "__________________________________________________________________________________________________\n",
            "tf_bert_model (TFBertModel)     ((None, 128, 768), ( 109482240   input_ids[0][0]                  \n",
            "                                                                 attention_masks[0][0]            \n",
            "                                                                 token_type_ids[0][0]             \n",
            "__________________________________________________________________________________________________\n",
            "bidirectional (Bidirectional)   (None, 128, 128)     426496      tf_bert_model[0][0]              \n",
            "__________________________________________________________________________________________________\n",
            "global_average_pooling1d (Globa (None, 128)          0           bidirectional[0][0]              \n",
            "__________________________________________________________________________________________________\n",
            "global_max_pooling1d (GlobalMax (None, 128)          0           bidirectional[0][0]              \n",
            "__________________________________________________________________________________________________\n",
            "concatenate (Concatenate)       (None, 256)          0           global_average_pooling1d[0][0]   \n",
            "                                                                 global_max_pooling1d[0][0]       \n",
            "__________________________________________________________________________________________________\n",
            "dropout_37 (Dropout)            (None, 256)          0           concatenate[0][0]                \n",
            "__________________________________________________________________________________________________\n",
            "dense (Dense)                   (None, 1)            257         dropout_37[0][0]                 \n",
            "==================================================================================================\n",
            "Total params: 109,908,993\n",
            "Trainable params: 109,908,993\n",
            "Non-trainable params: 0\n",
            "__________________________________________________________________________________________________\n"
          ],
          "name": "stdout"
        }
      ]
    },
    {
      "cell_type": "markdown",
      "metadata": {
        "id": "kjRimMvDEtjv"
      },
      "source": [
        "# Train the entire model end-to-end."
      ]
    },
    {
      "cell_type": "code",
      "metadata": {
        "colab": {
          "base_uri": "https://localhost:8080/"
        },
        "id": "QzaW6Mp9Etjv",
        "outputId": "28b93657-d549-4b07-e9ea-e3f5efea8567"
      },
      "source": [
        "history = model.fit(train_data,validation_data=val_data,epochs=epochs,use_multiprocessing=False,workers=-1)"
      ],
      "execution_count": null,
      "outputs": [
        {
          "output_type": "stream",
          "text": [
            "Epoch 1/5\n",
            "WARNING:tensorflow:Gradients do not exist for variables ['tf_bert_model/bert/pooler/dense/kernel:0', 'tf_bert_model/bert/pooler/dense/bias:0'] when minimizing the loss.\n",
            "WARNING:tensorflow:Gradients do not exist for variables ['tf_bert_model/bert/pooler/dense/kernel:0', 'tf_bert_model/bert/pooler/dense/bias:0'] when minimizing the loss.\n",
            "567/567 [==============================] - 534s 914ms/step - loss: 0.0229 - PearsonCorrelation: 0.8733 - RMSE: 0.1499 - val_loss: 0.0208 - val_PearsonCorrelation: 0.8906 - val_RMSE: 0.1423\n",
            "Epoch 2/5\n",
            "567/567 [==============================] - 515s 908ms/step - loss: 0.0182 - PearsonCorrelation: 0.9002 - RMSE: 0.1335 - val_loss: 0.0184 - val_PearsonCorrelation: 0.8959 - val_RMSE: 0.1337\n",
            "Epoch 3/5\n",
            "567/567 [==============================] - 515s 908ms/step - loss: 0.0156 - PearsonCorrelation: 0.9145 - RMSE: 0.1236 - val_loss: 0.0187 - val_PearsonCorrelation: 0.8979 - val_RMSE: 0.1348\n",
            "Epoch 4/5\n",
            "567/567 [==============================] - 515s 908ms/step - loss: 0.0132 - PearsonCorrelation: 0.9295 - RMSE: 0.1135 - val_loss: 0.0186 - val_PearsonCorrelation: 0.8963 - val_RMSE: 0.1339\n",
            "Epoch 5/5\n",
            "567/567 [==============================] - 515s 909ms/step - loss: 0.0114 - PearsonCorrelation: 0.9389 - RMSE: 0.1055 - val_loss: 0.0189 - val_PearsonCorrelation: 0.8982 - val_RMSE: 0.1351\n"
          ],
          "name": "stdout"
        }
      ]
    },
    {
      "cell_type": "markdown",
      "metadata": {
        "id": "PqDRpiq1plDX"
      },
      "source": [
        "#Plot the \"Pearson correlation & RMSE\" for both training and validation with each epoch"
      ]
    },
    {
      "cell_type": "code",
      "metadata": {
        "id": "wVEL5LZCpqrK",
        "colab": {
          "base_uri": "https://localhost:8080/",
          "height": 391
        },
        "outputId": "617c8627-7e9b-4be3-d8aa-8b9134d28ad7"
      },
      "source": [
        "hist = pd.DataFrame(history.history)\n",
        "hist =hist.drop(['loss','val_loss'], axis=1)\n",
        "pd.DataFrame(hist).plot(logy=False, figsize=(12.5,6))"
      ],
      "execution_count": null,
      "outputs": [
        {
          "output_type": "execute_result",
          "data": {
            "text/plain": [
              "<matplotlib.axes._subplots.AxesSubplot at 0x7f6a38996110>"
            ]
          },
          "metadata": {
            "tags": []
          },
          "execution_count": 15
        },
        {
          "output_type": "display_data",
          "data": {
            "image/png": "[encoded data removed]",
            "text/plain": [
              "<Figure size 900x432 with 1 Axes>"
            ]
          },
          "metadata": {
            "tags": [],
            "needs_background": "light"
          }
        }
      ]
    },
    {
      "cell_type": "markdown",
      "metadata": {
        "id": "NEh2Gba0Etjv"
      },
      "source": [
        "## Evaluate model on the test set"
      ]
    },
    {
      "cell_type": "code",
      "metadata": {
        "id": "dX6K_Yz0Etjw",
        "colab": {
          "base_uri": "https://localhost:8080/"
        },
        "outputId": "195da8b3-0d48-42fb-efa9-bac9e2cdea78"
      },
      "source": [
        "model.evaluate(test_data, verbose=1)"
      ],
      "execution_count": null,
      "outputs": [
        {
          "output_type": "stream",
          "text": [
            "121/121 [==============================] - 35s 288ms/step - loss: 0.0210 - PearsonCorrelation: 0.8893 - RMSE: 0.1426\n"
          ],
          "name": "stdout"
        },
        {
          "output_type": "execute_result",
          "data": {
            "text/plain": [
              "[0.020975781604647636, 0.889308750629425, 0.1426384449005127]"
            ]
          },
          "metadata": {
            "tags": []
          },
          "execution_count": 16
        }
      ]
    }
  ]
}